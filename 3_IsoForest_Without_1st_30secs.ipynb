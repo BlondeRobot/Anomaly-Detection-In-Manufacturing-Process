{
 "cells": [
  {
   "cell_type": "code",
   "execution_count": null,
   "id": "7a3d61e5",
   "metadata": {},
   "outputs": [],
   "source": [
    "#check environment\n",
    "import sys\n",
    "print(sys.executable)"
   ]
  },
  {
   "cell_type": "code",
   "execution_count": 1,
   "id": "3d196956",
   "metadata": {},
   "outputs": [
    {
     "name": "stderr",
     "output_type": "stream",
     "text": [
      "2025-06-11 19:51:47.182120: I tensorflow/core/platform/cpu_feature_guard.cc:210] This TensorFlow binary is optimized to use available CPU instructions in performance-critical operations.\n",
      "To enable the following instructions: AVX2 FMA, in other operations, rebuild TensorFlow with the appropriate compiler flags.\n"
     ]
    }
   ],
   "source": [
    "import plotly\n",
    "import plotly.graph_objs as go\n",
    "import pandas as pd\n",
    "import matplotlib.pyplot as plt\n",
    "import numpy as np\n",
    "import seaborn as sns\n",
    "sns.set()\n",
    "from collections import Counter\n",
    "\n",
    "from scipy.special import expit\n",
    "\n",
    "from sklearn.model_selection import train_test_split,RepeatedStratifiedKFold,cross_val_score, GridSearchCV\n",
    "from sklearn import tree\n",
    "\n",
    "from sklearn.metrics import accuracy_score,classification_report,confusion_matrix, roc_curve, roc_auc_score\n",
    "from sklearn.ensemble import RandomForestClassifier\n",
    "from sklearn.linear_model import LogisticRegression\n",
    "#from optbinning import BinningProcess, OptimalBinning # Para cáclulos WOE e IV\n",
    "from mlxtend.feature_selection import SequentialFeatureSelector as SFS\n",
    "\n",
    "from statsmodels.stats.outliers_influence import variance_inflation_factor\n",
    "from sklearn.metrics import r2_score\n",
    "\n",
    "from sklearn.preprocessing import StandardScaler, MinMaxScaler\n",
    "\n",
    "from imblearn.over_sampling import RandomOverSampler\n",
    "\n",
    "from tensorflow.keras.models import Sequential, model_from_json\n",
    "from tensorflow.keras.layers import Dense, BatchNormalization, Dropout\n",
    "from tensorflow.keras.optimizers import Adam\n",
    "from tensorflow.keras.metrics import Recall, Precision\n",
    "from tensorflow.keras.callbacks import EarlyStopping\n",
    "from tensorflow.keras.regularizers import l2, l1\n",
    "\n",
    "from tabulate import tabulate\n",
    "\n",
    "import statsmodels.api as sm\n",
    "import statsmodels.formula.api as smf"
   ]
  },
  {
   "cell_type": "code",
   "execution_count": 2,
   "id": "7c1a47a3",
   "metadata": {},
   "outputs": [
    {
     "data": {
      "text/html": [
       "<div>\n",
       "<style scoped>\n",
       "    .dataframe tbody tr th:only-of-type {\n",
       "        vertical-align: middle;\n",
       "    }\n",
       "\n",
       "    .dataframe tbody tr th {\n",
       "        vertical-align: top;\n",
       "    }\n",
       "\n",
       "    .dataframe thead th {\n",
       "        text-align: right;\n",
       "    }\n",
       "</style>\n",
       "<table border=\"1\" class=\"dataframe\">\n",
       "  <thead>\n",
       "    <tr style=\"text-align: right;\">\n",
       "      <th></th>\n",
       "      <th>momento</th>\n",
       "      <th>1-0005</th>\n",
       "      <th>5-0005</th>\n",
       "      <th>1-_006</th>\n",
       "      <th>5-_006</th>\n",
       "      <th>1-_007</th>\n",
       "      <th>5-_007</th>\n",
       "      <th>1-_008</th>\n",
       "      <th>5-_008</th>\n",
       "      <th>1-_010</th>\n",
       "      <th>...</th>\n",
       "      <th>1-_098</th>\n",
       "      <th>5-_098</th>\n",
       "      <th>1-_099</th>\n",
       "      <th>5-_099</th>\n",
       "      <th>1-0112</th>\n",
       "      <th>5-0112</th>\n",
       "      <th>1-0116</th>\n",
       "      <th>5-0116</th>\n",
       "      <th>1-0109</th>\n",
       "      <th>5-0109</th>\n",
       "    </tr>\n",
       "  </thead>\n",
       "  <tbody>\n",
       "    <tr>\n",
       "      <th>0</th>\n",
       "      <td>1</td>\n",
       "      <td>-588.88</td>\n",
       "      <td>-580.21</td>\n",
       "      <td>-590.50</td>\n",
       "      <td>-582.25</td>\n",
       "      <td>-593.51</td>\n",
       "      <td>-585.46</td>\n",
       "      <td>-595.51</td>\n",
       "      <td>-587.47</td>\n",
       "      <td>-575.36</td>\n",
       "      <td>...</td>\n",
       "      <td>-588.17</td>\n",
       "      <td>-581.42</td>\n",
       "      <td>-594.26</td>\n",
       "      <td>-586.26</td>\n",
       "      <td>-589.46</td>\n",
       "      <td>-581.75</td>\n",
       "      <td>-592.92</td>\n",
       "      <td>-586.26</td>\n",
       "      <td>-593.93</td>\n",
       "      <td>-586.30</td>\n",
       "    </tr>\n",
       "    <tr>\n",
       "      <th>1</th>\n",
       "      <td>2</td>\n",
       "      <td>-588.38</td>\n",
       "      <td>-579.71</td>\n",
       "      <td>-590.80</td>\n",
       "      <td>-582.46</td>\n",
       "      <td>-593.80</td>\n",
       "      <td>-585.67</td>\n",
       "      <td>-595.55</td>\n",
       "      <td>-587.59</td>\n",
       "      <td>-574.11</td>\n",
       "      <td>...</td>\n",
       "      <td>-588.34</td>\n",
       "      <td>-581.63</td>\n",
       "      <td>-594.51</td>\n",
       "      <td>-586.26</td>\n",
       "      <td>-589.29</td>\n",
       "      <td>-581.58</td>\n",
       "      <td>-592.80</td>\n",
       "      <td>-586.26</td>\n",
       "      <td>-594.13</td>\n",
       "      <td>-586.51</td>\n",
       "    </tr>\n",
       "    <tr>\n",
       "      <th>2</th>\n",
       "      <td>3</td>\n",
       "      <td>-584.41</td>\n",
       "      <td>-575.74</td>\n",
       "      <td>-585.83</td>\n",
       "      <td>-577.66</td>\n",
       "      <td>-591.38</td>\n",
       "      <td>-583.21</td>\n",
       "      <td>-589.84</td>\n",
       "      <td>-578.04</td>\n",
       "      <td>-563.34</td>\n",
       "      <td>...</td>\n",
       "      <td>-588.17</td>\n",
       "      <td>-581.33</td>\n",
       "      <td>-592.88</td>\n",
       "      <td>-584.34</td>\n",
       "      <td>-588.50</td>\n",
       "      <td>-580.62</td>\n",
       "      <td>-590.21</td>\n",
       "      <td>-583.75</td>\n",
       "      <td>-593.68</td>\n",
       "      <td>-585.84</td>\n",
       "    </tr>\n",
       "    <tr>\n",
       "      <th>3</th>\n",
       "      <td>4</td>\n",
       "      <td>-573.73</td>\n",
       "      <td>-565.27</td>\n",
       "      <td>-570.31</td>\n",
       "      <td>-562.81</td>\n",
       "      <td>-578.91</td>\n",
       "      <td>-571.24</td>\n",
       "      <td>-578.61</td>\n",
       "      <td>-565.90</td>\n",
       "      <td>-555.00</td>\n",
       "      <td>...</td>\n",
       "      <td>-584.79</td>\n",
       "      <td>-576.87</td>\n",
       "      <td>-580.62</td>\n",
       "      <td>-568.15</td>\n",
       "      <td>-586.96</td>\n",
       "      <td>-578.75</td>\n",
       "      <td>-578.66</td>\n",
       "      <td>-571.19</td>\n",
       "      <td>-590.88</td>\n",
       "      <td>-582.63</td>\n",
       "    </tr>\n",
       "    <tr>\n",
       "      <th>4</th>\n",
       "      <td>5</td>\n",
       "      <td>-567.27</td>\n",
       "      <td>-558.55</td>\n",
       "      <td>-562.26</td>\n",
       "      <td>-554.55</td>\n",
       "      <td>-570.69</td>\n",
       "      <td>-562.93</td>\n",
       "      <td>-567.18</td>\n",
       "      <td>-557.51</td>\n",
       "      <td>-545.99</td>\n",
       "      <td>...</td>\n",
       "      <td>-579.11</td>\n",
       "      <td>-570.99</td>\n",
       "      <td>-572.11</td>\n",
       "      <td>-560.43</td>\n",
       "      <td>-583.45</td>\n",
       "      <td>-574.91</td>\n",
       "      <td>-571.06</td>\n",
       "      <td>-563.56</td>\n",
       "      <td>-587.38</td>\n",
       "      <td>-578.71</td>\n",
       "    </tr>\n",
       "    <tr>\n",
       "      <th>...</th>\n",
       "      <td>...</td>\n",
       "      <td>...</td>\n",
       "      <td>...</td>\n",
       "      <td>...</td>\n",
       "      <td>...</td>\n",
       "      <td>...</td>\n",
       "      <td>...</td>\n",
       "      <td>...</td>\n",
       "      <td>...</td>\n",
       "      <td>...</td>\n",
       "      <td>...</td>\n",
       "      <td>...</td>\n",
       "      <td>...</td>\n",
       "      <td>...</td>\n",
       "      <td>...</td>\n",
       "      <td>...</td>\n",
       "      <td>...</td>\n",
       "      <td>...</td>\n",
       "      <td>...</td>\n",
       "      <td>...</td>\n",
       "      <td>...</td>\n",
       "    </tr>\n",
       "    <tr>\n",
       "      <th>636</th>\n",
       "      <td>637</td>\n",
       "      <td>-237.18</td>\n",
       "      <td>-253.66</td>\n",
       "      <td>NaN</td>\n",
       "      <td>NaN</td>\n",
       "      <td>NaN</td>\n",
       "      <td>NaN</td>\n",
       "      <td>NaN</td>\n",
       "      <td>NaN</td>\n",
       "      <td>NaN</td>\n",
       "      <td>...</td>\n",
       "      <td>NaN</td>\n",
       "      <td>NaN</td>\n",
       "      <td>NaN</td>\n",
       "      <td>NaN</td>\n",
       "      <td>NaN</td>\n",
       "      <td>NaN</td>\n",
       "      <td>NaN</td>\n",
       "      <td>NaN</td>\n",
       "      <td>NaN</td>\n",
       "      <td>NaN</td>\n",
       "    </tr>\n",
       "    <tr>\n",
       "      <th>637</th>\n",
       "      <td>638</td>\n",
       "      <td>-237.10</td>\n",
       "      <td>-253.70</td>\n",
       "      <td>NaN</td>\n",
       "      <td>NaN</td>\n",
       "      <td>NaN</td>\n",
       "      <td>NaN</td>\n",
       "      <td>NaN</td>\n",
       "      <td>NaN</td>\n",
       "      <td>NaN</td>\n",
       "      <td>...</td>\n",
       "      <td>NaN</td>\n",
       "      <td>NaN</td>\n",
       "      <td>NaN</td>\n",
       "      <td>NaN</td>\n",
       "      <td>NaN</td>\n",
       "      <td>NaN</td>\n",
       "      <td>NaN</td>\n",
       "      <td>NaN</td>\n",
       "      <td>NaN</td>\n",
       "      <td>NaN</td>\n",
       "    </tr>\n",
       "    <tr>\n",
       "      <th>638</th>\n",
       "      <td>639</td>\n",
       "      <td>-237.14</td>\n",
       "      <td>-253.74</td>\n",
       "      <td>NaN</td>\n",
       "      <td>NaN</td>\n",
       "      <td>NaN</td>\n",
       "      <td>NaN</td>\n",
       "      <td>NaN</td>\n",
       "      <td>NaN</td>\n",
       "      <td>NaN</td>\n",
       "      <td>...</td>\n",
       "      <td>NaN</td>\n",
       "      <td>NaN</td>\n",
       "      <td>NaN</td>\n",
       "      <td>NaN</td>\n",
       "      <td>NaN</td>\n",
       "      <td>NaN</td>\n",
       "      <td>NaN</td>\n",
       "      <td>NaN</td>\n",
       "      <td>NaN</td>\n",
       "      <td>NaN</td>\n",
       "    </tr>\n",
       "    <tr>\n",
       "      <th>639</th>\n",
       "      <td>640</td>\n",
       "      <td>-237.10</td>\n",
       "      <td>-253.70</td>\n",
       "      <td>NaN</td>\n",
       "      <td>NaN</td>\n",
       "      <td>NaN</td>\n",
       "      <td>NaN</td>\n",
       "      <td>NaN</td>\n",
       "      <td>NaN</td>\n",
       "      <td>NaN</td>\n",
       "      <td>...</td>\n",
       "      <td>NaN</td>\n",
       "      <td>NaN</td>\n",
       "      <td>NaN</td>\n",
       "      <td>NaN</td>\n",
       "      <td>NaN</td>\n",
       "      <td>NaN</td>\n",
       "      <td>NaN</td>\n",
       "      <td>NaN</td>\n",
       "      <td>NaN</td>\n",
       "      <td>NaN</td>\n",
       "    </tr>\n",
       "    <tr>\n",
       "      <th>640</th>\n",
       "      <td>641</td>\n",
       "      <td>-237.10</td>\n",
       "      <td>-253.74</td>\n",
       "      <td>NaN</td>\n",
       "      <td>NaN</td>\n",
       "      <td>NaN</td>\n",
       "      <td>NaN</td>\n",
       "      <td>NaN</td>\n",
       "      <td>NaN</td>\n",
       "      <td>NaN</td>\n",
       "      <td>...</td>\n",
       "      <td>NaN</td>\n",
       "      <td>NaN</td>\n",
       "      <td>NaN</td>\n",
       "      <td>NaN</td>\n",
       "      <td>NaN</td>\n",
       "      <td>NaN</td>\n",
       "      <td>NaN</td>\n",
       "      <td>NaN</td>\n",
       "      <td>NaN</td>\n",
       "      <td>NaN</td>\n",
       "    </tr>\n",
       "  </tbody>\n",
       "</table>\n",
       "<p>641 rows × 77 columns</p>\n",
       "</div>"
      ],
      "text/plain": [
       "     momento  1-0005  5-0005  1-_006  5-_006  1-_007  5-_007  1-_008  5-_008  \\\n",
       "0          1 -588.88 -580.21 -590.50 -582.25 -593.51 -585.46 -595.51 -587.47   \n",
       "1          2 -588.38 -579.71 -590.80 -582.46 -593.80 -585.67 -595.55 -587.59   \n",
       "2          3 -584.41 -575.74 -585.83 -577.66 -591.38 -583.21 -589.84 -578.04   \n",
       "3          4 -573.73 -565.27 -570.31 -562.81 -578.91 -571.24 -578.61 -565.90   \n",
       "4          5 -567.27 -558.55 -562.26 -554.55 -570.69 -562.93 -567.18 -557.51   \n",
       "..       ...     ...     ...     ...     ...     ...     ...     ...     ...   \n",
       "636      637 -237.18 -253.66     NaN     NaN     NaN     NaN     NaN     NaN   \n",
       "637      638 -237.10 -253.70     NaN     NaN     NaN     NaN     NaN     NaN   \n",
       "638      639 -237.14 -253.74     NaN     NaN     NaN     NaN     NaN     NaN   \n",
       "639      640 -237.10 -253.70     NaN     NaN     NaN     NaN     NaN     NaN   \n",
       "640      641 -237.10 -253.74     NaN     NaN     NaN     NaN     NaN     NaN   \n",
       "\n",
       "     1-_010  ...  1-_098  5-_098  1-_099  5-_099  1-0112  5-0112  1-0116  \\\n",
       "0   -575.36  ... -588.17 -581.42 -594.26 -586.26 -589.46 -581.75 -592.92   \n",
       "1   -574.11  ... -588.34 -581.63 -594.51 -586.26 -589.29 -581.58 -592.80   \n",
       "2   -563.34  ... -588.17 -581.33 -592.88 -584.34 -588.50 -580.62 -590.21   \n",
       "3   -555.00  ... -584.79 -576.87 -580.62 -568.15 -586.96 -578.75 -578.66   \n",
       "4   -545.99  ... -579.11 -570.99 -572.11 -560.43 -583.45 -574.91 -571.06   \n",
       "..      ...  ...     ...     ...     ...     ...     ...     ...     ...   \n",
       "636     NaN  ...     NaN     NaN     NaN     NaN     NaN     NaN     NaN   \n",
       "637     NaN  ...     NaN     NaN     NaN     NaN     NaN     NaN     NaN   \n",
       "638     NaN  ...     NaN     NaN     NaN     NaN     NaN     NaN     NaN   \n",
       "639     NaN  ...     NaN     NaN     NaN     NaN     NaN     NaN     NaN   \n",
       "640     NaN  ...     NaN     NaN     NaN     NaN     NaN     NaN     NaN   \n",
       "\n",
       "     5-0116  1-0109  5-0109  \n",
       "0   -586.26 -593.93 -586.30  \n",
       "1   -586.26 -594.13 -586.51  \n",
       "2   -583.75 -593.68 -585.84  \n",
       "3   -571.19 -590.88 -582.63  \n",
       "4   -563.56 -587.38 -578.71  \n",
       "..      ...     ...     ...  \n",
       "636     NaN     NaN     NaN  \n",
       "637     NaN     NaN     NaN  \n",
       "638     NaN     NaN     NaN  \n",
       "639     NaN     NaN     NaN  \n",
       "640     NaN     NaN     NaN  \n",
       "\n",
       "[641 rows x 77 columns]"
      ]
     },
     "execution_count": 2,
     "metadata": {},
     "output_type": "execute_result"
    }
   ],
   "source": [
    "data = pd.read_csv('vacuum_sensor_data.csv', sep = ';')\n",
    "data"
   ]
  },
  {
   "cell_type": "code",
   "execution_count": 3,
   "id": "71b79ade",
   "metadata": {},
   "outputs": [
    {
     "data": {
      "text/html": [
       "<div>\n",
       "<style scoped>\n",
       "    .dataframe tbody tr th:only-of-type {\n",
       "        vertical-align: middle;\n",
       "    }\n",
       "\n",
       "    .dataframe tbody tr th {\n",
       "        vertical-align: top;\n",
       "    }\n",
       "\n",
       "    .dataframe thead th {\n",
       "        text-align: right;\n",
       "    }\n",
       "</style>\n",
       "<table border=\"1\" class=\"dataframe\">\n",
       "  <thead>\n",
       "    <tr style=\"text-align: right;\">\n",
       "      <th></th>\n",
       "      <th>momento</th>\n",
       "      <th>1-0005</th>\n",
       "      <th>5-0005</th>\n",
       "      <th>1-_006</th>\n",
       "      <th>5-_006</th>\n",
       "      <th>1-_007</th>\n",
       "      <th>5-_007</th>\n",
       "      <th>1-_008</th>\n",
       "      <th>5-_008</th>\n",
       "      <th>1-_010</th>\n",
       "      <th>...</th>\n",
       "      <th>1-_098</th>\n",
       "      <th>5-_098</th>\n",
       "      <th>1-_099</th>\n",
       "      <th>5-_099</th>\n",
       "      <th>1-0112</th>\n",
       "      <th>5-0112</th>\n",
       "      <th>1-0116</th>\n",
       "      <th>5-0116</th>\n",
       "      <th>1-0109</th>\n",
       "      <th>5-0109</th>\n",
       "    </tr>\n",
       "  </thead>\n",
       "  <tbody>\n",
       "    <tr>\n",
       "      <th>count</th>\n",
       "      <td>641.000000</td>\n",
       "      <td>641.000000</td>\n",
       "      <td>641.000000</td>\n",
       "      <td>629.000000</td>\n",
       "      <td>629.000000</td>\n",
       "      <td>583.000000</td>\n",
       "      <td>583.000000</td>\n",
       "      <td>599.000000</td>\n",
       "      <td>599.000000</td>\n",
       "      <td>609.000000</td>\n",
       "      <td>...</td>\n",
       "      <td>635.000000</td>\n",
       "      <td>635.000000</td>\n",
       "      <td>635.000000</td>\n",
       "      <td>635.000000</td>\n",
       "      <td>592.000000</td>\n",
       "      <td>592.000000</td>\n",
       "      <td>620.000000</td>\n",
       "      <td>620.000000</td>\n",
       "      <td>607.000000</td>\n",
       "      <td>607.000000</td>\n",
       "    </tr>\n",
       "    <tr>\n",
       "      <th>mean</th>\n",
       "      <td>321.000000</td>\n",
       "      <td>-342.349189</td>\n",
       "      <td>-339.610203</td>\n",
       "      <td>-354.630175</td>\n",
       "      <td>-345.826296</td>\n",
       "      <td>-296.604220</td>\n",
       "      <td>-302.286895</td>\n",
       "      <td>-352.617896</td>\n",
       "      <td>-342.724424</td>\n",
       "      <td>-258.067422</td>\n",
       "      <td>...</td>\n",
       "      <td>-315.100961</td>\n",
       "      <td>-320.353339</td>\n",
       "      <td>-363.575496</td>\n",
       "      <td>-395.629748</td>\n",
       "      <td>-346.702416</td>\n",
       "      <td>-336.187416</td>\n",
       "      <td>-378.188645</td>\n",
       "      <td>-378.797161</td>\n",
       "      <td>-351.085371</td>\n",
       "      <td>-348.636919</td>\n",
       "    </tr>\n",
       "    <tr>\n",
       "      <th>std</th>\n",
       "      <td>185.185043</td>\n",
       "      <td>126.782420</td>\n",
       "      <td>113.591201</td>\n",
       "      <td>121.461234</td>\n",
       "      <td>116.447982</td>\n",
       "      <td>156.920938</td>\n",
       "      <td>143.221582</td>\n",
       "      <td>113.500372</td>\n",
       "      <td>110.448237</td>\n",
       "      <td>128.392207</td>\n",
       "      <td>...</td>\n",
       "      <td>134.499994</td>\n",
       "      <td>125.978392</td>\n",
       "      <td>118.740441</td>\n",
       "      <td>89.710097</td>\n",
       "      <td>112.288884</td>\n",
       "      <td>109.350093</td>\n",
       "      <td>107.373020</td>\n",
       "      <td>95.966318</td>\n",
       "      <td>122.238057</td>\n",
       "      <td>101.510396</td>\n",
       "    </tr>\n",
       "    <tr>\n",
       "      <th>min</th>\n",
       "      <td>1.000000</td>\n",
       "      <td>-588.880000</td>\n",
       "      <td>-580.210000</td>\n",
       "      <td>-590.800000</td>\n",
       "      <td>-582.460000</td>\n",
       "      <td>-593.800000</td>\n",
       "      <td>-585.670000</td>\n",
       "      <td>-595.550000</td>\n",
       "      <td>-587.590000</td>\n",
       "      <td>-575.360000</td>\n",
       "      <td>...</td>\n",
       "      <td>-588.340000</td>\n",
       "      <td>-581.630000</td>\n",
       "      <td>-594.510000</td>\n",
       "      <td>-586.260000</td>\n",
       "      <td>-589.460000</td>\n",
       "      <td>-581.750000</td>\n",
       "      <td>-592.920000</td>\n",
       "      <td>-586.260000</td>\n",
       "      <td>-594.130000</td>\n",
       "      <td>-586.510000</td>\n",
       "    </tr>\n",
       "    <tr>\n",
       "      <th>25%</th>\n",
       "      <td>161.000000</td>\n",
       "      <td>-491.340000</td>\n",
       "      <td>-474.430000</td>\n",
       "      <td>-501.310000</td>\n",
       "      <td>-483.650000</td>\n",
       "      <td>-487.100000</td>\n",
       "      <td>-468.130000</td>\n",
       "      <td>-485.430000</td>\n",
       "      <td>-455.030000</td>\n",
       "      <td>-373.980000</td>\n",
       "      <td>...</td>\n",
       "      <td>-468.060000</td>\n",
       "      <td>-472.555000</td>\n",
       "      <td>-485.685000</td>\n",
       "      <td>-486.925000</td>\n",
       "      <td>-459.615000</td>\n",
       "      <td>-450.197500</td>\n",
       "      <td>-498.977500</td>\n",
       "      <td>-487.825000</td>\n",
       "      <td>-487.185000</td>\n",
       "      <td>-458.325000</td>\n",
       "    </tr>\n",
       "    <tr>\n",
       "      <th>50%</th>\n",
       "      <td>321.000000</td>\n",
       "      <td>-262.130000</td>\n",
       "      <td>-264.180000</td>\n",
       "      <td>-293.840000</td>\n",
       "      <td>-265.220000</td>\n",
       "      <td>-204.310000</td>\n",
       "      <td>-204.840000</td>\n",
       "      <td>-296.510000</td>\n",
       "      <td>-272.980000</td>\n",
       "      <td>-195.000000</td>\n",
       "      <td>...</td>\n",
       "      <td>-236.180000</td>\n",
       "      <td>-234.720000</td>\n",
       "      <td>-309.360000</td>\n",
       "      <td>-352.090000</td>\n",
       "      <td>-280.295000</td>\n",
       "      <td>-261.460000</td>\n",
       "      <td>-334.555000</td>\n",
       "      <td>-333.170000</td>\n",
       "      <td>-269.600000</td>\n",
       "      <td>-276.650000</td>\n",
       "    </tr>\n",
       "    <tr>\n",
       "      <th>75%</th>\n",
       "      <td>481.000000</td>\n",
       "      <td>-235.050000</td>\n",
       "      <td>-252.240000</td>\n",
       "      <td>-244.440000</td>\n",
       "      <td>-255.410000</td>\n",
       "      <td>-165.485000</td>\n",
       "      <td>-195.415000</td>\n",
       "      <td>-250.570000</td>\n",
       "      <td>-262.215000</td>\n",
       "      <td>-150.780000</td>\n",
       "      <td>...</td>\n",
       "      <td>-199.130000</td>\n",
       "      <td>-225.950000</td>\n",
       "      <td>-259.920000</td>\n",
       "      <td>-321.590000</td>\n",
       "      <td>-248.900000</td>\n",
       "      <td>-253.637500</td>\n",
       "      <td>-278.400000</td>\n",
       "      <td>-296.337500</td>\n",
       "      <td>-245.630000</td>\n",
       "      <td>-268.930000</td>\n",
       "    </tr>\n",
       "    <tr>\n",
       "      <th>max</th>\n",
       "      <td>641.000000</td>\n",
       "      <td>-218.200000</td>\n",
       "      <td>-236.340000</td>\n",
       "      <td>-240.020000</td>\n",
       "      <td>-240.350000</td>\n",
       "      <td>-155.450000</td>\n",
       "      <td>-174.550000</td>\n",
       "      <td>-245.520000</td>\n",
       "      <td>-247.650000</td>\n",
       "      <td>-147.480000</td>\n",
       "      <td>...</td>\n",
       "      <td>-195.340000</td>\n",
       "      <td>-212.730000</td>\n",
       "      <td>-235.180000</td>\n",
       "      <td>-302.560000</td>\n",
       "      <td>-242.440000</td>\n",
       "      <td>-241.810000</td>\n",
       "      <td>-268.600000</td>\n",
       "      <td>-293.010000</td>\n",
       "      <td>-239.350000</td>\n",
       "      <td>-260.170000</td>\n",
       "    </tr>\n",
       "  </tbody>\n",
       "</table>\n",
       "<p>8 rows × 77 columns</p>\n",
       "</div>"
      ],
      "text/plain": [
       "          momento      1-0005      5-0005      1-_006      5-_006      1-_007  \\\n",
       "count  641.000000  641.000000  641.000000  629.000000  629.000000  583.000000   \n",
       "mean   321.000000 -342.349189 -339.610203 -354.630175 -345.826296 -296.604220   \n",
       "std    185.185043  126.782420  113.591201  121.461234  116.447982  156.920938   \n",
       "min      1.000000 -588.880000 -580.210000 -590.800000 -582.460000 -593.800000   \n",
       "25%    161.000000 -491.340000 -474.430000 -501.310000 -483.650000 -487.100000   \n",
       "50%    321.000000 -262.130000 -264.180000 -293.840000 -265.220000 -204.310000   \n",
       "75%    481.000000 -235.050000 -252.240000 -244.440000 -255.410000 -165.485000   \n",
       "max    641.000000 -218.200000 -236.340000 -240.020000 -240.350000 -155.450000   \n",
       "\n",
       "           5-_007      1-_008      5-_008      1-_010  ...      1-_098  \\\n",
       "count  583.000000  599.000000  599.000000  609.000000  ...  635.000000   \n",
       "mean  -302.286895 -352.617896 -342.724424 -258.067422  ... -315.100961   \n",
       "std    143.221582  113.500372  110.448237  128.392207  ...  134.499994   \n",
       "min   -585.670000 -595.550000 -587.590000 -575.360000  ... -588.340000   \n",
       "25%   -468.130000 -485.430000 -455.030000 -373.980000  ... -468.060000   \n",
       "50%   -204.840000 -296.510000 -272.980000 -195.000000  ... -236.180000   \n",
       "75%   -195.415000 -250.570000 -262.215000 -150.780000  ... -199.130000   \n",
       "max   -174.550000 -245.520000 -247.650000 -147.480000  ... -195.340000   \n",
       "\n",
       "           5-_098      1-_099      5-_099      1-0112      5-0112      1-0116  \\\n",
       "count  635.000000  635.000000  635.000000  592.000000  592.000000  620.000000   \n",
       "mean  -320.353339 -363.575496 -395.629748 -346.702416 -336.187416 -378.188645   \n",
       "std    125.978392  118.740441   89.710097  112.288884  109.350093  107.373020   \n",
       "min   -581.630000 -594.510000 -586.260000 -589.460000 -581.750000 -592.920000   \n",
       "25%   -472.555000 -485.685000 -486.925000 -459.615000 -450.197500 -498.977500   \n",
       "50%   -234.720000 -309.360000 -352.090000 -280.295000 -261.460000 -334.555000   \n",
       "75%   -225.950000 -259.920000 -321.590000 -248.900000 -253.637500 -278.400000   \n",
       "max   -212.730000 -235.180000 -302.560000 -242.440000 -241.810000 -268.600000   \n",
       "\n",
       "           5-0116      1-0109      5-0109  \n",
       "count  620.000000  607.000000  607.000000  \n",
       "mean  -378.797161 -351.085371 -348.636919  \n",
       "std     95.966318  122.238057  101.510396  \n",
       "min   -586.260000 -594.130000 -586.510000  \n",
       "25%   -487.825000 -487.185000 -458.325000  \n",
       "50%   -333.170000 -269.600000 -276.650000  \n",
       "75%   -296.337500 -245.630000 -268.930000  \n",
       "max   -293.010000 -239.350000 -260.170000  \n",
       "\n",
       "[8 rows x 77 columns]"
      ]
     },
     "execution_count": 3,
     "metadata": {},
     "output_type": "execute_result"
    }
   ],
   "source": [
    "data.describe()"
   ]
  },
  {
   "cell_type": "code",
   "execution_count": 3,
   "id": "27b5d499",
   "metadata": {},
   "outputs": [],
   "source": [
    "#rename column to have consistent naming \n",
    "import re\n",
    "\n",
    "def clean_column(col):\n",
    "    if col == 'momento':\n",
    "        return col\n",
    "    match = re.match(r\"(\\d)-_?(\\d+)\", col)\n",
    "    if match:\n",
    "        sensor, comp = match.groups()\n",
    "        return f\"{sensor}-{int(comp):04d}\"\n",
    "    return col  # fallback in case format is already correct\n",
    "\n",
    "# Apply renaming\n",
    "data.columns = [clean_column(col) for col in data.columns]\n"
   ]
  },
  {
   "cell_type": "code",
   "execution_count": 46,
   "id": "258edb40",
   "metadata": {},
   "outputs": [
    {
     "data": {
      "text/plain": [
       "Index(['momento', '1-0005', '5-0005', '1-0006', '5-0006', '1-0007', '5-0007',\n",
       "       '1-0008', '5-0008', '1-0010', '5-0010', '1-0011', '5-0011', '1-0016',\n",
       "       '5-0016', '1-0018', '5-0018', '1-0019', '5-0019', '1-0021', '5-0021',\n",
       "       '1-0035', '5-0035', '1-0038', '5-0038', '1-0039', '5-0039', '1-0041',\n",
       "       '5-0041', '1-0043', '5-0043', '1-0045', '5-0045', '1-0047', '5-0047',\n",
       "       '1-0050', '5-0050', '1-0064', '5-0064', '1-0065', '5-0065', '1-0066',\n",
       "       '5-0066', '1-0067', '5-0067', '1-0071', '5-0071', '1-0076', '5-0076',\n",
       "       '1-0078', '5-0078', '1-0079', '5-0079', '1-0083', '5-0083', '1-0084',\n",
       "       '5-0084', '1-0089', '5-0089', '1-0092', '5-0092', '1-0095', '5-0095',\n",
       "       '1-0096', '5-0096', '1-0097', '5-0097', '1-0098', '5-0098', '1-0099',\n",
       "       '5-0099', '1-0112', '5-0112', '1-0116', '5-0116', '1-0109', '5-0109'],\n",
       "      dtype='object')"
      ]
     },
     "execution_count": 46,
     "metadata": {},
     "output_type": "execute_result"
    }
   ],
   "source": [
    "data.columns"
   ]
  },
  {
   "cell_type": "code",
   "execution_count": 4,
   "id": "6b21d2cf",
   "metadata": {},
   "outputs": [],
   "source": [
    "# drop rows(seconds) where data from any sensor is missing\n",
    "data=data.dropna(axis=0)"
   ]
  },
  {
   "cell_type": "code",
   "execution_count": 10,
   "id": "e2d63f83",
   "metadata": {},
   "outputs": [],
   "source": [
    "#to train model 3 - drop first 30 seconds from the dataframe as they seem to be erratic for every sensor\n",
    "\n",
    "data=data.iloc[30:]"
   ]
  },
  {
   "cell_type": "code",
   "execution_count": 11,
   "id": "f094186d",
   "metadata": {},
   "outputs": [
    {
     "data": {
      "text/plain": [
       "(503, 77)"
      ]
     },
     "execution_count": 11,
     "metadata": {},
     "output_type": "execute_result"
    }
   ],
   "source": [
    "data.shape"
   ]
  },
  {
   "cell_type": "code",
   "execution_count": 12,
   "id": "17140593",
   "metadata": {},
   "outputs": [],
   "source": [
    "defective_columns = ['1-0116', '5-0116', '1-0109', '5-0109']\n",
    "normal_control_columns = ['1-0008', '5-0008', '1-0064', '5-0064']"
   ]
  },
  {
   "cell_type": "code",
   "execution_count": 13,
   "id": "20221958",
   "metadata": {},
   "outputs": [],
   "source": [
    "validation_columns = defective_columns + normal_control_columns\n"
   ]
  },
  {
   "cell_type": "code",
   "execution_count": 14,
   "id": "d50482f9",
   "metadata": {},
   "outputs": [],
   "source": [
    "df_validation = data[['momento'] + validation_columns]"
   ]
  },
  {
   "cell_type": "code",
   "execution_count": 15,
   "id": "d26dde79",
   "metadata": {},
   "outputs": [
    {
     "data": {
      "text/html": [
       "<div>\n",
       "<style scoped>\n",
       "    .dataframe tbody tr th:only-of-type {\n",
       "        vertical-align: middle;\n",
       "    }\n",
       "\n",
       "    .dataframe tbody tr th {\n",
       "        vertical-align: top;\n",
       "    }\n",
       "\n",
       "    .dataframe thead th {\n",
       "        text-align: right;\n",
       "    }\n",
       "</style>\n",
       "<table border=\"1\" class=\"dataframe\">\n",
       "  <thead>\n",
       "    <tr style=\"text-align: right;\">\n",
       "      <th></th>\n",
       "      <th>momento</th>\n",
       "      <th>1-0116</th>\n",
       "      <th>5-0116</th>\n",
       "      <th>1-0109</th>\n",
       "      <th>5-0109</th>\n",
       "      <th>1-0008</th>\n",
       "      <th>5-0008</th>\n",
       "      <th>1-0064</th>\n",
       "      <th>5-0064</th>\n",
       "    </tr>\n",
       "  </thead>\n",
       "  <tbody>\n",
       "    <tr>\n",
       "      <th>523</th>\n",
       "      <td>524</td>\n",
       "      <td>-276.69</td>\n",
       "      <td>-297.06</td>\n",
       "      <td>-244.61</td>\n",
       "      <td>-269.98</td>\n",
       "      <td>-249.70</td>\n",
       "      <td>-263.93</td>\n",
       "      <td>-244.02</td>\n",
       "      <td>-302.23</td>\n",
       "    </tr>\n",
       "    <tr>\n",
       "      <th>524</th>\n",
       "      <td>525</td>\n",
       "      <td>-276.65</td>\n",
       "      <td>-297.06</td>\n",
       "      <td>-244.98</td>\n",
       "      <td>-270.06</td>\n",
       "      <td>-249.78</td>\n",
       "      <td>-263.88</td>\n",
       "      <td>-243.86</td>\n",
       "      <td>-302.10</td>\n",
       "    </tr>\n",
       "    <tr>\n",
       "      <th>525</th>\n",
       "      <td>526</td>\n",
       "      <td>-276.44</td>\n",
       "      <td>-296.85</td>\n",
       "      <td>-245.11</td>\n",
       "      <td>-269.98</td>\n",
       "      <td>-249.65</td>\n",
       "      <td>-263.93</td>\n",
       "      <td>-243.77</td>\n",
       "      <td>-302.06</td>\n",
       "    </tr>\n",
       "    <tr>\n",
       "      <th>526</th>\n",
       "      <td>527</td>\n",
       "      <td>-276.35</td>\n",
       "      <td>-296.85</td>\n",
       "      <td>-245.19</td>\n",
       "      <td>-270.02</td>\n",
       "      <td>-249.78</td>\n",
       "      <td>-264.05</td>\n",
       "      <td>-243.69</td>\n",
       "      <td>-301.98</td>\n",
       "    </tr>\n",
       "    <tr>\n",
       "      <th>527</th>\n",
       "      <td>528</td>\n",
       "      <td>-276.27</td>\n",
       "      <td>-296.76</td>\n",
       "      <td>-245.36</td>\n",
       "      <td>-270.02</td>\n",
       "      <td>-249.70</td>\n",
       "      <td>-264.01</td>\n",
       "      <td>-243.52</td>\n",
       "      <td>-301.90</td>\n",
       "    </tr>\n",
       "    <tr>\n",
       "      <th>528</th>\n",
       "      <td>529</td>\n",
       "      <td>-276.15</td>\n",
       "      <td>-296.81</td>\n",
       "      <td>-245.52</td>\n",
       "      <td>-270.10</td>\n",
       "      <td>-249.65</td>\n",
       "      <td>-263.97</td>\n",
       "      <td>-243.40</td>\n",
       "      <td>-301.81</td>\n",
       "    </tr>\n",
       "    <tr>\n",
       "      <th>529</th>\n",
       "      <td>530</td>\n",
       "      <td>-276.10</td>\n",
       "      <td>-296.89</td>\n",
       "      <td>-245.61</td>\n",
       "      <td>-270.10</td>\n",
       "      <td>-249.70</td>\n",
       "      <td>-264.09</td>\n",
       "      <td>-243.35</td>\n",
       "      <td>-301.77</td>\n",
       "    </tr>\n",
       "    <tr>\n",
       "      <th>530</th>\n",
       "      <td>531</td>\n",
       "      <td>-276.06</td>\n",
       "      <td>-297.06</td>\n",
       "      <td>-245.65</td>\n",
       "      <td>-270.18</td>\n",
       "      <td>-249.70</td>\n",
       "      <td>-264.01</td>\n",
       "      <td>-243.27</td>\n",
       "      <td>-301.73</td>\n",
       "    </tr>\n",
       "    <tr>\n",
       "      <th>531</th>\n",
       "      <td>532</td>\n",
       "      <td>-276.06</td>\n",
       "      <td>-297.06</td>\n",
       "      <td>-245.77</td>\n",
       "      <td>-270.31</td>\n",
       "      <td>-249.61</td>\n",
       "      <td>-264.01</td>\n",
       "      <td>-243.19</td>\n",
       "      <td>-301.56</td>\n",
       "    </tr>\n",
       "    <tr>\n",
       "      <th>532</th>\n",
       "      <td>533</td>\n",
       "      <td>-276.02</td>\n",
       "      <td>-297.01</td>\n",
       "      <td>-245.73</td>\n",
       "      <td>-270.14</td>\n",
       "      <td>-249.65</td>\n",
       "      <td>-264.05</td>\n",
       "      <td>-243.10</td>\n",
       "      <td>-301.60</td>\n",
       "    </tr>\n",
       "  </tbody>\n",
       "</table>\n",
       "</div>"
      ],
      "text/plain": [
       "     momento  1-0116  5-0116  1-0109  5-0109  1-0008  5-0008  1-0064  5-0064\n",
       "523      524 -276.69 -297.06 -244.61 -269.98 -249.70 -263.93 -244.02 -302.23\n",
       "524      525 -276.65 -297.06 -244.98 -270.06 -249.78 -263.88 -243.86 -302.10\n",
       "525      526 -276.44 -296.85 -245.11 -269.98 -249.65 -263.93 -243.77 -302.06\n",
       "526      527 -276.35 -296.85 -245.19 -270.02 -249.78 -264.05 -243.69 -301.98\n",
       "527      528 -276.27 -296.76 -245.36 -270.02 -249.70 -264.01 -243.52 -301.90\n",
       "528      529 -276.15 -296.81 -245.52 -270.10 -249.65 -263.97 -243.40 -301.81\n",
       "529      530 -276.10 -296.89 -245.61 -270.10 -249.70 -264.09 -243.35 -301.77\n",
       "530      531 -276.06 -297.06 -245.65 -270.18 -249.70 -264.01 -243.27 -301.73\n",
       "531      532 -276.06 -297.06 -245.77 -270.31 -249.61 -264.01 -243.19 -301.56\n",
       "532      533 -276.02 -297.01 -245.73 -270.14 -249.65 -264.05 -243.10 -301.60"
      ]
     },
     "execution_count": 15,
     "metadata": {},
     "output_type": "execute_result"
    }
   ],
   "source": [
    "df_validation.tail(10)"
   ]
  },
  {
   "cell_type": "code",
   "execution_count": 16,
   "id": "8e8ec490",
   "metadata": {},
   "outputs": [],
   "source": [
    "train_columns = [col for col in data.columns if col not in validation_columns]\n"
   ]
  },
  {
   "cell_type": "code",
   "execution_count": 17,
   "id": "83e5c7b0",
   "metadata": {},
   "outputs": [],
   "source": [
    "df_train = data[train_columns]"
   ]
  },
  {
   "cell_type": "code",
   "execution_count": 18,
   "id": "52fd3954",
   "metadata": {},
   "outputs": [
    {
     "data": {
      "text/html": [
       "<div>\n",
       "<style scoped>\n",
       "    .dataframe tbody tr th:only-of-type {\n",
       "        vertical-align: middle;\n",
       "    }\n",
       "\n",
       "    .dataframe tbody tr th {\n",
       "        vertical-align: top;\n",
       "    }\n",
       "\n",
       "    .dataframe thead th {\n",
       "        text-align: right;\n",
       "    }\n",
       "</style>\n",
       "<table border=\"1\" class=\"dataframe\">\n",
       "  <thead>\n",
       "    <tr style=\"text-align: right;\">\n",
       "      <th></th>\n",
       "      <th>momento</th>\n",
       "      <th>1-0005</th>\n",
       "      <th>5-0005</th>\n",
       "      <th>1-0006</th>\n",
       "      <th>5-0006</th>\n",
       "      <th>1-0007</th>\n",
       "      <th>5-0007</th>\n",
       "      <th>1-0010</th>\n",
       "      <th>5-0010</th>\n",
       "      <th>1-0011</th>\n",
       "      <th>...</th>\n",
       "      <th>1-0096</th>\n",
       "      <th>5-0096</th>\n",
       "      <th>1-0097</th>\n",
       "      <th>5-0097</th>\n",
       "      <th>1-0098</th>\n",
       "      <th>5-0098</th>\n",
       "      <th>1-0099</th>\n",
       "      <th>5-0099</th>\n",
       "      <th>1-0112</th>\n",
       "      <th>5-0112</th>\n",
       "    </tr>\n",
       "  </thead>\n",
       "  <tbody>\n",
       "    <tr>\n",
       "      <th>523</th>\n",
       "      <td>524</td>\n",
       "      <td>-235.30</td>\n",
       "      <td>-252.99</td>\n",
       "      <td>-243.77</td>\n",
       "      <td>-257.21</td>\n",
       "      <td>-166.09</td>\n",
       "      <td>-202.38</td>\n",
       "      <td>-151.53</td>\n",
       "      <td>-179.35</td>\n",
       "      <td>-162.08</td>\n",
       "      <td>...</td>\n",
       "      <td>-254.41</td>\n",
       "      <td>-225.20</td>\n",
       "      <td>-249.07</td>\n",
       "      <td>-82.17</td>\n",
       "      <td>-199.42</td>\n",
       "      <td>-227.92</td>\n",
       "      <td>-250.07</td>\n",
       "      <td>-312.20</td>\n",
       "      <td>-247.48</td>\n",
       "      <td>-259.88</td>\n",
       "    </tr>\n",
       "    <tr>\n",
       "      <th>524</th>\n",
       "      <td>525</td>\n",
       "      <td>-235.43</td>\n",
       "      <td>-252.87</td>\n",
       "      <td>-243.81</td>\n",
       "      <td>-257.21</td>\n",
       "      <td>-166.09</td>\n",
       "      <td>-202.42</td>\n",
       "      <td>-151.53</td>\n",
       "      <td>-179.35</td>\n",
       "      <td>-162.08</td>\n",
       "      <td>...</td>\n",
       "      <td>-254.29</td>\n",
       "      <td>-225.16</td>\n",
       "      <td>-249.03</td>\n",
       "      <td>-82.08</td>\n",
       "      <td>-199.55</td>\n",
       "      <td>-227.83</td>\n",
       "      <td>-250.11</td>\n",
       "      <td>-312.12</td>\n",
       "      <td>-247.32</td>\n",
       "      <td>-259.84</td>\n",
       "    </tr>\n",
       "    <tr>\n",
       "      <th>525</th>\n",
       "      <td>526</td>\n",
       "      <td>-235.59</td>\n",
       "      <td>-253.03</td>\n",
       "      <td>-243.90</td>\n",
       "      <td>-257.33</td>\n",
       "      <td>-166.05</td>\n",
       "      <td>-202.46</td>\n",
       "      <td>-151.49</td>\n",
       "      <td>-179.26</td>\n",
       "      <td>-162.04</td>\n",
       "      <td>...</td>\n",
       "      <td>-254.20</td>\n",
       "      <td>-225.16</td>\n",
       "      <td>-249.07</td>\n",
       "      <td>-82.13</td>\n",
       "      <td>-199.38</td>\n",
       "      <td>-227.96</td>\n",
       "      <td>-250.41</td>\n",
       "      <td>-312.29</td>\n",
       "      <td>-247.28</td>\n",
       "      <td>-259.67</td>\n",
       "    </tr>\n",
       "    <tr>\n",
       "      <th>526</th>\n",
       "      <td>527</td>\n",
       "      <td>-235.55</td>\n",
       "      <td>-253.08</td>\n",
       "      <td>-243.73</td>\n",
       "      <td>-257.46</td>\n",
       "      <td>-166.17</td>\n",
       "      <td>-202.59</td>\n",
       "      <td>-151.49</td>\n",
       "      <td>-179.22</td>\n",
       "      <td>-162.00</td>\n",
       "      <td>...</td>\n",
       "      <td>-254.08</td>\n",
       "      <td>-225.29</td>\n",
       "      <td>-249.15</td>\n",
       "      <td>-82.04</td>\n",
       "      <td>-199.34</td>\n",
       "      <td>-227.92</td>\n",
       "      <td>-249.78</td>\n",
       "      <td>-312.16</td>\n",
       "      <td>-247.15</td>\n",
       "      <td>-259.50</td>\n",
       "    </tr>\n",
       "    <tr>\n",
       "      <th>527</th>\n",
       "      <td>528</td>\n",
       "      <td>-235.72</td>\n",
       "      <td>-253.03</td>\n",
       "      <td>-243.77</td>\n",
       "      <td>-257.37</td>\n",
       "      <td>-166.05</td>\n",
       "      <td>-202.71</td>\n",
       "      <td>-151.45</td>\n",
       "      <td>-179.22</td>\n",
       "      <td>-162.00</td>\n",
       "      <td>...</td>\n",
       "      <td>-254.03</td>\n",
       "      <td>-225.37</td>\n",
       "      <td>-249.03</td>\n",
       "      <td>-82.13</td>\n",
       "      <td>-199.26</td>\n",
       "      <td>-227.96</td>\n",
       "      <td>-249.78</td>\n",
       "      <td>-312.08</td>\n",
       "      <td>-247.11</td>\n",
       "      <td>-259.29</td>\n",
       "    </tr>\n",
       "    <tr>\n",
       "      <th>528</th>\n",
       "      <td>529</td>\n",
       "      <td>-235.85</td>\n",
       "      <td>-253.08</td>\n",
       "      <td>-243.77</td>\n",
       "      <td>-257.46</td>\n",
       "      <td>-166.09</td>\n",
       "      <td>-202.67</td>\n",
       "      <td>-151.40</td>\n",
       "      <td>-179.31</td>\n",
       "      <td>-162.00</td>\n",
       "      <td>...</td>\n",
       "      <td>-253.91</td>\n",
       "      <td>-225.66</td>\n",
       "      <td>-249.11</td>\n",
       "      <td>-82.08</td>\n",
       "      <td>-199.22</td>\n",
       "      <td>-228.04</td>\n",
       "      <td>-250.03</td>\n",
       "      <td>-312.12</td>\n",
       "      <td>-246.98</td>\n",
       "      <td>-259.13</td>\n",
       "    </tr>\n",
       "    <tr>\n",
       "      <th>529</th>\n",
       "      <td>530</td>\n",
       "      <td>-235.97</td>\n",
       "      <td>-253.08</td>\n",
       "      <td>-243.77</td>\n",
       "      <td>-257.50</td>\n",
       "      <td>-166.09</td>\n",
       "      <td>-202.75</td>\n",
       "      <td>-151.36</td>\n",
       "      <td>-179.22</td>\n",
       "      <td>-162.00</td>\n",
       "      <td>...</td>\n",
       "      <td>-253.87</td>\n",
       "      <td>-225.66</td>\n",
       "      <td>-249.03</td>\n",
       "      <td>-81.96</td>\n",
       "      <td>-199.26</td>\n",
       "      <td>-228.17</td>\n",
       "      <td>-250.24</td>\n",
       "      <td>-312.16</td>\n",
       "      <td>-246.94</td>\n",
       "      <td>-258.92</td>\n",
       "    </tr>\n",
       "    <tr>\n",
       "      <th>530</th>\n",
       "      <td>531</td>\n",
       "      <td>-235.97</td>\n",
       "      <td>-253.08</td>\n",
       "      <td>-243.69</td>\n",
       "      <td>-257.54</td>\n",
       "      <td>-166.21</td>\n",
       "      <td>-202.75</td>\n",
       "      <td>-151.40</td>\n",
       "      <td>-179.22</td>\n",
       "      <td>-162.00</td>\n",
       "      <td>...</td>\n",
       "      <td>-253.78</td>\n",
       "      <td>-225.75</td>\n",
       "      <td>-249.07</td>\n",
       "      <td>-81.87</td>\n",
       "      <td>-199.26</td>\n",
       "      <td>-228.37</td>\n",
       "      <td>-250.28</td>\n",
       "      <td>-312.20</td>\n",
       "      <td>-246.86</td>\n",
       "      <td>-258.75</td>\n",
       "    </tr>\n",
       "    <tr>\n",
       "      <th>531</th>\n",
       "      <td>532</td>\n",
       "      <td>-236.05</td>\n",
       "      <td>-253.20</td>\n",
       "      <td>-243.69</td>\n",
       "      <td>-257.67</td>\n",
       "      <td>-166.13</td>\n",
       "      <td>-202.75</td>\n",
       "      <td>-151.36</td>\n",
       "      <td>-179.31</td>\n",
       "      <td>-161.92</td>\n",
       "      <td>...</td>\n",
       "      <td>-253.78</td>\n",
       "      <td>-225.83</td>\n",
       "      <td>-249.03</td>\n",
       "      <td>-82.00</td>\n",
       "      <td>-199.34</td>\n",
       "      <td>-228.50</td>\n",
       "      <td>-250.20</td>\n",
       "      <td>-312.12</td>\n",
       "      <td>-246.94</td>\n",
       "      <td>-258.58</td>\n",
       "    </tr>\n",
       "    <tr>\n",
       "      <th>532</th>\n",
       "      <td>533</td>\n",
       "      <td>-236.18</td>\n",
       "      <td>-253.16</td>\n",
       "      <td>-243.65</td>\n",
       "      <td>-257.71</td>\n",
       "      <td>-166.21</td>\n",
       "      <td>-202.84</td>\n",
       "      <td>-151.36</td>\n",
       "      <td>-179.18</td>\n",
       "      <td>-161.83</td>\n",
       "      <td>...</td>\n",
       "      <td>-253.78</td>\n",
       "      <td>-226.12</td>\n",
       "      <td>-249.15</td>\n",
       "      <td>-82.08</td>\n",
       "      <td>-199.22</td>\n",
       "      <td>-228.75</td>\n",
       "      <td>-249.11</td>\n",
       "      <td>-311.99</td>\n",
       "      <td>-246.94</td>\n",
       "      <td>-258.38</td>\n",
       "    </tr>\n",
       "  </tbody>\n",
       "</table>\n",
       "<p>10 rows × 69 columns</p>\n",
       "</div>"
      ],
      "text/plain": [
       "     momento  1-0005  5-0005  1-0006  5-0006  1-0007  5-0007  1-0010  5-0010  \\\n",
       "523      524 -235.30 -252.99 -243.77 -257.21 -166.09 -202.38 -151.53 -179.35   \n",
       "524      525 -235.43 -252.87 -243.81 -257.21 -166.09 -202.42 -151.53 -179.35   \n",
       "525      526 -235.59 -253.03 -243.90 -257.33 -166.05 -202.46 -151.49 -179.26   \n",
       "526      527 -235.55 -253.08 -243.73 -257.46 -166.17 -202.59 -151.49 -179.22   \n",
       "527      528 -235.72 -253.03 -243.77 -257.37 -166.05 -202.71 -151.45 -179.22   \n",
       "528      529 -235.85 -253.08 -243.77 -257.46 -166.09 -202.67 -151.40 -179.31   \n",
       "529      530 -235.97 -253.08 -243.77 -257.50 -166.09 -202.75 -151.36 -179.22   \n",
       "530      531 -235.97 -253.08 -243.69 -257.54 -166.21 -202.75 -151.40 -179.22   \n",
       "531      532 -236.05 -253.20 -243.69 -257.67 -166.13 -202.75 -151.36 -179.31   \n",
       "532      533 -236.18 -253.16 -243.65 -257.71 -166.21 -202.84 -151.36 -179.18   \n",
       "\n",
       "     1-0011  ...  1-0096  5-0096  1-0097  5-0097  1-0098  5-0098  1-0099  \\\n",
       "523 -162.08  ... -254.41 -225.20 -249.07  -82.17 -199.42 -227.92 -250.07   \n",
       "524 -162.08  ... -254.29 -225.16 -249.03  -82.08 -199.55 -227.83 -250.11   \n",
       "525 -162.04  ... -254.20 -225.16 -249.07  -82.13 -199.38 -227.96 -250.41   \n",
       "526 -162.00  ... -254.08 -225.29 -249.15  -82.04 -199.34 -227.92 -249.78   \n",
       "527 -162.00  ... -254.03 -225.37 -249.03  -82.13 -199.26 -227.96 -249.78   \n",
       "528 -162.00  ... -253.91 -225.66 -249.11  -82.08 -199.22 -228.04 -250.03   \n",
       "529 -162.00  ... -253.87 -225.66 -249.03  -81.96 -199.26 -228.17 -250.24   \n",
       "530 -162.00  ... -253.78 -225.75 -249.07  -81.87 -199.26 -228.37 -250.28   \n",
       "531 -161.92  ... -253.78 -225.83 -249.03  -82.00 -199.34 -228.50 -250.20   \n",
       "532 -161.83  ... -253.78 -226.12 -249.15  -82.08 -199.22 -228.75 -249.11   \n",
       "\n",
       "     5-0099  1-0112  5-0112  \n",
       "523 -312.20 -247.48 -259.88  \n",
       "524 -312.12 -247.32 -259.84  \n",
       "525 -312.29 -247.28 -259.67  \n",
       "526 -312.16 -247.15 -259.50  \n",
       "527 -312.08 -247.11 -259.29  \n",
       "528 -312.12 -246.98 -259.13  \n",
       "529 -312.16 -246.94 -258.92  \n",
       "530 -312.20 -246.86 -258.75  \n",
       "531 -312.12 -246.94 -258.58  \n",
       "532 -311.99 -246.94 -258.38  \n",
       "\n",
       "[10 rows x 69 columns]"
      ]
     },
     "execution_count": 18,
     "metadata": {},
     "output_type": "execute_result"
    }
   ],
   "source": [
    "df_train.tail(10)"
   ]
  },
  {
   "cell_type": "code",
   "execution_count": 19,
   "id": "7393ad30",
   "metadata": {},
   "outputs": [
    {
     "data": {
      "application/vnd.plotly.v1+json": {
       "config": {
        "plotlyServerURL": "https://plot.ly"
       },
       "data": [
        {
         "line": {
          "color": "green"
         },
         "mode": "lines",
         "name": "1-0065 (normal)",
         "type": "scatter",
         "x": {
          "bdata": "HwAgACEAIgAjACQAJQAmACcAKAApACoAKwAsAC0ALgAvADAAMQAyADMANAA1ADYANwA4ADkAOgA7ADwAPQA+AD8AQABBAEIAQwBEAEUARgBHAEgASQBKAEsATABNAE4ATwBQAFEAUgBTAFQAVQBWAFcAWABZAFoAWwBcAF0AXgBfAGAAYQBiAGMAZABlAGYAZwBoAGkAagBrAGwAbQBuAG8AcABxAHIAcwB0AHUAdgB3AHgAeQB6AHsAfAB9AH4AfwCAAIEAggCDAIQAhQCGAIcAiACJAIoAiwCMAI0AjgCPAJAAkQCSAJMAlACVAJYAlwCYAJkAmgCbAJwAnQCeAJ8AoAChAKIAowCkAKUApgCnAKgAqQCqAKsArACtAK4ArwCwALEAsgCzALQAtQC2ALcAuAC5ALoAuwC8AL0AvgC/AMAAwQDCAMMAxADFAMYAxwDIAMkAygDLAMwAzQDOAM8A0ADRANIA0wDUANUA1gDXANgA2QDaANsA3ADdAN4A3wDgAOEA4gDjAOQA5QDmAOcA6ADpAOoA6wDsAO0A7gDvAPAA8QDyAPMA9AD1APYA9wD4APkA+gD7APwA/QD+AP8AAAEBAQIBAwEEAQUBBgEHAQgBCQEKAQsBDAENAQ4BDwEQAREBEgETARQBFQEWARcBGAEZARoBGwEcAR0BHgEfASABIQEiASMBJAElASYBJwEoASkBKgErASwBLQEuAS8BMAExATIBMwE0ATUBNgE3ATgBOQE6ATsBPAE9AT4BPwFAAUEBQgFDAUQBRQFGAUcBSAFJAUoBSwFMAU0BTgFPAVABUQFSAVMBVAFVAVYBVwFYAVkBWgFbAVwBXQFeAV8BYAFhAWIBYwFkAWUBZgFnAWgBaQFqAWsBbAFtAW4BbwFwAXEBcgFzAXQBdQF2AXcBeAF5AXoBewF8AX0BfgF/AYABgQGCAYMBhAGFAYYBhwGIAYkBigGLAYwBjQGOAY8BkAGRAZIBkwGUAZUBlgGXAZgBmQGaAZsBnAGdAZ4BnwGgAaEBogGjAaQBpQGmAacBqAGpAaoBqwGsAa0BrgGvAbABsQGyAbMBtAG1AbYBtwG4AbkBugG7AbwBvQG+Ab8BwAHBAcIBwwHEAcUBxgHHAcgByQHKAcsBzAHNAc4BzwHQAdEB0gHTAdQB1QHWAdcB2AHZAdoB2wHcAd0B3gHfAeAB4QHiAeMB5AHlAeYB5wHoAekB6gHrAewB7QHuAe8B8AHxAfIB8wH0AfUB9gH3AfgB+QH6AfsB/AH9Af4B/wEAAgECAgIDAgQCBQIGAgcCCAIJAgoCCwIMAg0CDgIPAhACEQISAhMCFAIVAg==",
          "dtype": "i2"
         },
         "xaxis": "x",
         "y": {
          "bdata": "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",
          "dtype": "f8"
         },
         "yaxis": "y"
        },
        {
         "line": {
          "color": "green"
         },
         "mode": "lines",
         "name": "5-0065 (normal)",
         "type": "scatter",
         "x": {
          "bdata": "HwAgACEAIgAjACQAJQAmACcAKAApACoAKwAsAC0ALgAvADAAMQAyADMANAA1ADYANwA4ADkAOgA7ADwAPQA+AD8AQABBAEIAQwBEAEUARgBHAEgASQBKAEsATABNAE4ATwBQAFEAUgBTAFQAVQBWAFcAWABZAFoAWwBcAF0AXgBfAGAAYQBiAGMAZABlAGYAZwBoAGkAagBrAGwAbQBuAG8AcABxAHIAcwB0AHUAdgB3AHgAeQB6AHsAfAB9AH4AfwCAAIEAggCDAIQAhQCGAIcAiACJAIoAiwCMAI0AjgCPAJAAkQCSAJMAlACVAJYAlwCYAJkAmgCbAJwAnQCeAJ8AoAChAKIAowCkAKUApgCnAKgAqQCqAKsArACtAK4ArwCwALEAsgCzALQAtQC2ALcAuAC5ALoAuwC8AL0AvgC/AMAAwQDCAMMAxADFAMYAxwDIAMkAygDLAMwAzQDOAM8A0ADRANIA0wDUANUA1gDXANgA2QDaANsA3ADdAN4A3wDgAOEA4gDjAOQA5QDmAOcA6ADpAOoA6wDsAO0A7gDvAPAA8QDyAPMA9AD1APYA9wD4APkA+gD7APwA/QD+AP8AAAEBAQIBAwEEAQUBBgEHAQgBCQEKAQsBDAENAQ4BDwEQAREBEgETARQBFQEWARcBGAEZARoBGwEcAR0BHgEfASABIQEiASMBJAElASYBJwEoASkBKgErASwBLQEuAS8BMAExATIBMwE0ATUBNgE3ATgBOQE6ATsBPAE9AT4BPwFAAUEBQgFDAUQBRQFGAUcBSAFJAUoBSwFMAU0BTgFPAVABUQFSAVMBVAFVAVYBVwFYAVkBWgFbAVwBXQFeAV8BYAFhAWIBYwFkAWUBZgFnAWgBaQFqAWsBbAFtAW4BbwFwAXEBcgFzAXQBdQF2AXcBeAF5AXoBewF8AX0BfgF/AYABgQGCAYMBhAGFAYYBhwGIAYkBigGLAYwBjQGOAY8BkAGRAZIBkwGUAZUBlgGXAZgBmQGaAZsBnAGdAZ4BnwGgAaEBogGjAaQBpQGmAacBqAGpAaoBqwGsAa0BrgGvAbABsQGyAbMBtAG1AbYBtwG4AbkBugG7AbwBvQG+Ab8BwAHBAcIBwwHEAcUBxgHHAcgByQHKAcsBzAHNAc4BzwHQAdEB0gHTAdQB1QHWAdcB2AHZAdoB2wHcAd0B3gHfAeAB4QHiAeMB5AHlAeYB5wHoAekB6gHrAewB7QHuAe8B8AHxAfIB8wH0AfUB9gH3AfgB+QH6AfsB/AH9Af4B/wEAAgECAgIDAgQCBQIGAgcCCAIJAgoCCwIMAg0CDgIPAhACEQISAhMCFAIVAg==",
          "dtype": "i2"
         },
         "xaxis": "x2",
         "y": {
          "bdata": "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",
          "dtype": "f8"
         },
         "yaxis": "y2"
        },
        {
         "line": {
          "color": "green"
         },
         "mode": "lines",
         "name": "1-0066 (normal)",
         "type": "scatter",
         "x": {
          "bdata": "HwAgACEAIgAjACQAJQAmACcAKAApACoAKwAsAC0ALgAvADAAMQAyADMANAA1ADYANwA4ADkAOgA7ADwAPQA+AD8AQABBAEIAQwBEAEUARgBHAEgASQBKAEsATABNAE4ATwBQAFEAUgBTAFQAVQBWAFcAWABZAFoAWwBcAF0AXgBfAGAAYQBiAGMAZABlAGYAZwBoAGkAagBrAGwAbQBuAG8AcABxAHIAcwB0AHUAdgB3AHgAeQB6AHsAfAB9AH4AfwCAAIEAggCDAIQAhQCGAIcAiACJAIoAiwCMAI0AjgCPAJAAkQCSAJMAlACVAJYAlwCYAJkAmgCbAJwAnQCeAJ8AoAChAKIAowCkAKUApgCnAKgAqQCqAKsArACtAK4ArwCwALEAsgCzALQAtQC2ALcAuAC5ALoAuwC8AL0AvgC/AMAAwQDCAMMAxADFAMYAxwDIAMkAygDLAMwAzQDOAM8A0ADRANIA0wDUANUA1gDXANgA2QDaANsA3ADdAN4A3wDgAOEA4gDjAOQA5QDmAOcA6ADpAOoA6wDsAO0A7gDvAPAA8QDyAPMA9AD1APYA9wD4APkA+gD7APwA/QD+AP8AAAEBAQIBAwEEAQUBBgEHAQgBCQEKAQsBDAENAQ4BDwEQAREBEgETARQBFQEWARcBGAEZARoBGwEcAR0BHgEfASABIQEiASMBJAElASYBJwEoASkBKgErASwBLQEuAS8BMAExATIBMwE0ATUBNgE3ATgBOQE6ATsBPAE9AT4BPwFAAUEBQgFDAUQBRQFGAUcBSAFJAUoBSwFMAU0BTgFPAVABUQFSAVMBVAFVAVYBVwFYAVkBWgFbAVwBXQFeAV8BYAFhAWIBYwFkAWUBZgFnAWgBaQFqAWsBbAFtAW4BbwFwAXEBcgFzAXQBdQF2AXcBeAF5AXoBewF8AX0BfgF/AYABgQGCAYMBhAGFAYYBhwGIAYkBigGLAYwBjQGOAY8BkAGRAZIBkwGUAZUBlgGXAZgBmQGaAZsBnAGdAZ4BnwGgAaEBogGjAaQBpQGmAacBqAGpAaoBqwGsAa0BrgGvAbABsQGyAbMBtAG1AbYBtwG4AbkBugG7AbwBvQG+Ab8BwAHBAcIBwwHEAcUBxgHHAcgByQHKAcsBzAHNAc4BzwHQAdEB0gHTAdQB1QHWAdcB2AHZAdoB2wHcAd0B3gHfAeAB4QHiAeMB5AHlAeYB5wHoAekB6gHrAewB7QHuAe8B8AHxAfIB8wH0AfUB9gH3AfgB+QH6AfsB/AH9Af4B/wEAAgECAgIDAgQCBQIGAgcCCAIJAgoCCwIMAg0CDgIPAhACEQISAhMCFAIVAg==",
          "dtype": "i2"
         },
         "xaxis": "x",
         "y": {
          "bdata": "FK5H4XrWgMDsUbgehdGAwFyPwvUozoDAzczMzMzOgMBcj8L1KNCAwDMzMzMz0YDA7FG4HoXRgMCkcD0K19GAwOxRuB6Fz4DApHA9CtfLgMCF61G4HsmAwOxRuB6FxYDAXI/C9SjAgMCF61G4HruAwM3MzMzMtIDAhetRuB6xgMCF61G4HqmAwIXrUbgeo4DA9ihcj8KbgMBmZmZmZpaAwGZmZmZmkIDArkfhehSMgMBmZmZmZoiAwB+F61G4hIDAZmZmZmaAgMAfhetRuHqAwI/C9Shcc4DAZmZmZmZugMBI4XoUrmeAwB+F61G4YoDA16NwPQpbgMDXo3A9ClWAwClcj8L1SoDAKVyPwvVEgMApXI/C9TqAwOF6FK5HM4DAUrgehespgMC4HoXrUSKAwOF6FK5HGYDAUrgehesRgMAK16NwPQyAwFK4HoXrBYDAFK5H4Xr8f8D2KFyPwu1/wBSuR+F63H/AFK5H4XrMf8BI4XoUrrN/wPYoXI/CoX/AuB6F61GEf8BI4XoUrnN/wHsUrkfhVn/AexSuR+FCf8Bcj8L1KCR/wHsUrkfhDn/ArkfhehTyfsDsUbgehd9+wM3MzMzMyH7AH4XrUbi6fsA9CtejcKV+wAAAAAAAlH7AAAAAAAB4fsCPwvUoXGd+wFK4HoXrSX7A4XoUrkc1fsAzMzMzMxd+wKRwPQrX/33ApHA9CtfffcBmZmZmZsp9wGZmZmZmqn3AKVyPwvWUfcBmZmZmZnp9wJqZmZmZZX3ACtejcD1KfcCamZmZmTV9wM3MzMzMGH3APQrXo3ABfcAfhetRuOJ8wFyPwvUozHzAj8L1KFyrfMAfhetRuJZ8wFK4HoXrfXzAH4XrUbhqfMAzMzMzM1N8wDMzMzMzQ3zAMzMzMzMnfMCkcD0K1xN8wDMzMzMz93vAMzMzMzPne8CkcD0K18t7wNejcD0Kt3vAZmZmZmaee8DXo3A9Cot7wJqZmZmZcXvASOF6FK5be8C4HoXrUUB7wHsUrkfhKnvAmpmZmZkJe8DNzMzMzOx6wB+F61G4xnrAH4XrUbiqesDhehSuR4V6wFK4HoXraXrAUrgehetJesDD9ShcjzZ6wFK4HoXrHXrAw/UoXI8OesBSuB6F6/15wIXrUbge8XnAhetRuB7decBmZmZmZs55wGZmZmZmvnnASOF6FK6zecD2KFyPwqV5wGZmZmZmmnnASOF6FK6LecBI4XoUroN5wGZmZmZmdnnAKVyPwvVsecBmZmZmZmJ5wJqZmZmZWXnASOF6FK5PecBI4XoUrkN5wArXo3A9NnnA7FG4HoUvecB7FK5H4SJ5wHsUrkfhGnnA7FG4HoULecBcj8L1KAR5wArXo3A99njA7FG4HoXreMCuR+F6FN54wK5H4XoU0njAXI/C9SjEeMCPwvUoXLd4wK5H4XoUonjAH4XrUbiSeMDhehSuR3l4wAAAAAAAaHjAcT0K16NMeMAzMzMzMzd4wOF6FK5HHXjApHA9CtcHeMBSuB6F6+l3wDMzMzMz13fA9ihcj8K5d8CF61G4HqV3wPYoXI/ChXfA16NwPQpvd8BI4XoUrkt3wEjhehSuL3fAXI/C9SgMd8CamZmZmfF2wOxRuB6Fy3bAj8L1KFyrdsAfhetRuHp2wAAAAAAAYHbA4XoUrkcxdsBSuB6F6w12wKRwPQrX23XAFK5H4Xq0dcC4HoXrUYB1wGZmZmZmYnXASOF6FK4zdcDsUbgehQ91wM3MzMzM2HTAH4XrUbiydMDNzMzMzHx0wHE9CtejVHTAcT0K16MkdMDhehSuR/1zwPYoXI/CwXPAFK5H4Xqcc8BI4XoUrmtzwJqZmZmZSXPASOF6FK4bc8B7FK5H4f5ywFyPwvUo1HLAPQrXo3C1csCuR+F6FIpywAAAAAAAaHLAAAAAAAA0csDD9ShcjxJywKRwPQrX43HAw/UoXI/GccCkcD0K16NxwKRwPQrXh3HA16NwPQpjccBmZmZmZkZxwClcj8L1HHHAuB6F61EAccDsUbgehddwwArXo3A9unDA7FG4HoWTcMAfhetRuHpwwB+F61G4UnDA4XoUrkc5cMBxPQrXoxRwwGZmZmZm9m/AKVyPwvWwb8BI4XoUrn9vwEjhehSuN2/ASOF6FK4Hb8CuR+F6FMZuwOxRuB6Fk27AcT0K16NQbsBxPQrXoyBuwPYoXI/C3W3AuB6F61GwbcDXo3A9CndtwHsUrkfhSm3AexSuR+ESbcBcj8L1KOxswD0K16NwtWzAexSuR+GKbMDD9Shcj1JswOF6FK5HKWzAhetRuB7ta8DD9Shcj8JrwClcj8L1iGvACtejcD1ia8CF61G4Hi1rwClcj8L1CGvAKVyPwvXYasAK16NwPbJqwI/C9Shcf2rAj8L1KFxfasCPwvUoXC9qwDMzMzMzC2rAcT0K16PYacDXo3A9CrdpwLgehetRiGnA9ihcj8JlacBcj8L1KDRpwPYoXI/CDWnAPQrXo3DdaMCamZmZmblowFyPwvUojGjAH4XrUbhmaMAfhetRuD5owOF6FK5HIWjAhetRuB71Z8AAAAAAANhnwMP1KFyPqmfApHA9CteLZ8ApXI/C9WBnwKRwPQrXQ2fACtejcD0aZ8DsUbgehQNnwOxRuB6F22bAKVyPwvXAZsCuR+F6FJ5mwOxRuB6Fg2bAcT0K16NgZsCuR+F6FEZmwM3MzMzMJGbAUrgehesJZsCPwvUoXOdlwHE9Ctej0GXA9ihcj8KtZcC4HoXrUZhlwLgehetReGXAFK5H4XpkZcB7FK5H4UJlwPYoXI/CLWXA9ihcj8INZcC4HoXrUfhkwFyPwvUo3GTAuB6F61HIZMA9CtejcK1kwHsUrkfhmmTAH4XrUbh+ZMA9CtejcG1kwD0K16NwTWTAXI/C9Sg8ZMDD9ShcjyJkwB+F61G4DmTApHA9CtfzY8DD9Shcj+JjwAAAAAAAyGPAw/UoXI+yY8DhehSuR5ljwGZmZmZmhmPASOF6FK5vY8CF61G4Hl1jwArXo3A9QmPASOF6FK4vY8AK16NwPRpjwEjhehSuB2PASOF6FK7vYsDNzMzMzNxiwEjhehSux2LASOF6FK63YsApXI/C9aBiwOxRuB6Fk2LACtejcD16YsCuR+F6FGZiwI/C9ShcT2LArkfhehQ+YsCPwvUoXCdiwI/C9ShcF2LAFK5H4Xr8YcAUrkfheuxhwI/C9Shc12HA9ihcj8LFYcBxPQrXo7BhwFK4HoXroWHAMzMzMzOLYcAzMzMzM3thwBSuR+F6ZGHA16NwPQpXYcDXo3A9Cj9hwNejcD0KL2HA9ihcj8IdYcB7FK5H4QphwNejcD0K92DAexSuR+HqYMBcj8L1KNRgwNejcD0Kx2DAXI/C9Si0YMB7FK5H4aJgwB+F61G4jmDAmpmZmZmBYMBcj8L1KGxgwD0K16NwXWDA4XoUrkdJYMB7FK5H4TpgwD0K16NwJWDAw/UoXI8aYMAAAAAAAAhgwMP1KFyP8l/Aw/UoXI/SX8CF61G4HrVfwMP1KFyPkl/ASOF6FK53X8AAAAAAAFBfwEjhehSuN1/AhetRuB4VX8BI4XoUrvdewArXo3A92l7AhetRuB7FXsCPwvUoXJ9ewFK4HoXrkV7ACtejcD16XsCPwvUoXG9ewM3MzMzMXF7ACtejcD1KXsBSuB6F60FewBSuR+F6NF7ACtejcD0qXsDXo3A9ChdewFK4HoXrEV7AzczMzMwMXsBSuB6F6wFewArXo3A9+l3AFK5H4Xr0XcAK16NwPepdwM3MzMzM3F3AzczMzMzcXcAUrkfhetRdwM3MzMzMzF3AUrgehevBXcBSuB6F68FdwM3MzMzMvF3AzczMzMy8XcDNzMzMzLxdwJqZmZmZuV3A16NwPQq3XcBSuB6F67FdwFK4HoXrsV3AUrgeheuxXcCamZmZmbldwNejcD0Kt13A16NwPQq3XcDNzMzMzLxdwM3MzMzMvF3AzczMzMy8XcDNzMzMzLxdwM3MzMzMvF3AUrgehevBXcBSuB6F68FdwNejcD0Kx13ACtejcD3KXcDNzMzMzMxdwFK4HoXr0V3A16NwPQrXXcDNzMzMzNxdwI/C9Shc313A16NwPQrnXcAUrkfheuRdwArXo3A96l3AUrgehevxXcAK16NwPfpdwArXo3A9+l3A16NwPQr3XcDNzMzMzPxdwM3MzMzM/F3Aj8L1KFz/XcBSuB6F6wFewFK4HoXrAV7AFK5H4XoEXsAK16NwPQpewNejcD0KB17AzczMzMwMXsDNzMzMzAxewM3MzMzMDF7Aj8L1KFwPXsBSuB6F6xFewBSuR+F6FF7ACtejcD0aXsDXo3A9ChdewFK4HoXrIV7ACtejcD0qXsAK16NwPTpewM3MzMzMPF7Aj8L1KFw/XsAK16NwPUpewI/C9ShcT17ACtejcD1KXsDNzMzMzExewFK4HoXrUV7ACtejcD1aXsAK16NwPVpewI/C9ShcX17AzczMzMxcXsCPwvUoXF9ewFK4HoXrYV7AFK5H4XpkXsCPwvUoXF9ewEjhehSuZ17AzczMzMxsXsBI4XoUrmdewArXo3A9al7ACtejcD1qXsAK16NwPWpewI/C9Shcb17AzczMzMxsXsDNzMzMzGxewI/C9Shcb17Aj8L1KFxvXsBSuB6F63FewI/C9Shcb17AhetRuB51XsDNzMzMzGxewI/C9Shcb17AUrgehetxXsCF61G4HnVewM3MzMzMbF7AzczMzMxsXsDNzMzMzGxewI/C9Shcb17AUrgehetxXsBI4XoUrndewIXrUbgedV7ACtejcD16XsBI4XoUrndewArXo3A9el7AzczMzMx8XsDNzMzMzHxewArXo3A9el7Aj8L1KFx/XsAK16NwPXpewI/C9Shcf17ACtejcD16XsAK16NwPXpewArXo3A9el7ASOF6FK53XsBSuB6F64FewArXo3A9el7ACtejcD16XsCPwvUoXH9ewI/C9Shcf17AzczMzMx8XsDNzMzMzHxewI/C9Shcf17Aj8L1KFx/XsBSuB6F64FewM3MzMzMjF7Aj8L1KFyPXsDNzMzMzIxewM3MzMzMjF7ACtejcD2KXsDNzMzMzIxewArXo3A9il7ACtejcD2KXsAK16NwPYpewArXo3A9il7ACtejcD2KXsDNzMzMzIxewI/C9Shcj17Aj8L1KFyPXsBSuB6F65FewFK4HoXrkV7AzczMzMyMXsCPwvUoXI9ewFK4HoXrkV7AUrgeheuRXsBSuB6F65FewM3MzMzMjF7Aj8L1KFyPXsCPwvUoXI9ewM3MzMzMjF7AUrgeheuRXsCPwvUoXI9ewA==",
          "dtype": "f8"
         },
         "yaxis": "y"
        },
        {
         "line": {
          "color": "green"
         },
         "mode": "lines",
         "name": "5-0066 (normal)",
         "type": "scatter",
         "x": {
          "bdata": "HwAgACEAIgAjACQAJQAmACcAKAApACoAKwAsAC0ALgAvADAAMQAyADMANAA1ADYANwA4ADkAOgA7ADwAPQA+AD8AQABBAEIAQwBEAEUARgBHAEgASQBKAEsATABNAE4ATwBQAFEAUgBTAFQAVQBWAFcAWABZAFoAWwBcAF0AXgBfAGAAYQBiAGMAZABlAGYAZwBoAGkAagBrAGwAbQBuAG8AcABxAHIAcwB0AHUAdgB3AHgAeQB6AHsAfAB9AH4AfwCAAIEAggCDAIQAhQCGAIcAiACJAIoAiwCMAI0AjgCPAJAAkQCSAJMAlACVAJYAlwCYAJkAmgCbAJwAnQCeAJ8AoAChAKIAowCkAKUApgCnAKgAqQCqAKsArACtAK4ArwCwALEAsgCzALQAtQC2ALcAuAC5ALoAuwC8AL0AvgC/AMAAwQDCAMMAxADFAMYAxwDIAMkAygDLAMwAzQDOAM8A0ADRANIA0wDUANUA1gDXANgA2QDaANsA3ADdAN4A3wDgAOEA4gDjAOQA5QDmAOcA6ADpAOoA6wDsAO0A7gDvAPAA8QDyAPMA9AD1APYA9wD4APkA+gD7APwA/QD+AP8AAAEBAQIBAwEEAQUBBgEHAQgBCQEKAQsBDAENAQ4BDwEQAREBEgETARQBFQEWARcBGAEZARoBGwEcAR0BHgEfASABIQEiASMBJAElASYBJwEoASkBKgErASwBLQEuAS8BMAExATIBMwE0ATUBNgE3ATgBOQE6ATsBPAE9AT4BPwFAAUEBQgFDAUQBRQFGAUcBSAFJAUoBSwFMAU0BTgFPAVABUQFSAVMBVAFVAVYBVwFYAVkBWgFbAVwBXQFeAV8BYAFhAWIBYwFkAWUBZgFnAWgBaQFqAWsBbAFtAW4BbwFwAXEBcgFzAXQBdQF2AXcBeAF5AXoBewF8AX0BfgF/AYABgQGCAYMBhAGFAYYBhwGIAYkBigGLAYwBjQGOAY8BkAGRAZIBkwGUAZUBlgGXAZgBmQGaAZsBnAGdAZ4BnwGgAaEBogGjAaQBpQGmAacBqAGpAaoBqwGsAa0BrgGvAbABsQGyAbMBtAG1AbYBtwG4AbkBugG7AbwBvQG+Ab8BwAHBAcIBwwHEAcUBxgHHAcgByQHKAcsBzAHNAc4BzwHQAdEB0gHTAdQB1QHWAdcB2AHZAdoB2wHcAd0B3gHfAeAB4QHiAeMB5AHlAeYB5wHoAekB6gHrAewB7QHuAe8B8AHxAfIB8wH0AfUB9gH3AfgB+QH6AfsB/AH9Af4B/wEAAgECAgIDAgQCBQIGAgcCCAIJAgoCCwIMAg0CDgIPAhACEQISAhMCFAIVAg==",
          "dtype": "i2"
         },
         "xaxis": "x2",
         "y": {
          "bdata": "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",
          "dtype": "f8"
         },
         "yaxis": "y2"
        },
        {
         "line": {
          "color": "green"
         },
         "mode": "lines",
         "name": "1-0067 (normal)",
         "type": "scatter",
         "x": {
          "bdata": "HwAgACEAIgAjACQAJQAmACcAKAApACoAKwAsAC0ALgAvADAAMQAyADMANAA1ADYANwA4ADkAOgA7ADwAPQA+AD8AQABBAEIAQwBEAEUARgBHAEgASQBKAEsATABNAE4ATwBQAFEAUgBTAFQAVQBWAFcAWABZAFoAWwBcAF0AXgBfAGAAYQBiAGMAZABlAGYAZwBoAGkAagBrAGwAbQBuAG8AcABxAHIAcwB0AHUAdgB3AHgAeQB6AHsAfAB9AH4AfwCAAIEAggCDAIQAhQCGAIcAiACJAIoAiwCMAI0AjgCPAJAAkQCSAJMAlACVAJYAlwCYAJkAmgCbAJwAnQCeAJ8AoAChAKIAowCkAKUApgCnAKgAqQCqAKsArACtAK4ArwCwALEAsgCzALQAtQC2ALcAuAC5ALoAuwC8AL0AvgC/AMAAwQDCAMMAxADFAMYAxwDIAMkAygDLAMwAzQDOAM8A0ADRANIA0wDUANUA1gDXANgA2QDaANsA3ADdAN4A3wDgAOEA4gDjAOQA5QDmAOcA6ADpAOoA6wDsAO0A7gDvAPAA8QDyAPMA9AD1APYA9wD4APkA+gD7APwA/QD+AP8AAAEBAQIBAwEEAQUBBgEHAQgBCQEKAQsBDAENAQ4BDwEQAREBEgETARQBFQEWARcBGAEZARoBGwEcAR0BHgEfASABIQEiASMBJAElASYBJwEoASkBKgErASwBLQEuAS8BMAExATIBMwE0ATUBNgE3ATgBOQE6ATsBPAE9AT4BPwFAAUEBQgFDAUQBRQFGAUcBSAFJAUoBSwFMAU0BTgFPAVABUQFSAVMBVAFVAVYBVwFYAVkBWgFbAVwBXQFeAV8BYAFhAWIBYwFkAWUBZgFnAWgBaQFqAWsBbAFtAW4BbwFwAXEBcgFzAXQBdQF2AXcBeAF5AXoBewF8AX0BfgF/AYABgQGCAYMBhAGFAYYBhwGIAYkBigGLAYwBjQGOAY8BkAGRAZIBkwGUAZUBlgGXAZgBmQGaAZsBnAGdAZ4BnwGgAaEBogGjAaQBpQGmAacBqAGpAaoBqwGsAa0BrgGvAbABsQGyAbMBtAG1AbYBtwG4AbkBugG7AbwBvQG+Ab8BwAHBAcIBwwHEAcUBxgHHAcgByQHKAcsBzAHNAc4BzwHQAdEB0gHTAdQB1QHWAdcB2AHZAdoB2wHcAd0B3gHfAeAB4QHiAeMB5AHlAeYB5wHoAekB6gHrAewB7QHuAe8B8AHxAfIB8wH0AfUB9gH3AfgB+QH6AfsB/AH9Af4B/wEAAgECAgIDAgQCBQIGAgcCCAIJAgoCCwIMAg0CDgIPAhACEQISAhMCFAIVAg==",
          "dtype": "i2"
         },
         "xaxis": "x",
         "y": {
          "bdata": "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",
          "dtype": "f8"
         },
         "yaxis": "y"
        },
        {
         "line": {
          "color": "green"
         },
         "mode": "lines",
         "name": "5-0067 (normal)",
         "type": "scatter",
         "x": {
          "bdata": "HwAgACEAIgAjACQAJQAmACcAKAApACoAKwAsAC0ALgAvADAAMQAyADMANAA1ADYANwA4ADkAOgA7ADwAPQA+AD8AQABBAEIAQwBEAEUARgBHAEgASQBKAEsATABNAE4ATwBQAFEAUgBTAFQAVQBWAFcAWABZAFoAWwBcAF0AXgBfAGAAYQBiAGMAZABlAGYAZwBoAGkAagBrAGwAbQBuAG8AcABxAHIAcwB0AHUAdgB3AHgAeQB6AHsAfAB9AH4AfwCAAIEAggCDAIQAhQCGAIcAiACJAIoAiwCMAI0AjgCPAJAAkQCSAJMAlACVAJYAlwCYAJkAmgCbAJwAnQCeAJ8AoAChAKIAowCkAKUApgCnAKgAqQCqAKsArACtAK4ArwCwALEAsgCzALQAtQC2ALcAuAC5ALoAuwC8AL0AvgC/AMAAwQDCAMMAxADFAMYAxwDIAMkAygDLAMwAzQDOAM8A0ADRANIA0wDUANUA1gDXANgA2QDaANsA3ADdAN4A3wDgAOEA4gDjAOQA5QDmAOcA6ADpAOoA6wDsAO0A7gDvAPAA8QDyAPMA9AD1APYA9wD4APkA+gD7APwA/QD+AP8AAAEBAQIBAwEEAQUBBgEHAQgBCQEKAQsBDAENAQ4BDwEQAREBEgETARQBFQEWARcBGAEZARoBGwEcAR0BHgEfASABIQEiASMBJAElASYBJwEoASkBKgErASwBLQEuAS8BMAExATIBMwE0ATUBNgE3ATgBOQE6ATsBPAE9AT4BPwFAAUEBQgFDAUQBRQFGAUcBSAFJAUoBSwFMAU0BTgFPAVABUQFSAVMBVAFVAVYBVwFYAVkBWgFbAVwBXQFeAV8BYAFhAWIBYwFkAWUBZgFnAWgBaQFqAWsBbAFtAW4BbwFwAXEBcgFzAXQBdQF2AXcBeAF5AXoBewF8AX0BfgF/AYABgQGCAYMBhAGFAYYBhwGIAYkBigGLAYwBjQGOAY8BkAGRAZIBkwGUAZUBlgGXAZgBmQGaAZsBnAGdAZ4BnwGgAaEBogGjAaQBpQGmAacBqAGpAaoBqwGsAa0BrgGvAbABsQGyAbMBtAG1AbYBtwG4AbkBugG7AbwBvQG+Ab8BwAHBAcIBwwHEAcUBxgHHAcgByQHKAcsBzAHNAc4BzwHQAdEB0gHTAdQB1QHWAdcB2AHZAdoB2wHcAd0B3gHfAeAB4QHiAeMB5AHlAeYB5wHoAekB6gHrAewB7QHuAe8B8AHxAfIB8wH0AfUB9gH3AfgB+QH6AfsB/AH9Af4B/wEAAgECAgIDAgQCBQIGAgcCCAIJAgoCCwIMAg0CDgIPAhACEQISAhMCFAIVAg==",
          "dtype": "i2"
         },
         "xaxis": "x2",
         "y": {
          "bdata": "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",
          "dtype": "f8"
         },
         "yaxis": "y2"
        },
        {
         "line": {
          "color": "green"
         },
         "mode": "lines",
         "name": "1-0071 (normal)",
         "type": "scatter",
         "x": {
          "bdata": "HwAgACEAIgAjACQAJQAmACcAKAApACoAKwAsAC0ALgAvADAAMQAyADMANAA1ADYANwA4ADkAOgA7ADwAPQA+AD8AQABBAEIAQwBEAEUARgBHAEgASQBKAEsATABNAE4ATwBQAFEAUgBTAFQAVQBWAFcAWABZAFoAWwBcAF0AXgBfAGAAYQBiAGMAZABlAGYAZwBoAGkAagBrAGwAbQBuAG8AcABxAHIAcwB0AHUAdgB3AHgAeQB6AHsAfAB9AH4AfwCAAIEAggCDAIQAhQCGAIcAiACJAIoAiwCMAI0AjgCPAJAAkQCSAJMAlACVAJYAlwCYAJkAmgCbAJwAnQCeAJ8AoAChAKIAowCkAKUApgCnAKgAqQCqAKsArACtAK4ArwCwALEAsgCzALQAtQC2ALcAuAC5ALoAuwC8AL0AvgC/AMAAwQDCAMMAxADFAMYAxwDIAMkAygDLAMwAzQDOAM8A0ADRANIA0wDUANUA1gDXANgA2QDaANsA3ADdAN4A3wDgAOEA4gDjAOQA5QDmAOcA6ADpAOoA6wDsAO0A7gDvAPAA8QDyAPMA9AD1APYA9wD4APkA+gD7APwA/QD+AP8AAAEBAQIBAwEEAQUBBgEHAQgBCQEKAQsBDAENAQ4BDwEQAREBEgETARQBFQEWARcBGAEZARoBGwEcAR0BHgEfASABIQEiASMBJAElASYBJwEoASkBKgErASwBLQEuAS8BMAExATIBMwE0ATUBNgE3ATgBOQE6ATsBPAE9AT4BPwFAAUEBQgFDAUQBRQFGAUcBSAFJAUoBSwFMAU0BTgFPAVABUQFSAVMBVAFVAVYBVwFYAVkBWgFbAVwBXQFeAV8BYAFhAWIBYwFkAWUBZgFnAWgBaQFqAWsBbAFtAW4BbwFwAXEBcgFzAXQBdQF2AXcBeAF5AXoBewF8AX0BfgF/AYABgQGCAYMBhAGFAYYBhwGIAYkBigGLAYwBjQGOAY8BkAGRAZIBkwGUAZUBlgGXAZgBmQGaAZsBnAGdAZ4BnwGgAaEBogGjAaQBpQGmAacBqAGpAaoBqwGsAa0BrgGvAbABsQGyAbMBtAG1AbYBtwG4AbkBugG7AbwBvQG+Ab8BwAHBAcIBwwHEAcUBxgHHAcgByQHKAcsBzAHNAc4BzwHQAdEB0gHTAdQB1QHWAdcB2AHZAdoB2wHcAd0B3gHfAeAB4QHiAeMB5AHlAeYB5wHoAekB6gHrAewB7QHuAe8B8AHxAfIB8wH0AfUB9gH3AfgB+QH6AfsB/AH9Af4B/wEAAgECAgIDAgQCBQIGAgcCCAIJAgoCCwIMAg0CDgIPAhACEQISAhMCFAIVAg==",
          "dtype": "i2"
         },
         "xaxis": "x",
         "y": {
          "bdata": "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",
          "dtype": "f8"
         },
         "yaxis": "y"
        },
        {
         "line": {
          "color": "green"
         },
         "mode": "lines",
         "name": "5-0071 (normal)",
         "type": "scatter",
         "x": {
          "bdata": "HwAgACEAIgAjACQAJQAmACcAKAApACoAKwAsAC0ALgAvADAAMQAyADMANAA1ADYANwA4ADkAOgA7ADwAPQA+AD8AQABBAEIAQwBEAEUARgBHAEgASQBKAEsATABNAE4ATwBQAFEAUgBTAFQAVQBWAFcAWABZAFoAWwBcAF0AXgBfAGAAYQBiAGMAZABlAGYAZwBoAGkAagBrAGwAbQBuAG8AcABxAHIAcwB0AHUAdgB3AHgAeQB6AHsAfAB9AH4AfwCAAIEAggCDAIQAhQCGAIcAiACJAIoAiwCMAI0AjgCPAJAAkQCSAJMAlACVAJYAlwCYAJkAmgCbAJwAnQCeAJ8AoAChAKIAowCkAKUApgCnAKgAqQCqAKsArACtAK4ArwCwALEAsgCzALQAtQC2ALcAuAC5ALoAuwC8AL0AvgC/AMAAwQDCAMMAxADFAMYAxwDIAMkAygDLAMwAzQDOAM8A0ADRANIA0wDUANUA1gDXANgA2QDaANsA3ADdAN4A3wDgAOEA4gDjAOQA5QDmAOcA6ADpAOoA6wDsAO0A7gDvAPAA8QDyAPMA9AD1APYA9wD4APkA+gD7APwA/QD+AP8AAAEBAQIBAwEEAQUBBgEHAQgBCQEKAQsBDAENAQ4BDwEQAREBEgETARQBFQEWARcBGAEZARoBGwEcAR0BHgEfASABIQEiASMBJAElASYBJwEoASkBKgErASwBLQEuAS8BMAExATIBMwE0ATUBNgE3ATgBOQE6ATsBPAE9AT4BPwFAAUEBQgFDAUQBRQFGAUcBSAFJAUoBSwFMAU0BTgFPAVABUQFSAVMBVAFVAVYBVwFYAVkBWgFbAVwBXQFeAV8BYAFhAWIBYwFkAWUBZgFnAWgBaQFqAWsBbAFtAW4BbwFwAXEBcgFzAXQBdQF2AXcBeAF5AXoBewF8AX0BfgF/AYABgQGCAYMBhAGFAYYBhwGIAYkBigGLAYwBjQGOAY8BkAGRAZIBkwGUAZUBlgGXAZgBmQGaAZsBnAGdAZ4BnwGgAaEBogGjAaQBpQGmAacBqAGpAaoBqwGsAa0BrgGvAbABsQGyAbMBtAG1AbYBtwG4AbkBugG7AbwBvQG+Ab8BwAHBAcIBwwHEAcUBxgHHAcgByQHKAcsBzAHNAc4BzwHQAdEB0gHTAdQB1QHWAdcB2AHZAdoB2wHcAd0B3gHfAeAB4QHiAeMB5AHlAeYB5wHoAekB6gHrAewB7QHuAe8B8AHxAfIB8wH0AfUB9gH3AfgB+QH6AfsB/AH9Af4B/wEAAgECAgIDAgQCBQIGAgcCCAIJAgoCCwIMAg0CDgIPAhACEQISAhMCFAIVAg==",
          "dtype": "i2"
         },
         "xaxis": "x2",
         "y": {
          "bdata": "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",
          "dtype": "f8"
         },
         "yaxis": "y2"
        },
        {
         "line": {
          "color": "green"
         },
         "mode": "lines",
         "name": "1-0076 (normal)",
         "type": "scatter",
         "x": {
          "bdata": "HwAgACEAIgAjACQAJQAmACcAKAApACoAKwAsAC0ALgAvADAAMQAyADMANAA1ADYANwA4ADkAOgA7ADwAPQA+AD8AQABBAEIAQwBEAEUARgBHAEgASQBKAEsATABNAE4ATwBQAFEAUgBTAFQAVQBWAFcAWABZAFoAWwBcAF0AXgBfAGAAYQBiAGMAZABlAGYAZwBoAGkAagBrAGwAbQBuAG8AcABxAHIAcwB0AHUAdgB3AHgAeQB6AHsAfAB9AH4AfwCAAIEAggCDAIQAhQCGAIcAiACJAIoAiwCMAI0AjgCPAJAAkQCSAJMAlACVAJYAlwCYAJkAmgCbAJwAnQCeAJ8AoAChAKIAowCkAKUApgCnAKgAqQCqAKsArACtAK4ArwCwALEAsgCzALQAtQC2ALcAuAC5ALoAuwC8AL0AvgC/AMAAwQDCAMMAxADFAMYAxwDIAMkAygDLAMwAzQDOAM8A0ADRANIA0wDUANUA1gDXANgA2QDaANsA3ADdAN4A3wDgAOEA4gDjAOQA5QDmAOcA6ADpAOoA6wDsAO0A7gDvAPAA8QDyAPMA9AD1APYA9wD4APkA+gD7APwA/QD+AP8AAAEBAQIBAwEEAQUBBgEHAQgBCQEKAQsBDAENAQ4BDwEQAREBEgETARQBFQEWARcBGAEZARoBGwEcAR0BHgEfASABIQEiASMBJAElASYBJwEoASkBKgErASwBLQEuAS8BMAExATIBMwE0ATUBNgE3ATgBOQE6ATsBPAE9AT4BPwFAAUEBQgFDAUQBRQFGAUcBSAFJAUoBSwFMAU0BTgFPAVABUQFSAVMBVAFVAVYBVwFYAVkBWgFbAVwBXQFeAV8BYAFhAWIBYwFkAWUBZgFnAWgBaQFqAWsBbAFtAW4BbwFwAXEBcgFzAXQBdQF2AXcBeAF5AXoBewF8AX0BfgF/AYABgQGCAYMBhAGFAYYBhwGIAYkBigGLAYwBjQGOAY8BkAGRAZIBkwGUAZUBlgGXAZgBmQGaAZsBnAGdAZ4BnwGgAaEBogGjAaQBpQGmAacBqAGpAaoBqwGsAa0BrgGvAbABsQGyAbMBtAG1AbYBtwG4AbkBugG7AbwBvQG+Ab8BwAHBAcIBwwHEAcUBxgHHAcgByQHKAcsBzAHNAc4BzwHQAdEB0gHTAdQB1QHWAdcB2AHZAdoB2wHcAd0B3gHfAeAB4QHiAeMB5AHlAeYB5wHoAekB6gHrAewB7QHuAe8B8AHxAfIB8wH0AfUB9gH3AfgB+QH6AfsB/AH9Af4B/wEAAgECAgIDAgQCBQIGAgcCCAIJAgoCCwIMAg0CDgIPAhACEQISAhMCFAIVAg==",
          "dtype": "i2"
         },
         "xaxis": "x",
         "y": {
          "bdata": "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",
          "dtype": "f8"
         },
         "yaxis": "y"
        },
        {
         "line": {
          "color": "green"
         },
         "mode": "lines",
         "name": "5-0076 (normal)",
         "type": "scatter",
         "x": {
          "bdata": "HwAgACEAIgAjACQAJQAmACcAKAApACoAKwAsAC0ALgAvADAAMQAyADMANAA1ADYANwA4ADkAOgA7ADwAPQA+AD8AQABBAEIAQwBEAEUARgBHAEgASQBKAEsATABNAE4ATwBQAFEAUgBTAFQAVQBWAFcAWABZAFoAWwBcAF0AXgBfAGAAYQBiAGMAZABlAGYAZwBoAGkAagBrAGwAbQBuAG8AcABxAHIAcwB0AHUAdgB3AHgAeQB6AHsAfAB9AH4AfwCAAIEAggCDAIQAhQCGAIcAiACJAIoAiwCMAI0AjgCPAJAAkQCSAJMAlACVAJYAlwCYAJkAmgCbAJwAnQCeAJ8AoAChAKIAowCkAKUApgCnAKgAqQCqAKsArACtAK4ArwCwALEAsgCzALQAtQC2ALcAuAC5ALoAuwC8AL0AvgC/AMAAwQDCAMMAxADFAMYAxwDIAMkAygDLAMwAzQDOAM8A0ADRANIA0wDUANUA1gDXANgA2QDaANsA3ADdAN4A3wDgAOEA4gDjAOQA5QDmAOcA6ADpAOoA6wDsAO0A7gDvAPAA8QDyAPMA9AD1APYA9wD4APkA+gD7APwA/QD+AP8AAAEBAQIBAwEEAQUBBgEHAQgBCQEKAQsBDAENAQ4BDwEQAREBEgETARQBFQEWARcBGAEZARoBGwEcAR0BHgEfASABIQEiASMBJAElASYBJwEoASkBKgErASwBLQEuAS8BMAExATIBMwE0ATUBNgE3ATgBOQE6ATsBPAE9AT4BPwFAAUEBQgFDAUQBRQFGAUcBSAFJAUoBSwFMAU0BTgFPAVABUQFSAVMBVAFVAVYBVwFYAVkBWgFbAVwBXQFeAV8BYAFhAWIBYwFkAWUBZgFnAWgBaQFqAWsBbAFtAW4BbwFwAXEBcgFzAXQBdQF2AXcBeAF5AXoBewF8AX0BfgF/AYABgQGCAYMBhAGFAYYBhwGIAYkBigGLAYwBjQGOAY8BkAGRAZIBkwGUAZUBlgGXAZgBmQGaAZsBnAGdAZ4BnwGgAaEBogGjAaQBpQGmAacBqAGpAaoBqwGsAa0BrgGvAbABsQGyAbMBtAG1AbYBtwG4AbkBugG7AbwBvQG+Ab8BwAHBAcIBwwHEAcUBxgHHAcgByQHKAcsBzAHNAc4BzwHQAdEB0gHTAdQB1QHWAdcB2AHZAdoB2wHcAd0B3gHfAeAB4QHiAeMB5AHlAeYB5wHoAekB6gHrAewB7QHuAe8B8AHxAfIB8wH0AfUB9gH3AfgB+QH6AfsB/AH9Af4B/wEAAgECAgIDAgQCBQIGAgcCCAIJAgoCCwIMAg0CDgIPAhACEQISAhMCFAIVAg==",
          "dtype": "i2"
         },
         "xaxis": "x2",
         "y": {
          "bdata": "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",
          "dtype": "f8"
         },
         "yaxis": "y2"
        },
        {
         "line": {
          "color": "green"
         },
         "mode": "lines",
         "name": "1-0078 (normal)",
         "type": "scatter",
         "x": {
          "bdata": "HwAgACEAIgAjACQAJQAmACcAKAApACoAKwAsAC0ALgAvADAAMQAyADMANAA1ADYANwA4ADkAOgA7ADwAPQA+AD8AQABBAEIAQwBEAEUARgBHAEgASQBKAEsATABNAE4ATwBQAFEAUgBTAFQAVQBWAFcAWABZAFoAWwBcAF0AXgBfAGAAYQBiAGMAZABlAGYAZwBoAGkAagBrAGwAbQBuAG8AcABxAHIAcwB0AHUAdgB3AHgAeQB6AHsAfAB9AH4AfwCAAIEAggCDAIQAhQCGAIcAiACJAIoAiwCMAI0AjgCPAJAAkQCSAJMAlACVAJYAlwCYAJkAmgCbAJwAnQCeAJ8AoAChAKIAowCkAKUApgCnAKgAqQCqAKsArACtAK4ArwCwALEAsgCzALQAtQC2ALcAuAC5ALoAuwC8AL0AvgC/AMAAwQDCAMMAxADFAMYAxwDIAMkAygDLAMwAzQDOAM8A0ADRANIA0wDUANUA1gDXANgA2QDaANsA3ADdAN4A3wDgAOEA4gDjAOQA5QDmAOcA6ADpAOoA6wDsAO0A7gDvAPAA8QDyAPMA9AD1APYA9wD4APkA+gD7APwA/QD+AP8AAAEBAQIBAwEEAQUBBgEHAQgBCQEKAQsBDAENAQ4BDwEQAREBEgETARQBFQEWARcBGAEZARoBGwEcAR0BHgEfASABIQEiASMBJAElASYBJwEoASkBKgErASwBLQEuAS8BMAExATIBMwE0ATUBNgE3ATgBOQE6ATsBPAE9AT4BPwFAAUEBQgFDAUQBRQFGAUcBSAFJAUoBSwFMAU0BTgFPAVABUQFSAVMBVAFVAVYBVwFYAVkBWgFbAVwBXQFeAV8BYAFhAWIBYwFkAWUBZgFnAWgBaQFqAWsBbAFtAW4BbwFwAXEBcgFzAXQBdQF2AXcBeAF5AXoBewF8AX0BfgF/AYABgQGCAYMBhAGFAYYBhwGIAYkBigGLAYwBjQGOAY8BkAGRAZIBkwGUAZUBlgGXAZgBmQGaAZsBnAGdAZ4BnwGgAaEBogGjAaQBpQGmAacBqAGpAaoBqwGsAa0BrgGvAbABsQGyAbMBtAG1AbYBtwG4AbkBugG7AbwBvQG+Ab8BwAHBAcIBwwHEAcUBxgHHAcgByQHKAcsBzAHNAc4BzwHQAdEB0gHTAdQB1QHWAdcB2AHZAdoB2wHcAd0B3gHfAeAB4QHiAeMB5AHlAeYB5wHoAekB6gHrAewB7QHuAe8B8AHxAfIB8wH0AfUB9gH3AfgB+QH6AfsB/AH9Af4B/wEAAgECAgIDAgQCBQIGAgcCCAIJAgoCCwIMAg0CDgIPAhACEQISAhMCFAIVAg==",
          "dtype": "i2"
         },
         "xaxis": "x",
         "y": {
          "bdata": "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",
          "dtype": "f8"
         },
         "yaxis": "y"
        },
        {
         "line": {
          "color": "green"
         },
         "mode": "lines",
         "name": "5-0078 (normal)",
         "type": "scatter",
         "x": {
          "bdata": "HwAgACEAIgAjACQAJQAmACcAKAApACoAKwAsAC0ALgAvADAAMQAyADMANAA1ADYANwA4ADkAOgA7ADwAPQA+AD8AQABBAEIAQwBEAEUARgBHAEgASQBKAEsATABNAE4ATwBQAFEAUgBTAFQAVQBWAFcAWABZAFoAWwBcAF0AXgBfAGAAYQBiAGMAZABlAGYAZwBoAGkAagBrAGwAbQBuAG8AcABxAHIAcwB0AHUAdgB3AHgAeQB6AHsAfAB9AH4AfwCAAIEAggCDAIQAhQCGAIcAiACJAIoAiwCMAI0AjgCPAJAAkQCSAJMAlACVAJYAlwCYAJkAmgCbAJwAnQCeAJ8AoAChAKIAowCkAKUApgCnAKgAqQCqAKsArACtAK4ArwCwALEAsgCzALQAtQC2ALcAuAC5ALoAuwC8AL0AvgC/AMAAwQDCAMMAxADFAMYAxwDIAMkAygDLAMwAzQDOAM8A0ADRANIA0wDUANUA1gDXANgA2QDaANsA3ADdAN4A3wDgAOEA4gDjAOQA5QDmAOcA6ADpAOoA6wDsAO0A7gDvAPAA8QDyAPMA9AD1APYA9wD4APkA+gD7APwA/QD+AP8AAAEBAQIBAwEEAQUBBgEHAQgBCQEKAQsBDAENAQ4BDwEQAREBEgETARQBFQEWARcBGAEZARoBGwEcAR0BHgEfASABIQEiASMBJAElASYBJwEoASkBKgErASwBLQEuAS8BMAExATIBMwE0ATUBNgE3ATgBOQE6ATsBPAE9AT4BPwFAAUEBQgFDAUQBRQFGAUcBSAFJAUoBSwFMAU0BTgFPAVABUQFSAVMBVAFVAVYBVwFYAVkBWgFbAVwBXQFeAV8BYAFhAWIBYwFkAWUBZgFnAWgBaQFqAWsBbAFtAW4BbwFwAXEBcgFzAXQBdQF2AXcBeAF5AXoBewF8AX0BfgF/AYABgQGCAYMBhAGFAYYBhwGIAYkBigGLAYwBjQGOAY8BkAGRAZIBkwGUAZUBlgGXAZgBmQGaAZsBnAGdAZ4BnwGgAaEBogGjAaQBpQGmAacBqAGpAaoBqwGsAa0BrgGvAbABsQGyAbMBtAG1AbYBtwG4AbkBugG7AbwBvQG+Ab8BwAHBAcIBwwHEAcUBxgHHAcgByQHKAcsBzAHNAc4BzwHQAdEB0gHTAdQB1QHWAdcB2AHZAdoB2wHcAd0B3gHfAeAB4QHiAeMB5AHlAeYB5wHoAekB6gHrAewB7QHuAe8B8AHxAfIB8wH0AfUB9gH3AfgB+QH6AfsB/AH9Af4B/wEAAgECAgIDAgQCBQIGAgcCCAIJAgoCCwIMAg0CDgIPAhACEQISAhMCFAIVAg==",
          "dtype": "i2"
         },
         "xaxis": "x2",
         "y": {
          "bdata": "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",
          "dtype": "f8"
         },
         "yaxis": "y2"
        },
        {
         "line": {
          "color": "green"
         },
         "mode": "lines",
         "name": "1-0079 (normal)",
         "type": "scatter",
         "x": {
          "bdata": "HwAgACEAIgAjACQAJQAmACcAKAApACoAKwAsAC0ALgAvADAAMQAyADMANAA1ADYANwA4ADkAOgA7ADwAPQA+AD8AQABBAEIAQwBEAEUARgBHAEgASQBKAEsATABNAE4ATwBQAFEAUgBTAFQAVQBWAFcAWABZAFoAWwBcAF0AXgBfAGAAYQBiAGMAZABlAGYAZwBoAGkAagBrAGwAbQBuAG8AcABxAHIAcwB0AHUAdgB3AHgAeQB6AHsAfAB9AH4AfwCAAIEAggCDAIQAhQCGAIcAiACJAIoAiwCMAI0AjgCPAJAAkQCSAJMAlACVAJYAlwCYAJkAmgCbAJwAnQCeAJ8AoAChAKIAowCkAKUApgCnAKgAqQCqAKsArACtAK4ArwCwALEAsgCzALQAtQC2ALcAuAC5ALoAuwC8AL0AvgC/AMAAwQDCAMMAxADFAMYAxwDIAMkAygDLAMwAzQDOAM8A0ADRANIA0wDUANUA1gDXANgA2QDaANsA3ADdAN4A3wDgAOEA4gDjAOQA5QDmAOcA6ADpAOoA6wDsAO0A7gDvAPAA8QDyAPMA9AD1APYA9wD4APkA+gD7APwA/QD+AP8AAAEBAQIBAwEEAQUBBgEHAQgBCQEKAQsBDAENAQ4BDwEQAREBEgETARQBFQEWARcBGAEZARoBGwEcAR0BHgEfASABIQEiASMBJAElASYBJwEoASkBKgErASwBLQEuAS8BMAExATIBMwE0ATUBNgE3ATgBOQE6ATsBPAE9AT4BPwFAAUEBQgFDAUQBRQFGAUcBSAFJAUoBSwFMAU0BTgFPAVABUQFSAVMBVAFVAVYBVwFYAVkBWgFbAVwBXQFeAV8BYAFhAWIBYwFkAWUBZgFnAWgBaQFqAWsBbAFtAW4BbwFwAXEBcgFzAXQBdQF2AXcBeAF5AXoBewF8AX0BfgF/AYABgQGCAYMBhAGFAYYBhwGIAYkBigGLAYwBjQGOAY8BkAGRAZIBkwGUAZUBlgGXAZgBmQGaAZsBnAGdAZ4BnwGgAaEBogGjAaQBpQGmAacBqAGpAaoBqwGsAa0BrgGvAbABsQGyAbMBtAG1AbYBtwG4AbkBugG7AbwBvQG+Ab8BwAHBAcIBwwHEAcUBxgHHAcgByQHKAcsBzAHNAc4BzwHQAdEB0gHTAdQB1QHWAdcB2AHZAdoB2wHcAd0B3gHfAeAB4QHiAeMB5AHlAeYB5wHoAekB6gHrAewB7QHuAe8B8AHxAfIB8wH0AfUB9gH3AfgB+QH6AfsB/AH9Af4B/wEAAgECAgIDAgQCBQIGAgcCCAIJAgoCCwIMAg0CDgIPAhACEQISAhMCFAIVAg==",
          "dtype": "i2"
         },
         "xaxis": "x",
         "y": {
          "bdata": "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",
          "dtype": "f8"
         },
         "yaxis": "y"
        },
        {
         "line": {
          "color": "green"
         },
         "mode": "lines",
         "name": "5-0079 (normal)",
         "type": "scatter",
         "x": {
          "bdata": "HwAgACEAIgAjACQAJQAmACcAKAApACoAKwAsAC0ALgAvADAAMQAyADMANAA1ADYANwA4ADkAOgA7ADwAPQA+AD8AQABBAEIAQwBEAEUARgBHAEgASQBKAEsATABNAE4ATwBQAFEAUgBTAFQAVQBWAFcAWABZAFoAWwBcAF0AXgBfAGAAYQBiAGMAZABlAGYAZwBoAGkAagBrAGwAbQBuAG8AcABxAHIAcwB0AHUAdgB3AHgAeQB6AHsAfAB9AH4AfwCAAIEAggCDAIQAhQCGAIcAiACJAIoAiwCMAI0AjgCPAJAAkQCSAJMAlACVAJYAlwCYAJkAmgCbAJwAnQCeAJ8AoAChAKIAowCkAKUApgCnAKgAqQCqAKsArACtAK4ArwCwALEAsgCzALQAtQC2ALcAuAC5ALoAuwC8AL0AvgC/AMAAwQDCAMMAxADFAMYAxwDIAMkAygDLAMwAzQDOAM8A0ADRANIA0wDUANUA1gDXANgA2QDaANsA3ADdAN4A3wDgAOEA4gDjAOQA5QDmAOcA6ADpAOoA6wDsAO0A7gDvAPAA8QDyAPMA9AD1APYA9wD4APkA+gD7APwA/QD+AP8AAAEBAQIBAwEEAQUBBgEHAQgBCQEKAQsBDAENAQ4BDwEQAREBEgETARQBFQEWARcBGAEZARoBGwEcAR0BHgEfASABIQEiASMBJAElASYBJwEoASkBKgErASwBLQEuAS8BMAExATIBMwE0ATUBNgE3ATgBOQE6ATsBPAE9AT4BPwFAAUEBQgFDAUQBRQFGAUcBSAFJAUoBSwFMAU0BTgFPAVABUQFSAVMBVAFVAVYBVwFYAVkBWgFbAVwBXQFeAV8BYAFhAWIBYwFkAWUBZgFnAWgBaQFqAWsBbAFtAW4BbwFwAXEBcgFzAXQBdQF2AXcBeAF5AXoBewF8AX0BfgF/AYABgQGCAYMBhAGFAYYBhwGIAYkBigGLAYwBjQGOAY8BkAGRAZIBkwGUAZUBlgGXAZgBmQGaAZsBnAGdAZ4BnwGgAaEBogGjAaQBpQGmAacBqAGpAaoBqwGsAa0BrgGvAbABsQGyAbMBtAG1AbYBtwG4AbkBugG7AbwBvQG+Ab8BwAHBAcIBwwHEAcUBxgHHAcgByQHKAcsBzAHNAc4BzwHQAdEB0gHTAdQB1QHWAdcB2AHZAdoB2wHcAd0B3gHfAeAB4QHiAeMB5AHlAeYB5wHoAekB6gHrAewB7QHuAe8B8AHxAfIB8wH0AfUB9gH3AfgB+QH6AfsB/AH9Af4B/wEAAgECAgIDAgQCBQIGAgcCCAIJAgoCCwIMAg0CDgIPAhACEQISAhMCFAIVAg==",
          "dtype": "i2"
         },
         "xaxis": "x2",
         "y": {
          "bdata": "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",
          "dtype": "f8"
         },
         "yaxis": "y2"
        },
        {
         "line": {
          "color": "green"
         },
         "mode": "lines",
         "name": "1-0083 (normal)",
         "type": "scatter",
         "x": {
          "bdata": "HwAgACEAIgAjACQAJQAmACcAKAApACoAKwAsAC0ALgAvADAAMQAyADMANAA1ADYANwA4ADkAOgA7ADwAPQA+AD8AQABBAEIAQwBEAEUARgBHAEgASQBKAEsATABNAE4ATwBQAFEAUgBTAFQAVQBWAFcAWABZAFoAWwBcAF0AXgBfAGAAYQBiAGMAZABlAGYAZwBoAGkAagBrAGwAbQBuAG8AcABxAHIAcwB0AHUAdgB3AHgAeQB6AHsAfAB9AH4AfwCAAIEAggCDAIQAhQCGAIcAiACJAIoAiwCMAI0AjgCPAJAAkQCSAJMAlACVAJYAlwCYAJkAmgCbAJwAnQCeAJ8AoAChAKIAowCkAKUApgCnAKgAqQCqAKsArACtAK4ArwCwALEAsgCzALQAtQC2ALcAuAC5ALoAuwC8AL0AvgC/AMAAwQDCAMMAxADFAMYAxwDIAMkAygDLAMwAzQDOAM8A0ADRANIA0wDUANUA1gDXANgA2QDaANsA3ADdAN4A3wDgAOEA4gDjAOQA5QDmAOcA6ADpAOoA6wDsAO0A7gDvAPAA8QDyAPMA9AD1APYA9wD4APkA+gD7APwA/QD+AP8AAAEBAQIBAwEEAQUBBgEHAQgBCQEKAQsBDAENAQ4BDwEQAREBEgETARQBFQEWARcBGAEZARoBGwEcAR0BHgEfASABIQEiASMBJAElASYBJwEoASkBKgErASwBLQEuAS8BMAExATIBMwE0ATUBNgE3ATgBOQE6ATsBPAE9AT4BPwFAAUEBQgFDAUQBRQFGAUcBSAFJAUoBSwFMAU0BTgFPAVABUQFSAVMBVAFVAVYBVwFYAVkBWgFbAVwBXQFeAV8BYAFhAWIBYwFkAWUBZgFnAWgBaQFqAWsBbAFtAW4BbwFwAXEBcgFzAXQBdQF2AXcBeAF5AXoBewF8AX0BfgF/AYABgQGCAYMBhAGFAYYBhwGIAYkBigGLAYwBjQGOAY8BkAGRAZIBkwGUAZUBlgGXAZgBmQGaAZsBnAGdAZ4BnwGgAaEBogGjAaQBpQGmAacBqAGpAaoBqwGsAa0BrgGvAbABsQGyAbMBtAG1AbYBtwG4AbkBugG7AbwBvQG+Ab8BwAHBAcIBwwHEAcUBxgHHAcgByQHKAcsBzAHNAc4BzwHQAdEB0gHTAdQB1QHWAdcB2AHZAdoB2wHcAd0B3gHfAeAB4QHiAeMB5AHlAeYB5wHoAekB6gHrAewB7QHuAe8B8AHxAfIB8wH0AfUB9gH3AfgB+QH6AfsB/AH9Af4B/wEAAgECAgIDAgQCBQIGAgcCCAIJAgoCCwIMAg0CDgIPAhACEQISAhMCFAIVAg==",
          "dtype": "i2"
         },
         "xaxis": "x",
         "y": {
          "bdata": "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",
          "dtype": "f8"
         },
         "yaxis": "y"
        },
        {
         "line": {
          "color": "green"
         },
         "mode": "lines",
         "name": "5-0083 (normal)",
         "type": "scatter",
         "x": {
          "bdata": "HwAgACEAIgAjACQAJQAmACcAKAApACoAKwAsAC0ALgAvADAAMQAyADMANAA1ADYANwA4ADkAOgA7ADwAPQA+AD8AQABBAEIAQwBEAEUARgBHAEgASQBKAEsATABNAE4ATwBQAFEAUgBTAFQAVQBWAFcAWABZAFoAWwBcAF0AXgBfAGAAYQBiAGMAZABlAGYAZwBoAGkAagBrAGwAbQBuAG8AcABxAHIAcwB0AHUAdgB3AHgAeQB6AHsAfAB9AH4AfwCAAIEAggCDAIQAhQCGAIcAiACJAIoAiwCMAI0AjgCPAJAAkQCSAJMAlACVAJYAlwCYAJkAmgCbAJwAnQCeAJ8AoAChAKIAowCkAKUApgCnAKgAqQCqAKsArACtAK4ArwCwALEAsgCzALQAtQC2ALcAuAC5ALoAuwC8AL0AvgC/AMAAwQDCAMMAxADFAMYAxwDIAMkAygDLAMwAzQDOAM8A0ADRANIA0wDUANUA1gDXANgA2QDaANsA3ADdAN4A3wDgAOEA4gDjAOQA5QDmAOcA6ADpAOoA6wDsAO0A7gDvAPAA8QDyAPMA9AD1APYA9wD4APkA+gD7APwA/QD+AP8AAAEBAQIBAwEEAQUBBgEHAQgBCQEKAQsBDAENAQ4BDwEQAREBEgETARQBFQEWARcBGAEZARoBGwEcAR0BHgEfASABIQEiASMBJAElASYBJwEoASkBKgErASwBLQEuAS8BMAExATIBMwE0ATUBNgE3ATgBOQE6ATsBPAE9AT4BPwFAAUEBQgFDAUQBRQFGAUcBSAFJAUoBSwFMAU0BTgFPAVABUQFSAVMBVAFVAVYBVwFYAVkBWgFbAVwBXQFeAV8BYAFhAWIBYwFkAWUBZgFnAWgBaQFqAWsBbAFtAW4BbwFwAXEBcgFzAXQBdQF2AXcBeAF5AXoBewF8AX0BfgF/AYABgQGCAYMBhAGFAYYBhwGIAYkBigGLAYwBjQGOAY8BkAGRAZIBkwGUAZUBlgGXAZgBmQGaAZsBnAGdAZ4BnwGgAaEBogGjAaQBpQGmAacBqAGpAaoBqwGsAa0BrgGvAbABsQGyAbMBtAG1AbYBtwG4AbkBugG7AbwBvQG+Ab8BwAHBAcIBwwHEAcUBxgHHAcgByQHKAcsBzAHNAc4BzwHQAdEB0gHTAdQB1QHWAdcB2AHZAdoB2wHcAd0B3gHfAeAB4QHiAeMB5AHlAeYB5wHoAekB6gHrAewB7QHuAe8B8AHxAfIB8wH0AfUB9gH3AfgB+QH6AfsB/AH9Af4B/wEAAgECAgIDAgQCBQIGAgcCCAIJAgoCCwIMAg0CDgIPAhACEQISAhMCFAIVAg==",
          "dtype": "i2"
         },
         "xaxis": "x2",
         "y": {
          "bdata": "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",
          "dtype": "f8"
         },
         "yaxis": "y2"
        },
        {
         "line": {
          "color": "red"
         },
         "mode": "lines",
         "name": "1-0109 (defective)",
         "type": "scatter",
         "x": {
          "bdata": "HwAgACEAIgAjACQAJQAmACcAKAApACoAKwAsAC0ALgAvADAAMQAyADMANAA1ADYANwA4ADkAOgA7ADwAPQA+AD8AQABBAEIAQwBEAEUARgBHAEgASQBKAEsATABNAE4ATwBQAFEAUgBTAFQAVQBWAFcAWABZAFoAWwBcAF0AXgBfAGAAYQBiAGMAZABlAGYAZwBoAGkAagBrAGwAbQBuAG8AcABxAHIAcwB0AHUAdgB3AHgAeQB6AHsAfAB9AH4AfwCAAIEAggCDAIQAhQCGAIcAiACJAIoAiwCMAI0AjgCPAJAAkQCSAJMAlACVAJYAlwCYAJkAmgCbAJwAnQCeAJ8AoAChAKIAowCkAKUApgCnAKgAqQCqAKsArACtAK4ArwCwALEAsgCzALQAtQC2ALcAuAC5ALoAuwC8AL0AvgC/AMAAwQDCAMMAxADFAMYAxwDIAMkAygDLAMwAzQDOAM8A0ADRANIA0wDUANUA1gDXANgA2QDaANsA3ADdAN4A3wDgAOEA4gDjAOQA5QDmAOcA6ADpAOoA6wDsAO0A7gDvAPAA8QDyAPMA9AD1APYA9wD4APkA+gD7APwA/QD+AP8AAAEBAQIBAwEEAQUBBgEHAQgBCQEKAQsBDAENAQ4BDwEQAREBEgETARQBFQEWARcBGAEZARoBGwEcAR0BHgEfASABIQEiASMBJAElASYBJwEoASkBKgErASwBLQEuAS8BMAExATIBMwE0ATUBNgE3ATgBOQE6ATsBPAE9AT4BPwFAAUEBQgFDAUQBRQFGAUcBSAFJAUoBSwFMAU0BTgFPAVABUQFSAVMBVAFVAVYBVwFYAVkBWgFbAVwBXQFeAV8BYAFhAWIBYwFkAWUBZgFnAWgBaQFqAWsBbAFtAW4BbwFwAXEBcgFzAXQBdQF2AXcBeAF5AXoBewF8AX0BfgF/AYABgQGCAYMBhAGFAYYBhwGIAYkBigGLAYwBjQGOAY8BkAGRAZIBkwGUAZUBlgGXAZgBmQGaAZsBnAGdAZ4BnwGgAaEBogGjAaQBpQGmAacBqAGpAaoBqwGsAa0BrgGvAbABsQGyAbMBtAG1AbYBtwG4AbkBugG7AbwBvQG+Ab8BwAHBAcIBwwHEAcUBxgHHAcgByQHKAcsBzAHNAc4BzwHQAdEB0gHTAdQB1QHWAdcB2AHZAdoB2wHcAd0B3gHfAeAB4QHiAeMB5AHlAeYB5wHoAekB6gHrAewB7QHuAe8B8AHxAfIB8wH0AfUB9gH3AfgB+QH6AfsB/AH9Af4B/wEAAgECAgIDAgQCBQIGAgcCCAIJAgoCCwIMAg0CDgIPAhACEQISAhMCFAIVAg==",
          "dtype": "i2"
         },
         "xaxis": "x",
         "y": {
          "bdata": "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",
          "dtype": "f8"
         },
         "yaxis": "y"
        },
        {
         "line": {
          "color": "red"
         },
         "mode": "lines",
         "name": "5-0109 (defective)",
         "type": "scatter",
         "x": {
          "bdata": "HwAgACEAIgAjACQAJQAmACcAKAApACoAKwAsAC0ALgAvADAAMQAyADMANAA1ADYANwA4ADkAOgA7ADwAPQA+AD8AQABBAEIAQwBEAEUARgBHAEgASQBKAEsATABNAE4ATwBQAFEAUgBTAFQAVQBWAFcAWABZAFoAWwBcAF0AXgBfAGAAYQBiAGMAZABlAGYAZwBoAGkAagBrAGwAbQBuAG8AcABxAHIAcwB0AHUAdgB3AHgAeQB6AHsAfAB9AH4AfwCAAIEAggCDAIQAhQCGAIcAiACJAIoAiwCMAI0AjgCPAJAAkQCSAJMAlACVAJYAlwCYAJkAmgCbAJwAnQCeAJ8AoAChAKIAowCkAKUApgCnAKgAqQCqAKsArACtAK4ArwCwALEAsgCzALQAtQC2ALcAuAC5ALoAuwC8AL0AvgC/AMAAwQDCAMMAxADFAMYAxwDIAMkAygDLAMwAzQDOAM8A0ADRANIA0wDUANUA1gDXANgA2QDaANsA3ADdAN4A3wDgAOEA4gDjAOQA5QDmAOcA6ADpAOoA6wDsAO0A7gDvAPAA8QDyAPMA9AD1APYA9wD4APkA+gD7APwA/QD+AP8AAAEBAQIBAwEEAQUBBgEHAQgBCQEKAQsBDAENAQ4BDwEQAREBEgETARQBFQEWARcBGAEZARoBGwEcAR0BHgEfASABIQEiASMBJAElASYBJwEoASkBKgErASwBLQEuAS8BMAExATIBMwE0ATUBNgE3ATgBOQE6ATsBPAE9AT4BPwFAAUEBQgFDAUQBRQFGAUcBSAFJAUoBSwFMAU0BTgFPAVABUQFSAVMBVAFVAVYBVwFYAVkBWgFbAVwBXQFeAV8BYAFhAWIBYwFkAWUBZgFnAWgBaQFqAWsBbAFtAW4BbwFwAXEBcgFzAXQBdQF2AXcBeAF5AXoBewF8AX0BfgF/AYABgQGCAYMBhAGFAYYBhwGIAYkBigGLAYwBjQGOAY8BkAGRAZIBkwGUAZUBlgGXAZgBmQGaAZsBnAGdAZ4BnwGgAaEBogGjAaQBpQGmAacBqAGpAaoBqwGsAa0BrgGvAbABsQGyAbMBtAG1AbYBtwG4AbkBugG7AbwBvQG+Ab8BwAHBAcIBwwHEAcUBxgHHAcgByQHKAcsBzAHNAc4BzwHQAdEB0gHTAdQB1QHWAdcB2AHZAdoB2wHcAd0B3gHfAeAB4QHiAeMB5AHlAeYB5wHoAekB6gHrAewB7QHuAe8B8AHxAfIB8wH0AfUB9gH3AfgB+QH6AfsB/AH9Af4B/wEAAgECAgIDAgQCBQIGAgcCCAIJAgoCCwIMAg0CDgIPAhACEQISAhMCFAIVAg==",
          "dtype": "i2"
         },
         "xaxis": "x2",
         "y": {
          "bdata": "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",
          "dtype": "f8"
         },
         "yaxis": "y2"
        },
        {
         "line": {
          "color": "red"
         },
         "mode": "lines",
         "name": "1-0116 (defective)",
         "type": "scatter",
         "x": {
          "bdata": "HwAgACEAIgAjACQAJQAmACcAKAApACoAKwAsAC0ALgAvADAAMQAyADMANAA1ADYANwA4ADkAOgA7ADwAPQA+AD8AQABBAEIAQwBEAEUARgBHAEgASQBKAEsATABNAE4ATwBQAFEAUgBTAFQAVQBWAFcAWABZAFoAWwBcAF0AXgBfAGAAYQBiAGMAZABlAGYAZwBoAGkAagBrAGwAbQBuAG8AcABxAHIAcwB0AHUAdgB3AHgAeQB6AHsAfAB9AH4AfwCAAIEAggCDAIQAhQCGAIcAiACJAIoAiwCMAI0AjgCPAJAAkQCSAJMAlACVAJYAlwCYAJkAmgCbAJwAnQCeAJ8AoAChAKIAowCkAKUApgCnAKgAqQCqAKsArACtAK4ArwCwALEAsgCzALQAtQC2ALcAuAC5ALoAuwC8AL0AvgC/AMAAwQDCAMMAxADFAMYAxwDIAMkAygDLAMwAzQDOAM8A0ADRANIA0wDUANUA1gDXANgA2QDaANsA3ADdAN4A3wDgAOEA4gDjAOQA5QDmAOcA6ADpAOoA6wDsAO0A7gDvAPAA8QDyAPMA9AD1APYA9wD4APkA+gD7APwA/QD+AP8AAAEBAQIBAwEEAQUBBgEHAQgBCQEKAQsBDAENAQ4BDwEQAREBEgETARQBFQEWARcBGAEZARoBGwEcAR0BHgEfASABIQEiASMBJAElASYBJwEoASkBKgErASwBLQEuAS8BMAExATIBMwE0ATUBNgE3ATgBOQE6ATsBPAE9AT4BPwFAAUEBQgFDAUQBRQFGAUcBSAFJAUoBSwFMAU0BTgFPAVABUQFSAVMBVAFVAVYBVwFYAVkBWgFbAVwBXQFeAV8BYAFhAWIBYwFkAWUBZgFnAWgBaQFqAWsBbAFtAW4BbwFwAXEBcgFzAXQBdQF2AXcBeAF5AXoBewF8AX0BfgF/AYABgQGCAYMBhAGFAYYBhwGIAYkBigGLAYwBjQGOAY8BkAGRAZIBkwGUAZUBlgGXAZgBmQGaAZsBnAGdAZ4BnwGgAaEBogGjAaQBpQGmAacBqAGpAaoBqwGsAa0BrgGvAbABsQGyAbMBtAG1AbYBtwG4AbkBugG7AbwBvQG+Ab8BwAHBAcIBwwHEAcUBxgHHAcgByQHKAcsBzAHNAc4BzwHQAdEB0gHTAdQB1QHWAdcB2AHZAdoB2wHcAd0B3gHfAeAB4QHiAeMB5AHlAeYB5wHoAekB6gHrAewB7QHuAe8B8AHxAfIB8wH0AfUB9gH3AfgB+QH6AfsB/AH9Af4B/wEAAgECAgIDAgQCBQIGAgcCCAIJAgoCCwIMAg0CDgIPAhACEQISAhMCFAIVAg==",
          "dtype": "i2"
         },
         "xaxis": "x",
         "y": {
          "bdata": "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",
          "dtype": "f8"
         },
         "yaxis": "y"
        },
        {
         "line": {
          "color": "red"
         },
         "mode": "lines",
         "name": "5-0116 (defective)",
         "type": "scatter",
         "x": {
          "bdata": "HwAgACEAIgAjACQAJQAmACcAKAApACoAKwAsAC0ALgAvADAAMQAyADMANAA1ADYANwA4ADkAOgA7ADwAPQA+AD8AQABBAEIAQwBEAEUARgBHAEgASQBKAEsATABNAE4ATwBQAFEAUgBTAFQAVQBWAFcAWABZAFoAWwBcAF0AXgBfAGAAYQBiAGMAZABlAGYAZwBoAGkAagBrAGwAbQBuAG8AcABxAHIAcwB0AHUAdgB3AHgAeQB6AHsAfAB9AH4AfwCAAIEAggCDAIQAhQCGAIcAiACJAIoAiwCMAI0AjgCPAJAAkQCSAJMAlACVAJYAlwCYAJkAmgCbAJwAnQCeAJ8AoAChAKIAowCkAKUApgCnAKgAqQCqAKsArACtAK4ArwCwALEAsgCzALQAtQC2ALcAuAC5ALoAuwC8AL0AvgC/AMAAwQDCAMMAxADFAMYAxwDIAMkAygDLAMwAzQDOAM8A0ADRANIA0wDUANUA1gDXANgA2QDaANsA3ADdAN4A3wDgAOEA4gDjAOQA5QDmAOcA6ADpAOoA6wDsAO0A7gDvAPAA8QDyAPMA9AD1APYA9wD4APkA+gD7APwA/QD+AP8AAAEBAQIBAwEEAQUBBgEHAQgBCQEKAQsBDAENAQ4BDwEQAREBEgETARQBFQEWARcBGAEZARoBGwEcAR0BHgEfASABIQEiASMBJAElASYBJwEoASkBKgErASwBLQEuAS8BMAExATIBMwE0ATUBNgE3ATgBOQE6ATsBPAE9AT4BPwFAAUEBQgFDAUQBRQFGAUcBSAFJAUoBSwFMAU0BTgFPAVABUQFSAVMBVAFVAVYBVwFYAVkBWgFbAVwBXQFeAV8BYAFhAWIBYwFkAWUBZgFnAWgBaQFqAWsBbAFtAW4BbwFwAXEBcgFzAXQBdQF2AXcBeAF5AXoBewF8AX0BfgF/AYABgQGCAYMBhAGFAYYBhwGIAYkBigGLAYwBjQGOAY8BkAGRAZIBkwGUAZUBlgGXAZgBmQGaAZsBnAGdAZ4BnwGgAaEBogGjAaQBpQGmAacBqAGpAaoBqwGsAa0BrgGvAbABsQGyAbMBtAG1AbYBtwG4AbkBugG7AbwBvQG+Ab8BwAHBAcIBwwHEAcUBxgHHAcgByQHKAcsBzAHNAc4BzwHQAdEB0gHTAdQB1QHWAdcB2AHZAdoB2wHcAd0B3gHfAeAB4QHiAeMB5AHlAeYB5wHoAekB6gHrAewB7QHuAe8B8AHxAfIB8wH0AfUB9gH3AfgB+QH6AfsB/AH9Af4B/wEAAgECAgIDAgQCBQIGAgcCCAIJAgoCCwIMAg0CDgIPAhACEQISAhMCFAIVAg==",
          "dtype": "i2"
         },
         "xaxis": "x2",
         "y": {
          "bdata": "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",
          "dtype": "f8"
         },
         "yaxis": "y2"
        }
       ],
       "layout": {
        "annotations": [
         {
          "font": {
           "size": 16
          },
          "showarrow": false,
          "text": "Sensor 1",
          "x": 0.5,
          "xanchor": "center",
          "xref": "paper",
          "y": 1,
          "yanchor": "bottom",
          "yref": "paper"
         },
         {
          "font": {
           "size": 16
          },
          "showarrow": false,
          "text": "Sensor 5",
          "x": 0.5,
          "xanchor": "center",
          "xref": "paper",
          "y": 0.375,
          "yanchor": "bottom",
          "yref": "paper"
         }
        ],
        "height": 600,
        "template": {
         "data": {
          "bar": [
           {
            "error_x": {
             "color": "#2a3f5f"
            },
            "error_y": {
             "color": "#2a3f5f"
            },
            "marker": {
             "line": {
              "color": "#E5ECF6",
              "width": 0.5
             },
             "pattern": {
              "fillmode": "overlay",
              "size": 10,
              "solidity": 0.2
             }
            },
            "type": "bar"
           }
          ],
          "barpolar": [
           {
            "marker": {
             "line": {
              "color": "#E5ECF6",
              "width": 0.5
             },
             "pattern": {
              "fillmode": "overlay",
              "size": 10,
              "solidity": 0.2
             }
            },
            "type": "barpolar"
           }
          ],
          "carpet": [
           {
            "aaxis": {
             "endlinecolor": "#2a3f5f",
             "gridcolor": "white",
             "linecolor": "white",
             "minorgridcolor": "white",
             "startlinecolor": "#2a3f5f"
            },
            "baxis": {
             "endlinecolor": "#2a3f5f",
             "gridcolor": "white",
             "linecolor": "white",
             "minorgridcolor": "white",
             "startlinecolor": "#2a3f5f"
            },
            "type": "carpet"
           }
          ],
          "choropleth": [
           {
            "colorbar": {
             "outlinewidth": 0,
             "ticks": ""
            },
            "type": "choropleth"
           }
          ],
          "contour": [
           {
            "colorbar": {
             "outlinewidth": 0,
             "ticks": ""
            },
            "colorscale": [
             [
              0,
              "#0d0887"
             ],
             [
              0.1111111111111111,
              "#46039f"
             ],
             [
              0.2222222222222222,
              "#7201a8"
             ],
             [
              0.3333333333333333,
              "#9c179e"
             ],
             [
              0.4444444444444444,
              "#bd3786"
             ],
             [
              0.5555555555555556,
              "#d8576b"
             ],
             [
              0.6666666666666666,
              "#ed7953"
             ],
             [
              0.7777777777777778,
              "#fb9f3a"
             ],
             [
              0.8888888888888888,
              "#fdca26"
             ],
             [
              1,
              "#f0f921"
             ]
            ],
            "type": "contour"
           }
          ],
          "contourcarpet": [
           {
            "colorbar": {
             "outlinewidth": 0,
             "ticks": ""
            },
            "type": "contourcarpet"
           }
          ],
          "heatmap": [
           {
            "colorbar": {
             "outlinewidth": 0,
             "ticks": ""
            },
            "colorscale": [
             [
              0,
              "#0d0887"
             ],
             [
              0.1111111111111111,
              "#46039f"
             ],
             [
              0.2222222222222222,
              "#7201a8"
             ],
             [
              0.3333333333333333,
              "#9c179e"
             ],
             [
              0.4444444444444444,
              "#bd3786"
             ],
             [
              0.5555555555555556,
              "#d8576b"
             ],
             [
              0.6666666666666666,
              "#ed7953"
             ],
             [
              0.7777777777777778,
              "#fb9f3a"
             ],
             [
              0.8888888888888888,
              "#fdca26"
             ],
             [
              1,
              "#f0f921"
             ]
            ],
            "type": "heatmap"
           }
          ],
          "histogram": [
           {
            "marker": {
             "pattern": {
              "fillmode": "overlay",
              "size": 10,
              "solidity": 0.2
             }
            },
            "type": "histogram"
           }
          ],
          "histogram2d": [
           {
            "colorbar": {
             "outlinewidth": 0,
             "ticks": ""
            },
            "colorscale": [
             [
              0,
              "#0d0887"
             ],
             [
              0.1111111111111111,
              "#46039f"
             ],
             [
              0.2222222222222222,
              "#7201a8"
             ],
             [
              0.3333333333333333,
              "#9c179e"
             ],
             [
              0.4444444444444444,
              "#bd3786"
             ],
             [
              0.5555555555555556,
              "#d8576b"
             ],
             [
              0.6666666666666666,
              "#ed7953"
             ],
             [
              0.7777777777777778,
              "#fb9f3a"
             ],
             [
              0.8888888888888888,
              "#fdca26"
             ],
             [
              1,
              "#f0f921"
             ]
            ],
            "type": "histogram2d"
           }
          ],
          "histogram2dcontour": [
           {
            "colorbar": {
             "outlinewidth": 0,
             "ticks": ""
            },
            "colorscale": [
             [
              0,
              "#0d0887"
             ],
             [
              0.1111111111111111,
              "#46039f"
             ],
             [
              0.2222222222222222,
              "#7201a8"
             ],
             [
              0.3333333333333333,
              "#9c179e"
             ],
             [
              0.4444444444444444,
              "#bd3786"
             ],
             [
              0.5555555555555556,
              "#d8576b"
             ],
             [
              0.6666666666666666,
              "#ed7953"
             ],
             [
              0.7777777777777778,
              "#fb9f3a"
             ],
             [
              0.8888888888888888,
              "#fdca26"
             ],
             [
              1,
              "#f0f921"
             ]
            ],
            "type": "histogram2dcontour"
           }
          ],
          "mesh3d": [
           {
            "colorbar": {
             "outlinewidth": 0,
             "ticks": ""
            },
            "type": "mesh3d"
           }
          ],
          "parcoords": [
           {
            "line": {
             "colorbar": {
              "outlinewidth": 0,
              "ticks": ""
             }
            },
            "type": "parcoords"
           }
          ],
          "pie": [
           {
            "automargin": true,
            "type": "pie"
           }
          ],
          "scatter": [
           {
            "fillpattern": {
             "fillmode": "overlay",
             "size": 10,
             "solidity": 0.2
            },
            "type": "scatter"
           }
          ],
          "scatter3d": [
           {
            "line": {
             "colorbar": {
              "outlinewidth": 0,
              "ticks": ""
             }
            },
            "marker": {
             "colorbar": {
              "outlinewidth": 0,
              "ticks": ""
             }
            },
            "type": "scatter3d"
           }
          ],
          "scattercarpet": [
           {
            "marker": {
             "colorbar": {
              "outlinewidth": 0,
              "ticks": ""
             }
            },
            "type": "scattercarpet"
           }
          ],
          "scattergeo": [
           {
            "marker": {
             "colorbar": {
              "outlinewidth": 0,
              "ticks": ""
             }
            },
            "type": "scattergeo"
           }
          ],
          "scattergl": [
           {
            "marker": {
             "colorbar": {
              "outlinewidth": 0,
              "ticks": ""
             }
            },
            "type": "scattergl"
           }
          ],
          "scattermap": [
           {
            "marker": {
             "colorbar": {
              "outlinewidth": 0,
              "ticks": ""
             }
            },
            "type": "scattermap"
           }
          ],
          "scattermapbox": [
           {
            "marker": {
             "colorbar": {
              "outlinewidth": 0,
              "ticks": ""
             }
            },
            "type": "scattermapbox"
           }
          ],
          "scatterpolar": [
           {
            "marker": {
             "colorbar": {
              "outlinewidth": 0,
              "ticks": ""
             }
            },
            "type": "scatterpolar"
           }
          ],
          "scatterpolargl": [
           {
            "marker": {
             "colorbar": {
              "outlinewidth": 0,
              "ticks": ""
             }
            },
            "type": "scatterpolargl"
           }
          ],
          "scatterternary": [
           {
            "marker": {
             "colorbar": {
              "outlinewidth": 0,
              "ticks": ""
             }
            },
            "type": "scatterternary"
           }
          ],
          "surface": [
           {
            "colorbar": {
             "outlinewidth": 0,
             "ticks": ""
            },
            "colorscale": [
             [
              0,
              "#0d0887"
             ],
             [
              0.1111111111111111,
              "#46039f"
             ],
             [
              0.2222222222222222,
              "#7201a8"
             ],
             [
              0.3333333333333333,
              "#9c179e"
             ],
             [
              0.4444444444444444,
              "#bd3786"
             ],
             [
              0.5555555555555556,
              "#d8576b"
             ],
             [
              0.6666666666666666,
              "#ed7953"
             ],
             [
              0.7777777777777778,
              "#fb9f3a"
             ],
             [
              0.8888888888888888,
              "#fdca26"
             ],
             [
              1,
              "#f0f921"
             ]
            ],
            "type": "surface"
           }
          ],
          "table": [
           {
            "cells": {
             "fill": {
              "color": "#EBF0F8"
             },
             "line": {
              "color": "white"
             }
            },
            "header": {
             "fill": {
              "color": "#C8D4E3"
             },
             "line": {
              "color": "white"
             }
            },
            "type": "table"
           }
          ]
         },
         "layout": {
          "annotationdefaults": {
           "arrowcolor": "#2a3f5f",
           "arrowhead": 0,
           "arrowwidth": 1
          },
          "autotypenumbers": "strict",
          "coloraxis": {
           "colorbar": {
            "outlinewidth": 0,
            "ticks": ""
           }
          },
          "colorscale": {
           "diverging": [
            [
             0,
             "#8e0152"
            ],
            [
             0.1,
             "#c51b7d"
            ],
            [
             0.2,
             "#de77ae"
            ],
            [
             0.3,
             "#f1b6da"
            ],
            [
             0.4,
             "#fde0ef"
            ],
            [
             0.5,
             "#f7f7f7"
            ],
            [
             0.6,
             "#e6f5d0"
            ],
            [
             0.7,
             "#b8e186"
            ],
            [
             0.8,
             "#7fbc41"
            ],
            [
             0.9,
             "#4d9221"
            ],
            [
             1,
             "#276419"
            ]
           ],
           "sequential": [
            [
             0,
             "#0d0887"
            ],
            [
             0.1111111111111111,
             "#46039f"
            ],
            [
             0.2222222222222222,
             "#7201a8"
            ],
            [
             0.3333333333333333,
             "#9c179e"
            ],
            [
             0.4444444444444444,
             "#bd3786"
            ],
            [
             0.5555555555555556,
             "#d8576b"
            ],
            [
             0.6666666666666666,
             "#ed7953"
            ],
            [
             0.7777777777777778,
             "#fb9f3a"
            ],
            [
             0.8888888888888888,
             "#fdca26"
            ],
            [
             1,
             "#f0f921"
            ]
           ],
           "sequentialminus": [
            [
             0,
             "#0d0887"
            ],
            [
             0.1111111111111111,
             "#46039f"
            ],
            [
             0.2222222222222222,
             "#7201a8"
            ],
            [
             0.3333333333333333,
             "#9c179e"
            ],
            [
             0.4444444444444444,
             "#bd3786"
            ],
            [
             0.5555555555555556,
             "#d8576b"
            ],
            [
             0.6666666666666666,
             "#ed7953"
            ],
            [
             0.7777777777777778,
             "#fb9f3a"
            ],
            [
             0.8888888888888888,
             "#fdca26"
            ],
            [
             1,
             "#f0f921"
            ]
           ]
          },
          "colorway": [
           "#636efa",
           "#EF553B",
           "#00cc96",
           "#ab63fa",
           "#FFA15A",
           "#19d3f3",
           "#FF6692",
           "#B6E880",
           "#FF97FF",
           "#FECB52"
          ],
          "font": {
           "color": "#2a3f5f"
          },
          "geo": {
           "bgcolor": "white",
           "lakecolor": "white",
           "landcolor": "#E5ECF6",
           "showlakes": true,
           "showland": true,
           "subunitcolor": "white"
          },
          "hoverlabel": {
           "align": "left"
          },
          "hovermode": "closest",
          "mapbox": {
           "style": "light"
          },
          "paper_bgcolor": "white",
          "plot_bgcolor": "#E5ECF6",
          "polar": {
           "angularaxis": {
            "gridcolor": "white",
            "linecolor": "white",
            "ticks": ""
           },
           "bgcolor": "#E5ECF6",
           "radialaxis": {
            "gridcolor": "white",
            "linecolor": "white",
            "ticks": ""
           }
          },
          "scene": {
           "xaxis": {
            "backgroundcolor": "#E5ECF6",
            "gridcolor": "white",
            "gridwidth": 2,
            "linecolor": "white",
            "showbackground": true,
            "ticks": "",
            "zerolinecolor": "white"
           },
           "yaxis": {
            "backgroundcolor": "#E5ECF6",
            "gridcolor": "white",
            "gridwidth": 2,
            "linecolor": "white",
            "showbackground": true,
            "ticks": "",
            "zerolinecolor": "white"
           },
           "zaxis": {
            "backgroundcolor": "#E5ECF6",
            "gridcolor": "white",
            "gridwidth": 2,
            "linecolor": "white",
            "showbackground": true,
            "ticks": "",
            "zerolinecolor": "white"
           }
          },
          "shapedefaults": {
           "line": {
            "color": "#2a3f5f"
           }
          },
          "ternary": {
           "aaxis": {
            "gridcolor": "white",
            "linecolor": "white",
            "ticks": ""
           },
           "baxis": {
            "gridcolor": "white",
            "linecolor": "white",
            "ticks": ""
           },
           "bgcolor": "#E5ECF6",
           "caxis": {
            "gridcolor": "white",
            "linecolor": "white",
            "ticks": ""
           }
          },
          "title": {
           "x": 0.05
          },
          "xaxis": {
           "automargin": true,
           "gridcolor": "white",
           "linecolor": "white",
           "ticks": "",
           "title": {
            "standoff": 15
           },
           "zerolinecolor": "white",
           "zerolinewidth": 2
          },
          "yaxis": {
           "automargin": true,
           "gridcolor": "white",
           "linecolor": "white",
           "ticks": "",
           "title": {
            "standoff": 15
           },
           "zerolinecolor": "white",
           "zerolinewidth": 2
          }
         }
        },
        "title": {
         "text": "Sensor Data for Normal and Defective Components"
        },
        "width": 1000,
        "xaxis": {
         "anchor": "y",
         "domain": [
          0,
          1
         ],
         "matches": "x2",
         "showticklabels": false
        },
        "xaxis2": {
         "anchor": "y2",
         "domain": [
          0,
          1
         ]
        },
        "yaxis": {
         "anchor": "x",
         "domain": [
          0.625,
          1
         ]
        },
        "yaxis2": {
         "anchor": "x2",
         "domain": [
          0,
          0.375
         ]
        }
       }
      }
     },
     "metadata": {},
     "output_type": "display_data"
    }
   ],
   "source": [
    "import pandas as pd\n",
    "import plotly.graph_objs as go\n",
    "from plotly.subplots import make_subplots\n",
    " \n",
    "# pick normal components to compare\n",
    "#normal_components = ['0005','0006', '0007', '0010', '0011', '0016', '0018', '0019']\n",
    "#normal_components = ['0021', '0035', '0038', '0039', '0041', '0043', '0045', '0047', '0050']\n",
    "normal_components = ['0065', '0066', '0067', '0071', '0076', '0078', '0079', '0083']\n",
    "#normal_components = ['0084', '0089', '0092', '0095', '0096', '0097', '0098', '0099', '0112']\n",
    "\n",
    "defective_components = ['0109', '0116']\n",
    "normal_control_components = ['0008', '0064']\n",
    "\n",
    "normal_components_full_list=[\n",
    "    '0005', '0006', '0007', '0010', '0011', '0016', '0018', '0019',\n",
    "    '0021', '0035', '0038', '0039', '0041', '0043', '0045', '0047', '0050',\n",
    "    '0065', '0066', '0067', '0071', '0076', '0078', '0079', '0083',\n",
    "    '0084', '0089', '0092', '0095', '0096', '0097', '0098', '0099', '0112'\n",
    "]\n",
    "\n",
    "fig = make_subplots(rows=2, cols=1, shared_xaxes=True,\n",
    "                    subplot_titles=('Sensor 1', 'Sensor 5'))\n",
    "\n",
    "# Plot normal components\n",
    "for comp in normal_components:\n",
    "    fig.add_trace(go.Scatter(x=data['momento'], y=data[f'1-{comp}'],\n",
    "                             mode='lines', name=f'1-{comp} (normal)', line=dict(color='green')),\n",
    "                  row=1, col=1)\n",
    "    fig.add_trace(go.Scatter(x=data['momento'], y=data[f'5-{comp}'],\n",
    "                             #mode='lines', name=f'5-{comp} (normal)', line=dict(color='green', dash='dot')),\n",
    "                             mode='lines', name=f'5-{comp} (normal)', line=dict(color='green')),\n",
    "                  row=2, col=1)\n",
    "\n",
    "# Plot defective components\n",
    "for comp in defective_components:\n",
    "    fig.add_trace(go.Scatter(x=data['momento'], y=data[f'1-{comp}'],\n",
    "                             mode='lines', name=f'1-{comp} (defective)', line=dict(color='red')),\n",
    "                  row=1, col=1)\n",
    "    fig.add_trace(go.Scatter(x=data['momento'], y=data[f'5-{comp}'],\n",
    "                             #mode='lines', name=f'5-{comp} (defective)', line=dict(color='red', dash='dot')),\n",
    "                             mode='lines', name=f'5-{comp} (defective)', line=dict(color='red')),\n",
    "                  row=2, col=1)\n",
    "\n",
    "fig.update_layout(height=600, width=1000, title_text='Sensor Data for Normal and Defective Components')\n",
    "fig.show()\n"
   ]
  },
  {
   "cell_type": "code",
   "execution_count": 20,
   "id": "609a21db",
   "metadata": {},
   "outputs": [],
   "source": [
    "#train model 3 - more granular Isolation Forest without first 30 seconds\n",
    "#setup\n",
    "\n",
    "from sklearn.ensemble import IsolationForest\n",
    "\n",
    "WINDOW_SIZE = 5   # seconds\n",
    "STEP_SIZE = 3      # seconds\n",
    "SAMPLE_RATE = 1    # samples per second\n",
    "window_points = WINDOW_SIZE * SAMPLE_RATE\n",
    "step_points = STEP_SIZE * SAMPLE_RATE\n",
    "\n",
    "\n"
   ]
  },
  {
   "cell_type": "code",
   "execution_count": 21,
   "id": "54c5eb44",
   "metadata": {},
   "outputs": [],
   "source": [
    "# Get component IDs \n",
    "def get_component_ids(columns):\n",
    "    component_ids = set()\n",
    "    for col in columns:\n",
    "        parts = col.split('-')\n",
    "        if len(parts) == 2:\n",
    "            component_ids.add(parts[1])\n",
    "        else:\n",
    "            print(f\"Skipping invalid column: {col}\")\n",
    "    return sorted(component_ids)\n"
   ]
  },
  {
   "cell_type": "code",
   "execution_count": 24,
   "id": "c34da341",
   "metadata": {},
   "outputs": [
    {
     "name": "stdout",
     "output_type": "stream",
     "text": [
      "Skipping invalid column: momento\n"
     ]
    }
   ],
   "source": [
    "train_ids = get_component_ids(train_columns)\n",
    "val_ids = get_component_ids(validation_columns)"
   ]
  },
  {
   "cell_type": "code",
   "execution_count": 33,
   "id": "72959693",
   "metadata": {},
   "outputs": [],
   "source": [
    "from scipy.stats import skew, kurtosis\n",
    "from scipy.fft import rfft, rfftfreq\n",
    "import numpy as np\n",
    "\n",
    "def extract_features(signal):\n",
    "    if len(signal) == 0:\n",
    "        return [np.nan] * 8  # fallback\n",
    "    energy = np.sqrt(np.mean(signal**2))\n",
    "    peak_to_peak = np.ptp(signal)  # max - min\n",
    "    pos_max = np.argmax(signal) / len(signal)  # normalized position of peak\n",
    "    fft_vals = np.abs(rfft(signal))\n",
    "    fft_freqs = rfftfreq(len(signal), d=1)  # d=1 assumes 1 Hz sampling; adjust as needed\n",
    "    dominant_freq = fft_freqs[np.argmax(fft_vals[1:]) + 1]  # skip DC\n",
    "    return [\n",
    "        np.mean(signal),\n",
    "        np.std(signal),\n",
    "        np.min(signal),\n",
    "        np.max(signal),\n",
    "        skew(signal),\n",
    "        kurtosis(signal),\n",
    "        energy,\n",
    "        peak_to_peak,\n",
    "        pos_max,\n",
    "        dominant_freq\n",
    "    ]\n",
    "\n",
    "def sliding_window_features(df, component_ids, window_points, step_points):\n",
    "    features = []\n",
    "    labels = []\n",
    "    for comp_id in component_ids:\n",
    "        s1_col = f'1-{comp_id}'\n",
    "        s5_col = f'5-{comp_id}'\n",
    "\n",
    "        if s1_col not in df.columns or s5_col not in df.columns:\n",
    "            print(f\"Skipping missing columns for component {comp_id}\")\n",
    "            continue\n",
    "\n",
    "        s1 = df[s1_col].values\n",
    "        s5 = df[s5_col].values\n",
    "\n",
    "        for start in range(0, len(s1) - window_points + 1, step_points):\n",
    "            s1_win = s1[start:start + window_points]\n",
    "            s5_win = s5[start:start + window_points]\n",
    "            \n",
    "            feat_s1 = extract_features(s1_win)\n",
    "            feat_s5 = extract_features(s5_win)\n",
    "            \n",
    "            feat = feat_s1 + feat_s5  # total = 20 features\n",
    "            features.append(feat)\n",
    "            labels.append((comp_id, start))\n",
    "    \n",
    "    return np.array(features), labels\n"
   ]
  },
  {
   "cell_type": "code",
   "execution_count": null,
   "id": "74612b08",
   "metadata": {},
   "outputs": [],
   "source": []
  },
  {
   "cell_type": "code",
   "execution_count": 35,
   "id": "d2e52a10",
   "metadata": {},
   "outputs": [
    {
     "name": "stderr",
     "output_type": "stream",
     "text": [
      "/var/folders/2w/67ngcypn5n73c0m099s75wdc0000gn/T/ipykernel_4321/3966494123.py:19: RuntimeWarning:\n",
      "\n",
      "Precision loss occurred in moment calculation due to catastrophic cancellation. This occurs when the data are nearly identical. Results may be unreliable.\n",
      "\n",
      "/var/folders/2w/67ngcypn5n73c0m099s75wdc0000gn/T/ipykernel_4321/3966494123.py:20: RuntimeWarning:\n",
      "\n",
      "Precision loss occurred in moment calculation due to catastrophic cancellation. This occurs when the data are nearly identical. Results may be unreliable.\n",
      "\n"
     ]
    }
   ],
   "source": [
    "# ----- Extract features -----\n",
    "X_train, train_labels = sliding_window_features(df_train, train_ids, window_points, step_points)\n",
    "X_val, val_labels = sliding_window_features(df_validation.drop(columns=['momento']), val_ids, window_points, step_points)\n",
    "\n",
    "\n",
    "\n"
   ]
  },
  {
   "cell_type": "code",
   "execution_count": 46,
   "id": "5e8ed998",
   "metadata": {},
   "outputs": [
    {
     "name": "stdout",
     "output_type": "stream",
     "text": [
      "5678\n"
     ]
    }
   ],
   "source": [
    "print(len(X_train))"
   ]
  },
  {
   "cell_type": "code",
   "execution_count": 37,
   "id": "3da1f555",
   "metadata": {},
   "outputs": [],
   "source": [
    "# ----- Scale -----\n",
    "scaler = StandardScaler()\n",
    "X_train_scaled = scaler.fit_transform(X_train)\n",
    "X_val_scaled = scaler.transform(X_val)"
   ]
  },
  {
   "cell_type": "code",
   "execution_count": 38,
   "id": "e637aec9",
   "metadata": {},
   "outputs": [
    {
     "data": {
      "text/html": [
       "<style>#sk-container-id-2 {\n",
       "  /* Definition of color scheme common for light and dark mode */\n",
       "  --sklearn-color-text: #000;\n",
       "  --sklearn-color-text-muted: #666;\n",
       "  --sklearn-color-line: gray;\n",
       "  /* Definition of color scheme for unfitted estimators */\n",
       "  --sklearn-color-unfitted-level-0: #fff5e6;\n",
       "  --sklearn-color-unfitted-level-1: #f6e4d2;\n",
       "  --sklearn-color-unfitted-level-2: #ffe0b3;\n",
       "  --sklearn-color-unfitted-level-3: chocolate;\n",
       "  /* Definition of color scheme for fitted estimators */\n",
       "  --sklearn-color-fitted-level-0: #f0f8ff;\n",
       "  --sklearn-color-fitted-level-1: #d4ebff;\n",
       "  --sklearn-color-fitted-level-2: #b3dbfd;\n",
       "  --sklearn-color-fitted-level-3: cornflowerblue;\n",
       "\n",
       "  /* Specific color for light theme */\n",
       "  --sklearn-color-text-on-default-background: var(--sg-text-color, var(--theme-code-foreground, var(--jp-content-font-color1, black)));\n",
       "  --sklearn-color-background: var(--sg-background-color, var(--theme-background, var(--jp-layout-color0, white)));\n",
       "  --sklearn-color-border-box: var(--sg-text-color, var(--theme-code-foreground, var(--jp-content-font-color1, black)));\n",
       "  --sklearn-color-icon: #696969;\n",
       "\n",
       "  @media (prefers-color-scheme: dark) {\n",
       "    /* Redefinition of color scheme for dark theme */\n",
       "    --sklearn-color-text-on-default-background: var(--sg-text-color, var(--theme-code-foreground, var(--jp-content-font-color1, white)));\n",
       "    --sklearn-color-background: var(--sg-background-color, var(--theme-background, var(--jp-layout-color0, #111)));\n",
       "    --sklearn-color-border-box: var(--sg-text-color, var(--theme-code-foreground, var(--jp-content-font-color1, white)));\n",
       "    --sklearn-color-icon: #878787;\n",
       "  }\n",
       "}\n",
       "\n",
       "#sk-container-id-2 {\n",
       "  color: var(--sklearn-color-text);\n",
       "}\n",
       "\n",
       "#sk-container-id-2 pre {\n",
       "  padding: 0;\n",
       "}\n",
       "\n",
       "#sk-container-id-2 input.sk-hidden--visually {\n",
       "  border: 0;\n",
       "  clip: rect(1px 1px 1px 1px);\n",
       "  clip: rect(1px, 1px, 1px, 1px);\n",
       "  height: 1px;\n",
       "  margin: -1px;\n",
       "  overflow: hidden;\n",
       "  padding: 0;\n",
       "  position: absolute;\n",
       "  width: 1px;\n",
       "}\n",
       "\n",
       "#sk-container-id-2 div.sk-dashed-wrapped {\n",
       "  border: 1px dashed var(--sklearn-color-line);\n",
       "  margin: 0 0.4em 0.5em 0.4em;\n",
       "  box-sizing: border-box;\n",
       "  padding-bottom: 0.4em;\n",
       "  background-color: var(--sklearn-color-background);\n",
       "}\n",
       "\n",
       "#sk-container-id-2 div.sk-container {\n",
       "  /* jupyter's `normalize.less` sets `[hidden] { display: none; }`\n",
       "     but bootstrap.min.css set `[hidden] { display: none !important; }`\n",
       "     so we also need the `!important` here to be able to override the\n",
       "     default hidden behavior on the sphinx rendered scikit-learn.org.\n",
       "     See: https://github.com/scikit-learn/scikit-learn/issues/21755 */\n",
       "  display: inline-block !important;\n",
       "  position: relative;\n",
       "}\n",
       "\n",
       "#sk-container-id-2 div.sk-text-repr-fallback {\n",
       "  display: none;\n",
       "}\n",
       "\n",
       "div.sk-parallel-item,\n",
       "div.sk-serial,\n",
       "div.sk-item {\n",
       "  /* draw centered vertical line to link estimators */\n",
       "  background-image: linear-gradient(var(--sklearn-color-text-on-default-background), var(--sklearn-color-text-on-default-background));\n",
       "  background-size: 2px 100%;\n",
       "  background-repeat: no-repeat;\n",
       "  background-position: center center;\n",
       "}\n",
       "\n",
       "/* Parallel-specific style estimator block */\n",
       "\n",
       "#sk-container-id-2 div.sk-parallel-item::after {\n",
       "  content: \"\";\n",
       "  width: 100%;\n",
       "  border-bottom: 2px solid var(--sklearn-color-text-on-default-background);\n",
       "  flex-grow: 1;\n",
       "}\n",
       "\n",
       "#sk-container-id-2 div.sk-parallel {\n",
       "  display: flex;\n",
       "  align-items: stretch;\n",
       "  justify-content: center;\n",
       "  background-color: var(--sklearn-color-background);\n",
       "  position: relative;\n",
       "}\n",
       "\n",
       "#sk-container-id-2 div.sk-parallel-item {\n",
       "  display: flex;\n",
       "  flex-direction: column;\n",
       "}\n",
       "\n",
       "#sk-container-id-2 div.sk-parallel-item:first-child::after {\n",
       "  align-self: flex-end;\n",
       "  width: 50%;\n",
       "}\n",
       "\n",
       "#sk-container-id-2 div.sk-parallel-item:last-child::after {\n",
       "  align-self: flex-start;\n",
       "  width: 50%;\n",
       "}\n",
       "\n",
       "#sk-container-id-2 div.sk-parallel-item:only-child::after {\n",
       "  width: 0;\n",
       "}\n",
       "\n",
       "/* Serial-specific style estimator block */\n",
       "\n",
       "#sk-container-id-2 div.sk-serial {\n",
       "  display: flex;\n",
       "  flex-direction: column;\n",
       "  align-items: center;\n",
       "  background-color: var(--sklearn-color-background);\n",
       "  padding-right: 1em;\n",
       "  padding-left: 1em;\n",
       "}\n",
       "\n",
       "\n",
       "/* Toggleable style: style used for estimator/Pipeline/ColumnTransformer box that is\n",
       "clickable and can be expanded/collapsed.\n",
       "- Pipeline and ColumnTransformer use this feature and define the default style\n",
       "- Estimators will overwrite some part of the style using the `sk-estimator` class\n",
       "*/\n",
       "\n",
       "/* Pipeline and ColumnTransformer style (default) */\n",
       "\n",
       "#sk-container-id-2 div.sk-toggleable {\n",
       "  /* Default theme specific background. It is overwritten whether we have a\n",
       "  specific estimator or a Pipeline/ColumnTransformer */\n",
       "  background-color: var(--sklearn-color-background);\n",
       "}\n",
       "\n",
       "/* Toggleable label */\n",
       "#sk-container-id-2 label.sk-toggleable__label {\n",
       "  cursor: pointer;\n",
       "  display: flex;\n",
       "  width: 100%;\n",
       "  margin-bottom: 0;\n",
       "  padding: 0.5em;\n",
       "  box-sizing: border-box;\n",
       "  text-align: center;\n",
       "  align-items: start;\n",
       "  justify-content: space-between;\n",
       "  gap: 0.5em;\n",
       "}\n",
       "\n",
       "#sk-container-id-2 label.sk-toggleable__label .caption {\n",
       "  font-size: 0.6rem;\n",
       "  font-weight: lighter;\n",
       "  color: var(--sklearn-color-text-muted);\n",
       "}\n",
       "\n",
       "#sk-container-id-2 label.sk-toggleable__label-arrow:before {\n",
       "  /* Arrow on the left of the label */\n",
       "  content: \"▸\";\n",
       "  float: left;\n",
       "  margin-right: 0.25em;\n",
       "  color: var(--sklearn-color-icon);\n",
       "}\n",
       "\n",
       "#sk-container-id-2 label.sk-toggleable__label-arrow:hover:before {\n",
       "  color: var(--sklearn-color-text);\n",
       "}\n",
       "\n",
       "/* Toggleable content - dropdown */\n",
       "\n",
       "#sk-container-id-2 div.sk-toggleable__content {\n",
       "  max-height: 0;\n",
       "  max-width: 0;\n",
       "  overflow: hidden;\n",
       "  text-align: left;\n",
       "  /* unfitted */\n",
       "  background-color: var(--sklearn-color-unfitted-level-0);\n",
       "}\n",
       "\n",
       "#sk-container-id-2 div.sk-toggleable__content.fitted {\n",
       "  /* fitted */\n",
       "  background-color: var(--sklearn-color-fitted-level-0);\n",
       "}\n",
       "\n",
       "#sk-container-id-2 div.sk-toggleable__content pre {\n",
       "  margin: 0.2em;\n",
       "  border-radius: 0.25em;\n",
       "  color: var(--sklearn-color-text);\n",
       "  /* unfitted */\n",
       "  background-color: var(--sklearn-color-unfitted-level-0);\n",
       "}\n",
       "\n",
       "#sk-container-id-2 div.sk-toggleable__content.fitted pre {\n",
       "  /* unfitted */\n",
       "  background-color: var(--sklearn-color-fitted-level-0);\n",
       "}\n",
       "\n",
       "#sk-container-id-2 input.sk-toggleable__control:checked~div.sk-toggleable__content {\n",
       "  /* Expand drop-down */\n",
       "  max-height: 200px;\n",
       "  max-width: 100%;\n",
       "  overflow: auto;\n",
       "}\n",
       "\n",
       "#sk-container-id-2 input.sk-toggleable__control:checked~label.sk-toggleable__label-arrow:before {\n",
       "  content: \"▾\";\n",
       "}\n",
       "\n",
       "/* Pipeline/ColumnTransformer-specific style */\n",
       "\n",
       "#sk-container-id-2 div.sk-label input.sk-toggleable__control:checked~label.sk-toggleable__label {\n",
       "  color: var(--sklearn-color-text);\n",
       "  background-color: var(--sklearn-color-unfitted-level-2);\n",
       "}\n",
       "\n",
       "#sk-container-id-2 div.sk-label.fitted input.sk-toggleable__control:checked~label.sk-toggleable__label {\n",
       "  background-color: var(--sklearn-color-fitted-level-2);\n",
       "}\n",
       "\n",
       "/* Estimator-specific style */\n",
       "\n",
       "/* Colorize estimator box */\n",
       "#sk-container-id-2 div.sk-estimator input.sk-toggleable__control:checked~label.sk-toggleable__label {\n",
       "  /* unfitted */\n",
       "  background-color: var(--sklearn-color-unfitted-level-2);\n",
       "}\n",
       "\n",
       "#sk-container-id-2 div.sk-estimator.fitted input.sk-toggleable__control:checked~label.sk-toggleable__label {\n",
       "  /* fitted */\n",
       "  background-color: var(--sklearn-color-fitted-level-2);\n",
       "}\n",
       "\n",
       "#sk-container-id-2 div.sk-label label.sk-toggleable__label,\n",
       "#sk-container-id-2 div.sk-label label {\n",
       "  /* The background is the default theme color */\n",
       "  color: var(--sklearn-color-text-on-default-background);\n",
       "}\n",
       "\n",
       "/* On hover, darken the color of the background */\n",
       "#sk-container-id-2 div.sk-label:hover label.sk-toggleable__label {\n",
       "  color: var(--sklearn-color-text);\n",
       "  background-color: var(--sklearn-color-unfitted-level-2);\n",
       "}\n",
       "\n",
       "/* Label box, darken color on hover, fitted */\n",
       "#sk-container-id-2 div.sk-label.fitted:hover label.sk-toggleable__label.fitted {\n",
       "  color: var(--sklearn-color-text);\n",
       "  background-color: var(--sklearn-color-fitted-level-2);\n",
       "}\n",
       "\n",
       "/* Estimator label */\n",
       "\n",
       "#sk-container-id-2 div.sk-label label {\n",
       "  font-family: monospace;\n",
       "  font-weight: bold;\n",
       "  display: inline-block;\n",
       "  line-height: 1.2em;\n",
       "}\n",
       "\n",
       "#sk-container-id-2 div.sk-label-container {\n",
       "  text-align: center;\n",
       "}\n",
       "\n",
       "/* Estimator-specific */\n",
       "#sk-container-id-2 div.sk-estimator {\n",
       "  font-family: monospace;\n",
       "  border: 1px dotted var(--sklearn-color-border-box);\n",
       "  border-radius: 0.25em;\n",
       "  box-sizing: border-box;\n",
       "  margin-bottom: 0.5em;\n",
       "  /* unfitted */\n",
       "  background-color: var(--sklearn-color-unfitted-level-0);\n",
       "}\n",
       "\n",
       "#sk-container-id-2 div.sk-estimator.fitted {\n",
       "  /* fitted */\n",
       "  background-color: var(--sklearn-color-fitted-level-0);\n",
       "}\n",
       "\n",
       "/* on hover */\n",
       "#sk-container-id-2 div.sk-estimator:hover {\n",
       "  /* unfitted */\n",
       "  background-color: var(--sklearn-color-unfitted-level-2);\n",
       "}\n",
       "\n",
       "#sk-container-id-2 div.sk-estimator.fitted:hover {\n",
       "  /* fitted */\n",
       "  background-color: var(--sklearn-color-fitted-level-2);\n",
       "}\n",
       "\n",
       "/* Specification for estimator info (e.g. \"i\" and \"?\") */\n",
       "\n",
       "/* Common style for \"i\" and \"?\" */\n",
       "\n",
       ".sk-estimator-doc-link,\n",
       "a:link.sk-estimator-doc-link,\n",
       "a:visited.sk-estimator-doc-link {\n",
       "  float: right;\n",
       "  font-size: smaller;\n",
       "  line-height: 1em;\n",
       "  font-family: monospace;\n",
       "  background-color: var(--sklearn-color-background);\n",
       "  border-radius: 1em;\n",
       "  height: 1em;\n",
       "  width: 1em;\n",
       "  text-decoration: none !important;\n",
       "  margin-left: 0.5em;\n",
       "  text-align: center;\n",
       "  /* unfitted */\n",
       "  border: var(--sklearn-color-unfitted-level-1) 1pt solid;\n",
       "  color: var(--sklearn-color-unfitted-level-1);\n",
       "}\n",
       "\n",
       ".sk-estimator-doc-link.fitted,\n",
       "a:link.sk-estimator-doc-link.fitted,\n",
       "a:visited.sk-estimator-doc-link.fitted {\n",
       "  /* fitted */\n",
       "  border: var(--sklearn-color-fitted-level-1) 1pt solid;\n",
       "  color: var(--sklearn-color-fitted-level-1);\n",
       "}\n",
       "\n",
       "/* On hover */\n",
       "div.sk-estimator:hover .sk-estimator-doc-link:hover,\n",
       ".sk-estimator-doc-link:hover,\n",
       "div.sk-label-container:hover .sk-estimator-doc-link:hover,\n",
       ".sk-estimator-doc-link:hover {\n",
       "  /* unfitted */\n",
       "  background-color: var(--sklearn-color-unfitted-level-3);\n",
       "  color: var(--sklearn-color-background);\n",
       "  text-decoration: none;\n",
       "}\n",
       "\n",
       "div.sk-estimator.fitted:hover .sk-estimator-doc-link.fitted:hover,\n",
       ".sk-estimator-doc-link.fitted:hover,\n",
       "div.sk-label-container:hover .sk-estimator-doc-link.fitted:hover,\n",
       ".sk-estimator-doc-link.fitted:hover {\n",
       "  /* fitted */\n",
       "  background-color: var(--sklearn-color-fitted-level-3);\n",
       "  color: var(--sklearn-color-background);\n",
       "  text-decoration: none;\n",
       "}\n",
       "\n",
       "/* Span, style for the box shown on hovering the info icon */\n",
       ".sk-estimator-doc-link span {\n",
       "  display: none;\n",
       "  z-index: 9999;\n",
       "  position: relative;\n",
       "  font-weight: normal;\n",
       "  right: .2ex;\n",
       "  padding: .5ex;\n",
       "  margin: .5ex;\n",
       "  width: min-content;\n",
       "  min-width: 20ex;\n",
       "  max-width: 50ex;\n",
       "  color: var(--sklearn-color-text);\n",
       "  box-shadow: 2pt 2pt 4pt #999;\n",
       "  /* unfitted */\n",
       "  background: var(--sklearn-color-unfitted-level-0);\n",
       "  border: .5pt solid var(--sklearn-color-unfitted-level-3);\n",
       "}\n",
       "\n",
       ".sk-estimator-doc-link.fitted span {\n",
       "  /* fitted */\n",
       "  background: var(--sklearn-color-fitted-level-0);\n",
       "  border: var(--sklearn-color-fitted-level-3);\n",
       "}\n",
       "\n",
       ".sk-estimator-doc-link:hover span {\n",
       "  display: block;\n",
       "}\n",
       "\n",
       "/* \"?\"-specific style due to the `<a>` HTML tag */\n",
       "\n",
       "#sk-container-id-2 a.estimator_doc_link {\n",
       "  float: right;\n",
       "  font-size: 1rem;\n",
       "  line-height: 1em;\n",
       "  font-family: monospace;\n",
       "  background-color: var(--sklearn-color-background);\n",
       "  border-radius: 1rem;\n",
       "  height: 1rem;\n",
       "  width: 1rem;\n",
       "  text-decoration: none;\n",
       "  /* unfitted */\n",
       "  color: var(--sklearn-color-unfitted-level-1);\n",
       "  border: var(--sklearn-color-unfitted-level-1) 1pt solid;\n",
       "}\n",
       "\n",
       "#sk-container-id-2 a.estimator_doc_link.fitted {\n",
       "  /* fitted */\n",
       "  border: var(--sklearn-color-fitted-level-1) 1pt solid;\n",
       "  color: var(--sklearn-color-fitted-level-1);\n",
       "}\n",
       "\n",
       "/* On hover */\n",
       "#sk-container-id-2 a.estimator_doc_link:hover {\n",
       "  /* unfitted */\n",
       "  background-color: var(--sklearn-color-unfitted-level-3);\n",
       "  color: var(--sklearn-color-background);\n",
       "  text-decoration: none;\n",
       "}\n",
       "\n",
       "#sk-container-id-2 a.estimator_doc_link.fitted:hover {\n",
       "  /* fitted */\n",
       "  background-color: var(--sklearn-color-fitted-level-3);\n",
       "}\n",
       "</style><div id=\"sk-container-id-2\" class=\"sk-top-container\"><div class=\"sk-text-repr-fallback\"><pre>IsolationForest(contamination=0.1, random_state=42)</pre><b>In a Jupyter environment, please rerun this cell to show the HTML representation or trust the notebook. <br />On GitHub, the HTML representation is unable to render, please try loading this page with nbviewer.org.</b></div><div class=\"sk-container\" hidden><div class=\"sk-item\"><div class=\"sk-estimator fitted sk-toggleable\"><input class=\"sk-toggleable__control sk-hidden--visually\" id=\"sk-estimator-id-2\" type=\"checkbox\" checked><label for=\"sk-estimator-id-2\" class=\"sk-toggleable__label fitted sk-toggleable__label-arrow\"><div><div>IsolationForest</div></div><div><a class=\"sk-estimator-doc-link fitted\" rel=\"noreferrer\" target=\"_blank\" href=\"https://scikit-learn.org/1.6/modules/generated/sklearn.ensemble.IsolationForest.html\">?<span>Documentation for IsolationForest</span></a><span class=\"sk-estimator-doc-link fitted\">i<span>Fitted</span></span></div></label><div class=\"sk-toggleable__content fitted\"><pre>IsolationForest(contamination=0.1, random_state=42)</pre></div> </div></div></div></div>"
      ],
      "text/plain": [
       "IsolationForest(contamination=0.1, random_state=42)"
      ]
     },
     "execution_count": 38,
     "metadata": {},
     "output_type": "execute_result"
    }
   ],
   "source": [
    "# -----Train Isolation Forest -----\n",
    "model = IsolationForest(contamination=0.1, random_state=42)\n",
    "model.fit(X_train_scaled)"
   ]
  },
  {
   "cell_type": "code",
   "execution_count": 39,
   "id": "7049f792",
   "metadata": {},
   "outputs": [],
   "source": [
    "# ----- Predict on validation -----\n",
    "val_preds = model.predict(X_val_scaled)  # -1 = anomaly\n",
    "val_scores = model.decision_function(X_val_scaled)"
   ]
  },
  {
   "cell_type": "code",
   "execution_count": 40,
   "id": "8cdeed49",
   "metadata": {},
   "outputs": [],
   "source": [
    "# ----- Group and summarize results -----\n",
    "import collections\n",
    "summary = collections.defaultdict(list)\n",
    "\n",
    "for (comp_id, start), score, pred in zip(val_labels, val_scores, val_preds):\n",
    "    summary[comp_id].append({\n",
    "        'start': start,\n",
    "        'score': score,\n",
    "        'anomaly': pred == -1\n",
    "    })"
   ]
  },
  {
   "cell_type": "code",
   "execution_count": 41,
   "id": "d0d558d2",
   "metadata": {},
   "outputs": [
    {
     "name": "stdout",
     "output_type": "stream",
     "text": [
      "Component 0008: 3 anomalous windows out of 167\n",
      "Component 0064: 3 anomalous windows out of 167\n",
      "Component 0109: 13 anomalous windows out of 167\n",
      "Component 0116: 17 anomalous windows out of 167\n"
     ]
    }
   ],
   "source": [
    "# ----- Print summary per component -----\n",
    "for comp_id, windows in summary.items():\n",
    "    n_anomalies = sum(win['anomaly'] for win in windows)\n",
    "    print(f\"Component {comp_id}: {n_anomalies} anomalous windows out of {len(windows)}\")"
   ]
  },
  {
   "cell_type": "code",
   "execution_count": 42,
   "id": "eda57172",
   "metadata": {},
   "outputs": [
    {
     "data": {
      "image/png": "[encoded data removed]",
      "text/plain": [
       "<Figure size 1000x400 with 1 Axes>"
      ]
     },
     "metadata": {},
     "output_type": "display_data"
    },
    {
     "data": {
      "image/png": "[encoded data removed]",
      "text/plain": [
       "<Figure size 1000x400 with 1 Axes>"
      ]
     },
     "metadata": {},
     "output_type": "display_data"
    },
    {
     "data": {
      "image/png": "[encoded data removed]",
      "text/plain": [
       "<Figure size 1000x400 with 1 Axes>"
      ]
     },
     "metadata": {},
     "output_type": "display_data"
    },
    {
     "data": {
      "image/png": "[encoded data removed]",
      "text/plain": [
       "<Figure size 1000x400 with 1 Axes>"
      ]
     },
     "metadata": {},
     "output_type": "display_data"
    }
   ],
   "source": [
    "def plot_anomaly_scores(comp_id, summary):\n",
    "    windows = summary[comp_id]\n",
    "    starts = [w['start'] for w in windows]\n",
    "    scores = [w['score'] for w in windows]\n",
    "    is_anom = [w['anomaly'] for w in windows]\n",
    "\n",
    "    plt.figure(figsize=(10, 4))\n",
    "    plt.plot(starts, scores, marker='o', label='Anomaly Score')\n",
    "    for x, anom in zip(starts, is_anom):\n",
    "        if anom:\n",
    "            plt.axvline(x, color='red', linestyle='--', alpha=0.5)\n",
    "    plt.title(f\"Anomaly Scores over Time - Component {comp_id}\")\n",
    "    plt.xlabel(\"Start Time of Window (s)\")\n",
    "    plt.ylabel(\"Anomaly Score (higher = more normal)\")\n",
    "    plt.grid(True)\n",
    "    plt.legend()\n",
    "    plt.show()\n",
    "\n",
    "# Example:\n",
    "plot_anomaly_scores('0109', summary)\n",
    "plot_anomaly_scores('0116', summary)\n",
    "\n",
    "plot_anomaly_scores('0008', summary)\n",
    "plot_anomaly_scores('0064', summary)\n"
   ]
  },
  {
   "cell_type": "code",
   "execution_count": null,
   "id": "659e9022",
   "metadata": {},
   "outputs": [
    {
     "ename": "NameError",
     "evalue": "name 'data' is not defined",
     "output_type": "error",
     "traceback": [
      "\u001b[0;31m---------------------------------------------------------------------------\u001b[0m",
      "\u001b[0;31mNameError\u001b[0m                                 Traceback (most recent call last)",
      "Cell \u001b[0;32mIn[1], line 3\u001b[0m\n\u001b[1;32m      1\u001b[0m \u001b[38;5;66;03m#train model 3 - drop first 30 seconds from the dataframe\u001b[39;00m\n\u001b[0;32m----> 3\u001b[0m df_after_30_seconds\u001b[38;5;241m=\u001b[39m\u001b[43mdata\u001b[49m\u001b[38;5;241m.\u001b[39miloc[\u001b[38;5;241m30\u001b[39m:]\n",
      "\u001b[0;31mNameError\u001b[0m: name 'data' is not defined"
     ]
    }
   ],
   "source": []
  },
  {
   "cell_type": "code",
   "execution_count": null,
   "id": "eb52a049",
   "metadata": {},
   "outputs": [],
   "source": []
  },
  {
   "cell_type": "code",
   "execution_count": null,
   "id": "c48b3be3",
   "metadata": {},
   "outputs": [],
   "source": []
  },
  {
   "cell_type": "code",
   "execution_count": null,
   "id": "f9bd9a5f",
   "metadata": {},
   "outputs": [],
   "source": []
  },
  {
   "cell_type": "code",
   "execution_count": null,
   "id": "7a576ff7",
   "metadata": {},
   "outputs": [],
   "source": []
  },
  {
   "cell_type": "code",
   "execution_count": null,
   "id": "a45848ca",
   "metadata": {},
   "outputs": [],
   "source": []
  },
  {
   "cell_type": "code",
   "execution_count": null,
   "id": "290dd3ad",
   "metadata": {},
   "outputs": [],
   "source": []
  },
  {
   "cell_type": "code",
   "execution_count": null,
   "id": "252ea867",
   "metadata": {},
   "outputs": [],
   "source": []
  }
 ],
 "metadata": {
  "kernelspec": {
   "display_name": "tf310",
   "language": "python",
   "name": "python3"
  },
  "language_info": {
   "codemirror_mode": {
    "name": "ipython",
    "version": 3
   },
   "file_extension": ".py",
   "mimetype": "text/x-python",
   "name": "python",
   "nbconvert_exporter": "python",
   "pygments_lexer": "ipython3",
   "version": "3.10.16"
  }
 },
 "nbformat": 4,
 "nbformat_minor": 5
}
