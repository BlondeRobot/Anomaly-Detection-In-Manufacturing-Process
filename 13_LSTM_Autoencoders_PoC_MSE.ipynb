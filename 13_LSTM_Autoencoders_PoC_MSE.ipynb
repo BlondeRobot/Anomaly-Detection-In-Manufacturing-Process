{
 "cells": [
  {
   "cell_type": "code",
   "execution_count": 1,
   "id": "73b98a59",
   "metadata": {},
   "outputs": [
    {
     "name": "stderr",
     "output_type": "stream",
     "text": [
      "2025-06-25 21:37:20.578225: I tensorflow/core/platform/cpu_feature_guard.cc:210] This TensorFlow binary is optimized to use available CPU instructions in performance-critical operations.\n",
      "To enable the following instructions: AVX2 FMA, in other operations, rebuild TensorFlow with the appropriate compiler flags.\n"
     ]
    }
   ],
   "source": [
    "import plotly\n",
    "import plotly.graph_objs as go\n",
    "import pandas as pd\n",
    "import matplotlib.pyplot as plt\n",
    "import numpy as np\n",
    "import seaborn as sns\n",
    "sns.set()\n",
    "from collections import Counter\n",
    "\n",
    "from scipy.special import expit\n",
    "\n",
    "from sklearn.model_selection import train_test_split,RepeatedStratifiedKFold,cross_val_score, GridSearchCV\n",
    "from sklearn import tree\n",
    "\n",
    "from sklearn.metrics import accuracy_score,classification_report,confusion_matrix, roc_curve, roc_auc_score\n",
    "from sklearn.ensemble import RandomForestClassifier\n",
    "from sklearn.linear_model import LogisticRegression\n",
    "#from optbinning import BinningProcess, OptimalBinning # Para cáclulos WOE e IV\n",
    "from mlxtend.feature_selection import SequentialFeatureSelector as SFS\n",
    "\n",
    "from statsmodels.stats.outliers_influence import variance_inflation_factor\n",
    "from sklearn.metrics import r2_score\n",
    "\n",
    "from sklearn.preprocessing import StandardScaler, MinMaxScaler\n",
    "\n",
    "from imblearn.over_sampling import RandomOverSampler\n",
    "\n",
    "from tensorflow.keras.models import Sequential, model_from_json\n",
    "from tensorflow.keras.layers import Dense, BatchNormalization, Dropout\n",
    "from tensorflow.keras.optimizers import Adam\n",
    "from tensorflow.keras.metrics import Recall, Precision\n",
    "from tensorflow.keras.callbacks import EarlyStopping\n",
    "from tensorflow.keras.regularizers import l2, l1\n",
    "\n",
    "from tabulate import tabulate\n",
    "\n",
    "import statsmodels.api as sm\n",
    "import statsmodels.formula.api as smf"
   ]
  },
  {
   "cell_type": "code",
   "execution_count": 2,
   "id": "1f6486cc",
   "metadata": {},
   "outputs": [
    {
     "data": {
      "text/html": [
       "<div>\n",
       "<style scoped>\n",
       "    .dataframe tbody tr th:only-of-type {\n",
       "        vertical-align: middle;\n",
       "    }\n",
       "\n",
       "    .dataframe tbody tr th {\n",
       "        vertical-align: top;\n",
       "    }\n",
       "\n",
       "    .dataframe thead th {\n",
       "        text-align: right;\n",
       "    }\n",
       "</style>\n",
       "<table border=\"1\" class=\"dataframe\">\n",
       "  <thead>\n",
       "    <tr style=\"text-align: right;\">\n",
       "      <th></th>\n",
       "      <th>momento</th>\n",
       "      <th>1-0005</th>\n",
       "      <th>5-0005</th>\n",
       "      <th>1-_006</th>\n",
       "      <th>5-_006</th>\n",
       "      <th>1-_007</th>\n",
       "      <th>5-_007</th>\n",
       "      <th>1-_008</th>\n",
       "      <th>5-_008</th>\n",
       "      <th>1-_010</th>\n",
       "      <th>...</th>\n",
       "      <th>1-_098</th>\n",
       "      <th>5-_098</th>\n",
       "      <th>1-_099</th>\n",
       "      <th>5-_099</th>\n",
       "      <th>1-0112</th>\n",
       "      <th>5-0112</th>\n",
       "      <th>1-0116</th>\n",
       "      <th>5-0116</th>\n",
       "      <th>1-0109</th>\n",
       "      <th>5-0109</th>\n",
       "    </tr>\n",
       "  </thead>\n",
       "  <tbody>\n",
       "    <tr>\n",
       "      <th>0</th>\n",
       "      <td>1</td>\n",
       "      <td>-588.88</td>\n",
       "      <td>-580.21</td>\n",
       "      <td>-590.50</td>\n",
       "      <td>-582.25</td>\n",
       "      <td>-593.51</td>\n",
       "      <td>-585.46</td>\n",
       "      <td>-595.51</td>\n",
       "      <td>-587.47</td>\n",
       "      <td>-575.36</td>\n",
       "      <td>...</td>\n",
       "      <td>-588.17</td>\n",
       "      <td>-581.42</td>\n",
       "      <td>-594.26</td>\n",
       "      <td>-586.26</td>\n",
       "      <td>-589.46</td>\n",
       "      <td>-581.75</td>\n",
       "      <td>-592.92</td>\n",
       "      <td>-586.26</td>\n",
       "      <td>-593.93</td>\n",
       "      <td>-586.30</td>\n",
       "    </tr>\n",
       "    <tr>\n",
       "      <th>1</th>\n",
       "      <td>2</td>\n",
       "      <td>-588.38</td>\n",
       "      <td>-579.71</td>\n",
       "      <td>-590.80</td>\n",
       "      <td>-582.46</td>\n",
       "      <td>-593.80</td>\n",
       "      <td>-585.67</td>\n",
       "      <td>-595.55</td>\n",
       "      <td>-587.59</td>\n",
       "      <td>-574.11</td>\n",
       "      <td>...</td>\n",
       "      <td>-588.34</td>\n",
       "      <td>-581.63</td>\n",
       "      <td>-594.51</td>\n",
       "      <td>-586.26</td>\n",
       "      <td>-589.29</td>\n",
       "      <td>-581.58</td>\n",
       "      <td>-592.80</td>\n",
       "      <td>-586.26</td>\n",
       "      <td>-594.13</td>\n",
       "      <td>-586.51</td>\n",
       "    </tr>\n",
       "    <tr>\n",
       "      <th>2</th>\n",
       "      <td>3</td>\n",
       "      <td>-584.41</td>\n",
       "      <td>-575.74</td>\n",
       "      <td>-585.83</td>\n",
       "      <td>-577.66</td>\n",
       "      <td>-591.38</td>\n",
       "      <td>-583.21</td>\n",
       "      <td>-589.84</td>\n",
       "      <td>-578.04</td>\n",
       "      <td>-563.34</td>\n",
       "      <td>...</td>\n",
       "      <td>-588.17</td>\n",
       "      <td>-581.33</td>\n",
       "      <td>-592.88</td>\n",
       "      <td>-584.34</td>\n",
       "      <td>-588.50</td>\n",
       "      <td>-580.62</td>\n",
       "      <td>-590.21</td>\n",
       "      <td>-583.75</td>\n",
       "      <td>-593.68</td>\n",
       "      <td>-585.84</td>\n",
       "    </tr>\n",
       "    <tr>\n",
       "      <th>3</th>\n",
       "      <td>4</td>\n",
       "      <td>-573.73</td>\n",
       "      <td>-565.27</td>\n",
       "      <td>-570.31</td>\n",
       "      <td>-562.81</td>\n",
       "      <td>-578.91</td>\n",
       "      <td>-571.24</td>\n",
       "      <td>-578.61</td>\n",
       "      <td>-565.90</td>\n",
       "      <td>-555.00</td>\n",
       "      <td>...</td>\n",
       "      <td>-584.79</td>\n",
       "      <td>-576.87</td>\n",
       "      <td>-580.62</td>\n",
       "      <td>-568.15</td>\n",
       "      <td>-586.96</td>\n",
       "      <td>-578.75</td>\n",
       "      <td>-578.66</td>\n",
       "      <td>-571.19</td>\n",
       "      <td>-590.88</td>\n",
       "      <td>-582.63</td>\n",
       "    </tr>\n",
       "    <tr>\n",
       "      <th>4</th>\n",
       "      <td>5</td>\n",
       "      <td>-567.27</td>\n",
       "      <td>-558.55</td>\n",
       "      <td>-562.26</td>\n",
       "      <td>-554.55</td>\n",
       "      <td>-570.69</td>\n",
       "      <td>-562.93</td>\n",
       "      <td>-567.18</td>\n",
       "      <td>-557.51</td>\n",
       "      <td>-545.99</td>\n",
       "      <td>...</td>\n",
       "      <td>-579.11</td>\n",
       "      <td>-570.99</td>\n",
       "      <td>-572.11</td>\n",
       "      <td>-560.43</td>\n",
       "      <td>-583.45</td>\n",
       "      <td>-574.91</td>\n",
       "      <td>-571.06</td>\n",
       "      <td>-563.56</td>\n",
       "      <td>-587.38</td>\n",
       "      <td>-578.71</td>\n",
       "    </tr>\n",
       "    <tr>\n",
       "      <th>...</th>\n",
       "      <td>...</td>\n",
       "      <td>...</td>\n",
       "      <td>...</td>\n",
       "      <td>...</td>\n",
       "      <td>...</td>\n",
       "      <td>...</td>\n",
       "      <td>...</td>\n",
       "      <td>...</td>\n",
       "      <td>...</td>\n",
       "      <td>...</td>\n",
       "      <td>...</td>\n",
       "      <td>...</td>\n",
       "      <td>...</td>\n",
       "      <td>...</td>\n",
       "      <td>...</td>\n",
       "      <td>...</td>\n",
       "      <td>...</td>\n",
       "      <td>...</td>\n",
       "      <td>...</td>\n",
       "      <td>...</td>\n",
       "      <td>...</td>\n",
       "    </tr>\n",
       "    <tr>\n",
       "      <th>636</th>\n",
       "      <td>637</td>\n",
       "      <td>-237.18</td>\n",
       "      <td>-253.66</td>\n",
       "      <td>NaN</td>\n",
       "      <td>NaN</td>\n",
       "      <td>NaN</td>\n",
       "      <td>NaN</td>\n",
       "      <td>NaN</td>\n",
       "      <td>NaN</td>\n",
       "      <td>NaN</td>\n",
       "      <td>...</td>\n",
       "      <td>NaN</td>\n",
       "      <td>NaN</td>\n",
       "      <td>NaN</td>\n",
       "      <td>NaN</td>\n",
       "      <td>NaN</td>\n",
       "      <td>NaN</td>\n",
       "      <td>NaN</td>\n",
       "      <td>NaN</td>\n",
       "      <td>NaN</td>\n",
       "      <td>NaN</td>\n",
       "    </tr>\n",
       "    <tr>\n",
       "      <th>637</th>\n",
       "      <td>638</td>\n",
       "      <td>-237.10</td>\n",
       "      <td>-253.70</td>\n",
       "      <td>NaN</td>\n",
       "      <td>NaN</td>\n",
       "      <td>NaN</td>\n",
       "      <td>NaN</td>\n",
       "      <td>NaN</td>\n",
       "      <td>NaN</td>\n",
       "      <td>NaN</td>\n",
       "      <td>...</td>\n",
       "      <td>NaN</td>\n",
       "      <td>NaN</td>\n",
       "      <td>NaN</td>\n",
       "      <td>NaN</td>\n",
       "      <td>NaN</td>\n",
       "      <td>NaN</td>\n",
       "      <td>NaN</td>\n",
       "      <td>NaN</td>\n",
       "      <td>NaN</td>\n",
       "      <td>NaN</td>\n",
       "    </tr>\n",
       "    <tr>\n",
       "      <th>638</th>\n",
       "      <td>639</td>\n",
       "      <td>-237.14</td>\n",
       "      <td>-253.74</td>\n",
       "      <td>NaN</td>\n",
       "      <td>NaN</td>\n",
       "      <td>NaN</td>\n",
       "      <td>NaN</td>\n",
       "      <td>NaN</td>\n",
       "      <td>NaN</td>\n",
       "      <td>NaN</td>\n",
       "      <td>...</td>\n",
       "      <td>NaN</td>\n",
       "      <td>NaN</td>\n",
       "      <td>NaN</td>\n",
       "      <td>NaN</td>\n",
       "      <td>NaN</td>\n",
       "      <td>NaN</td>\n",
       "      <td>NaN</td>\n",
       "      <td>NaN</td>\n",
       "      <td>NaN</td>\n",
       "      <td>NaN</td>\n",
       "    </tr>\n",
       "    <tr>\n",
       "      <th>639</th>\n",
       "      <td>640</td>\n",
       "      <td>-237.10</td>\n",
       "      <td>-253.70</td>\n",
       "      <td>NaN</td>\n",
       "      <td>NaN</td>\n",
       "      <td>NaN</td>\n",
       "      <td>NaN</td>\n",
       "      <td>NaN</td>\n",
       "      <td>NaN</td>\n",
       "      <td>NaN</td>\n",
       "      <td>...</td>\n",
       "      <td>NaN</td>\n",
       "      <td>NaN</td>\n",
       "      <td>NaN</td>\n",
       "      <td>NaN</td>\n",
       "      <td>NaN</td>\n",
       "      <td>NaN</td>\n",
       "      <td>NaN</td>\n",
       "      <td>NaN</td>\n",
       "      <td>NaN</td>\n",
       "      <td>NaN</td>\n",
       "    </tr>\n",
       "    <tr>\n",
       "      <th>640</th>\n",
       "      <td>641</td>\n",
       "      <td>-237.10</td>\n",
       "      <td>-253.74</td>\n",
       "      <td>NaN</td>\n",
       "      <td>NaN</td>\n",
       "      <td>NaN</td>\n",
       "      <td>NaN</td>\n",
       "      <td>NaN</td>\n",
       "      <td>NaN</td>\n",
       "      <td>NaN</td>\n",
       "      <td>...</td>\n",
       "      <td>NaN</td>\n",
       "      <td>NaN</td>\n",
       "      <td>NaN</td>\n",
       "      <td>NaN</td>\n",
       "      <td>NaN</td>\n",
       "      <td>NaN</td>\n",
       "      <td>NaN</td>\n",
       "      <td>NaN</td>\n",
       "      <td>NaN</td>\n",
       "      <td>NaN</td>\n",
       "    </tr>\n",
       "  </tbody>\n",
       "</table>\n",
       "<p>641 rows × 77 columns</p>\n",
       "</div>"
      ],
      "text/plain": [
       "     momento  1-0005  5-0005  1-_006  5-_006  1-_007  5-_007  1-_008  5-_008  \\\n",
       "0          1 -588.88 -580.21 -590.50 -582.25 -593.51 -585.46 -595.51 -587.47   \n",
       "1          2 -588.38 -579.71 -590.80 -582.46 -593.80 -585.67 -595.55 -587.59   \n",
       "2          3 -584.41 -575.74 -585.83 -577.66 -591.38 -583.21 -589.84 -578.04   \n",
       "3          4 -573.73 -565.27 -570.31 -562.81 -578.91 -571.24 -578.61 -565.90   \n",
       "4          5 -567.27 -558.55 -562.26 -554.55 -570.69 -562.93 -567.18 -557.51   \n",
       "..       ...     ...     ...     ...     ...     ...     ...     ...     ...   \n",
       "636      637 -237.18 -253.66     NaN     NaN     NaN     NaN     NaN     NaN   \n",
       "637      638 -237.10 -253.70     NaN     NaN     NaN     NaN     NaN     NaN   \n",
       "638      639 -237.14 -253.74     NaN     NaN     NaN     NaN     NaN     NaN   \n",
       "639      640 -237.10 -253.70     NaN     NaN     NaN     NaN     NaN     NaN   \n",
       "640      641 -237.10 -253.74     NaN     NaN     NaN     NaN     NaN     NaN   \n",
       "\n",
       "     1-_010  ...  1-_098  5-_098  1-_099  5-_099  1-0112  5-0112  1-0116  \\\n",
       "0   -575.36  ... -588.17 -581.42 -594.26 -586.26 -589.46 -581.75 -592.92   \n",
       "1   -574.11  ... -588.34 -581.63 -594.51 -586.26 -589.29 -581.58 -592.80   \n",
       "2   -563.34  ... -588.17 -581.33 -592.88 -584.34 -588.50 -580.62 -590.21   \n",
       "3   -555.00  ... -584.79 -576.87 -580.62 -568.15 -586.96 -578.75 -578.66   \n",
       "4   -545.99  ... -579.11 -570.99 -572.11 -560.43 -583.45 -574.91 -571.06   \n",
       "..      ...  ...     ...     ...     ...     ...     ...     ...     ...   \n",
       "636     NaN  ...     NaN     NaN     NaN     NaN     NaN     NaN     NaN   \n",
       "637     NaN  ...     NaN     NaN     NaN     NaN     NaN     NaN     NaN   \n",
       "638     NaN  ...     NaN     NaN     NaN     NaN     NaN     NaN     NaN   \n",
       "639     NaN  ...     NaN     NaN     NaN     NaN     NaN     NaN     NaN   \n",
       "640     NaN  ...     NaN     NaN     NaN     NaN     NaN     NaN     NaN   \n",
       "\n",
       "     5-0116  1-0109  5-0109  \n",
       "0   -586.26 -593.93 -586.30  \n",
       "1   -586.26 -594.13 -586.51  \n",
       "2   -583.75 -593.68 -585.84  \n",
       "3   -571.19 -590.88 -582.63  \n",
       "4   -563.56 -587.38 -578.71  \n",
       "..      ...     ...     ...  \n",
       "636     NaN     NaN     NaN  \n",
       "637     NaN     NaN     NaN  \n",
       "638     NaN     NaN     NaN  \n",
       "639     NaN     NaN     NaN  \n",
       "640     NaN     NaN     NaN  \n",
       "\n",
       "[641 rows x 77 columns]"
      ]
     },
     "execution_count": 2,
     "metadata": {},
     "output_type": "execute_result"
    }
   ],
   "source": [
    "data = pd.read_csv('vacuum_sensor_data.csv', sep = ';')\n",
    "data"
   ]
  },
  {
   "cell_type": "code",
   "execution_count": 3,
   "id": "e4a489e5",
   "metadata": {},
   "outputs": [],
   "source": [
    "#rename column to have consistent naming \n",
    "import re\n",
    "\n",
    "def clean_column(col):\n",
    "    if col == 'momento':\n",
    "        return col\n",
    "    match = re.match(r\"(\\d)-_?(\\d+)\", col)\n",
    "    if match:\n",
    "        sensor, comp = match.groups()\n",
    "        return f\"{sensor}-{int(comp):04d}\"\n",
    "    return col  # fallback in case format is already correct\n",
    "\n",
    "# Apply renaming\n",
    "data.columns = [clean_column(col) for col in data.columns]"
   ]
  },
  {
   "cell_type": "code",
   "execution_count": 4,
   "id": "daeb3930",
   "metadata": {},
   "outputs": [],
   "source": [
    "# drop rows(seconds) where data from any sensor is missing\n",
    "data=data.dropna(axis=0)"
   ]
  },
  {
   "cell_type": "code",
   "execution_count": 8,
   "id": "b335815d",
   "metadata": {},
   "outputs": [
    {
     "data": {
      "text/plain": [
       "(151, 77)"
      ]
     },
     "execution_count": 8,
     "metadata": {},
     "output_type": "execute_result"
    }
   ],
   "source": [
    "data.shape"
   ]
  },
  {
   "cell_type": "code",
   "execution_count": 5,
   "id": "c0790089",
   "metadata": {},
   "outputs": [],
   "source": [
    "# narrow the time window\n",
    "data=data.iloc[49:200] \n"
   ]
  },
  {
   "cell_type": "code",
   "execution_count": 6,
   "id": "bbe29450",
   "metadata": {},
   "outputs": [],
   "source": [
    "#split columns into train and validation\n",
    "defective_columns = ['1-0116', '5-0116', '1-0109', '5-0109']\n",
    "normal_control_columns = ['1-0008', '5-0008', '1-0064', '5-0064']\n",
    "validation_columns = defective_columns + normal_control_columns\n",
    "\n",
    "df_validation = data[['momento'] + validation_columns]\n",
    "train_columns = [col for col in data.columns if col not in validation_columns]\n",
    "df_train = data[train_columns]\n"
   ]
  },
  {
   "cell_type": "code",
   "execution_count": 7,
   "id": "e3085683",
   "metadata": {},
   "outputs": [],
   "source": [
    "# Sequence Creation Function\n",
    "def create_sequences(df, window_size, overlap):\n",
    "    \"\"\"\n",
    "    Create overlapping sequences from a DataFrame.\n",
    "    \n",
    "    Parameters:\n",
    "        df (pd.DataFrame): Input data without 'momento' column\n",
    "        window_size (int): Number of time steps in each window\n",
    "        overlap (int): Number of overlapping steps between windows\n",
    "        \n",
    "    Returns:\n",
    "        np.ndarray: 3D array of shape (samples, window_size, features)\n",
    "    \"\"\"\n",
    "    sequences = []\n",
    "    step = window_size - overlap\n",
    "    for start in range(0, len(df) - window_size + 1, step):\n",
    "        end = start + window_size\n",
    "        seq = df.iloc[start:end].values\n",
    "        sequences.append(seq)\n",
    "    return np.array(sequences)\n"
   ]
  },
  {
   "cell_type": "code",
   "execution_count": 8,
   "id": "845421f3",
   "metadata": {},
   "outputs": [],
   "source": [
    "# data Preprocessing Function\n",
    "from sklearn.preprocessing import MinMaxScaler\n",
    "\n",
    "def preprocess(df, window_size=10, overlap=5):\n",
    "    df = df.drop(columns='momento')  # Drop the time column\n",
    "    scaler = MinMaxScaler()\n",
    "    df_scaled = scaler.fit_transform(df)\n",
    "    sequences = create_sequences(pd.DataFrame(df_scaled), window_size, overlap)\n",
    "    return sequences, scaler\n"
   ]
  },
  {
   "cell_type": "code",
   "execution_count": 9,
   "id": "845ed5e7",
   "metadata": {},
   "outputs": [
    {
     "name": "stdout",
     "output_type": "stream",
     "text": [
      "Train shape: (29, 10, 68)\n",
      "Validation shape: (29, 10, 8)\n"
     ]
    }
   ],
   "source": [
    "#call preprocess function\n",
    "\n",
    "window_size = 10  # seconds (timesteps)\n",
    "overlap = 5       # seconds\n",
    "\n",
    "X_train, scaler = preprocess(df_train, window_size, overlap)\n",
    "X_val, _ = preprocess(df_validation, window_size, overlap)\n",
    "\n",
    "print(\"Train shape:\", X_train.shape)\n",
    "print(\"Validation shape:\", X_val.shape)\n"
   ]
  },
  {
   "cell_type": "code",
   "execution_count": 10,
   "id": "a2ec5127",
   "metadata": {},
   "outputs": [
    {
     "name": "stderr",
     "output_type": "stream",
     "text": [
      "/opt/miniconda3/envs/tf310/lib/python3.10/site-packages/keras/src/layers/rnn/rnn.py:199: UserWarning: Do not pass an `input_shape`/`input_dim` argument to a layer. When using Sequential models, prefer using an `Input(shape)` object as the first layer in the model instead.\n",
      "  super().__init__(**kwargs)\n"
     ]
    },
    {
     "data": {
      "text/html": [
       "<pre style=\"white-space:pre;overflow-x:auto;line-height:normal;font-family:Menlo,'DejaVu Sans Mono',consolas,'Courier New',monospace\"><span style=\"font-weight: bold\">Model: \"sequential\"</span>\n",
       "</pre>\n"
      ],
      "text/plain": [
       "\u001b[1mModel: \"sequential\"\u001b[0m\n"
      ]
     },
     "metadata": {},
     "output_type": "display_data"
    },
    {
     "data": {
      "text/html": [
       "<pre style=\"white-space:pre;overflow-x:auto;line-height:normal;font-family:Menlo,'DejaVu Sans Mono',consolas,'Courier New',monospace\">┏━━━━━━━━━━━━━━━━━━━━━━━━━━━━━━━━━┳━━━━━━━━━━━━━━━━━━━━━━━━┳━━━━━━━━━━━━━━━┓\n",
       "┃<span style=\"font-weight: bold\"> Layer (type)                    </span>┃<span style=\"font-weight: bold\"> Output Shape           </span>┃<span style=\"font-weight: bold\">       Param # </span>┃\n",
       "┡━━━━━━━━━━━━━━━━━━━━━━━━━━━━━━━━━╇━━━━━━━━━━━━━━━━━━━━━━━━╇━━━━━━━━━━━━━━━┩\n",
       "│ lstm (<span style=\"color: #0087ff; text-decoration-color: #0087ff\">LSTM</span>)                     │ (<span style=\"color: #00d7ff; text-decoration-color: #00d7ff\">None</span>, <span style=\"color: #00af00; text-decoration-color: #00af00\">64</span>)             │        <span style=\"color: #00af00; text-decoration-color: #00af00\">34,048</span> │\n",
       "├─────────────────────────────────┼────────────────────────┼───────────────┤\n",
       "│ repeat_vector (<span style=\"color: #0087ff; text-decoration-color: #0087ff\">RepeatVector</span>)    │ (<span style=\"color: #00d7ff; text-decoration-color: #00d7ff\">None</span>, <span style=\"color: #00af00; text-decoration-color: #00af00\">10</span>, <span style=\"color: #00af00; text-decoration-color: #00af00\">64</span>)         │             <span style=\"color: #00af00; text-decoration-color: #00af00\">0</span> │\n",
       "├─────────────────────────────────┼────────────────────────┼───────────────┤\n",
       "│ lstm_1 (<span style=\"color: #0087ff; text-decoration-color: #0087ff\">LSTM</span>)                   │ (<span style=\"color: #00d7ff; text-decoration-color: #00d7ff\">None</span>, <span style=\"color: #00af00; text-decoration-color: #00af00\">10</span>, <span style=\"color: #00af00; text-decoration-color: #00af00\">64</span>)         │        <span style=\"color: #00af00; text-decoration-color: #00af00\">33,024</span> │\n",
       "├─────────────────────────────────┼────────────────────────┼───────────────┤\n",
       "│ time_distributed                │ (<span style=\"color: #00d7ff; text-decoration-color: #00d7ff\">None</span>, <span style=\"color: #00af00; text-decoration-color: #00af00\">10</span>, <span style=\"color: #00af00; text-decoration-color: #00af00\">68</span>)         │         <span style=\"color: #00af00; text-decoration-color: #00af00\">4,420</span> │\n",
       "│ (<span style=\"color: #0087ff; text-decoration-color: #0087ff\">TimeDistributed</span>)               │                        │               │\n",
       "└─────────────────────────────────┴────────────────────────┴───────────────┘\n",
       "</pre>\n"
      ],
      "text/plain": [
       "┏━━━━━━━━━━━━━━━━━━━━━━━━━━━━━━━━━┳━━━━━━━━━━━━━━━━━━━━━━━━┳━━━━━━━━━━━━━━━┓\n",
       "┃\u001b[1m \u001b[0m\u001b[1mLayer (type)                   \u001b[0m\u001b[1m \u001b[0m┃\u001b[1m \u001b[0m\u001b[1mOutput Shape          \u001b[0m\u001b[1m \u001b[0m┃\u001b[1m \u001b[0m\u001b[1m      Param #\u001b[0m\u001b[1m \u001b[0m┃\n",
       "┡━━━━━━━━━━━━━━━━━━━━━━━━━━━━━━━━━╇━━━━━━━━━━━━━━━━━━━━━━━━╇━━━━━━━━━━━━━━━┩\n",
       "│ lstm (\u001b[38;5;33mLSTM\u001b[0m)                     │ (\u001b[38;5;45mNone\u001b[0m, \u001b[38;5;34m64\u001b[0m)             │        \u001b[38;5;34m34,048\u001b[0m │\n",
       "├─────────────────────────────────┼────────────────────────┼───────────────┤\n",
       "│ repeat_vector (\u001b[38;5;33mRepeatVector\u001b[0m)    │ (\u001b[38;5;45mNone\u001b[0m, \u001b[38;5;34m10\u001b[0m, \u001b[38;5;34m64\u001b[0m)         │             \u001b[38;5;34m0\u001b[0m │\n",
       "├─────────────────────────────────┼────────────────────────┼───────────────┤\n",
       "│ lstm_1 (\u001b[38;5;33mLSTM\u001b[0m)                   │ (\u001b[38;5;45mNone\u001b[0m, \u001b[38;5;34m10\u001b[0m, \u001b[38;5;34m64\u001b[0m)         │        \u001b[38;5;34m33,024\u001b[0m │\n",
       "├─────────────────────────────────┼────────────────────────┼───────────────┤\n",
       "│ time_distributed                │ (\u001b[38;5;45mNone\u001b[0m, \u001b[38;5;34m10\u001b[0m, \u001b[38;5;34m68\u001b[0m)         │         \u001b[38;5;34m4,420\u001b[0m │\n",
       "│ (\u001b[38;5;33mTimeDistributed\u001b[0m)               │                        │               │\n",
       "└─────────────────────────────────┴────────────────────────┴───────────────┘\n"
      ]
     },
     "metadata": {},
     "output_type": "display_data"
    },
    {
     "data": {
      "text/html": [
       "<pre style=\"white-space:pre;overflow-x:auto;line-height:normal;font-family:Menlo,'DejaVu Sans Mono',consolas,'Courier New',monospace\"><span style=\"font-weight: bold\"> Total params: </span><span style=\"color: #00af00; text-decoration-color: #00af00\">71,492</span> (279.27 KB)\n",
       "</pre>\n"
      ],
      "text/plain": [
       "\u001b[1m Total params: \u001b[0m\u001b[38;5;34m71,492\u001b[0m (279.27 KB)\n"
      ]
     },
     "metadata": {},
     "output_type": "display_data"
    },
    {
     "data": {
      "text/html": [
       "<pre style=\"white-space:pre;overflow-x:auto;line-height:normal;font-family:Menlo,'DejaVu Sans Mono',consolas,'Courier New',monospace\"><span style=\"font-weight: bold\"> Trainable params: </span><span style=\"color: #00af00; text-decoration-color: #00af00\">71,492</span> (279.27 KB)\n",
       "</pre>\n"
      ],
      "text/plain": [
       "\u001b[1m Trainable params: \u001b[0m\u001b[38;5;34m71,492\u001b[0m (279.27 KB)\n"
      ]
     },
     "metadata": {},
     "output_type": "display_data"
    },
    {
     "data": {
      "text/html": [
       "<pre style=\"white-space:pre;overflow-x:auto;line-height:normal;font-family:Menlo,'DejaVu Sans Mono',consolas,'Courier New',monospace\"><span style=\"font-weight: bold\"> Non-trainable params: </span><span style=\"color: #00af00; text-decoration-color: #00af00\">0</span> (0.00 B)\n",
       "</pre>\n"
      ],
      "text/plain": [
       "\u001b[1m Non-trainable params: \u001b[0m\u001b[38;5;34m0\u001b[0m (0.00 B)\n"
      ]
     },
     "metadata": {},
     "output_type": "display_data"
    }
   ],
   "source": [
    "# build the LSTM autoencoder\n",
    "\n",
    "from tensorflow.keras.layers import LSTM, RepeatVector, TimeDistributed, Dense\n",
    "\n",
    "timesteps = X_train.shape[1]\n",
    "features = X_train.shape[2]\n",
    "\n",
    "model = Sequential([\n",
    "    LSTM(64, activation='relu', input_shape=(timesteps, features), return_sequences=False),\n",
    "    RepeatVector(timesteps),\n",
    "    LSTM(64, activation='relu', return_sequences=True),\n",
    "    TimeDistributed(Dense(features))\n",
    "])\n",
    "\n",
    "model.compile(optimizer='adam', loss='mse')\n",
    "model.summary()\n"
   ]
  },
  {
   "cell_type": "code",
   "execution_count": 11,
   "id": "7ddcadc5",
   "metadata": {},
   "outputs": [
    {
     "name": "stdout",
     "output_type": "stream",
     "text": [
      "Epoch 1/30\n",
      "\u001b[1m1/1\u001b[0m \u001b[32m━━━━━━━━━━━━━━━━━━━━\u001b[0m\u001b[37m\u001b[0m \u001b[1m5s\u001b[0m 5s/step - loss: 0.1952 - val_loss: 0.7190\n",
      "Epoch 2/30\n",
      "\u001b[1m1/1\u001b[0m \u001b[32m━━━━━━━━━━━━━━━━━━━━\u001b[0m\u001b[37m\u001b[0m \u001b[1m0s\u001b[0m 113ms/step - loss: 0.1865 - val_loss: 0.6855\n",
      "Epoch 3/30\n",
      "\u001b[1m1/1\u001b[0m \u001b[32m━━━━━━━━━━━━━━━━━━━━\u001b[0m\u001b[37m\u001b[0m \u001b[1m0s\u001b[0m 111ms/step - loss: 0.1801 - val_loss: 0.6593\n",
      "Epoch 4/30\n",
      "\u001b[1m1/1\u001b[0m \u001b[32m━━━━━━━━━━━━━━━━━━━━\u001b[0m\u001b[37m\u001b[0m \u001b[1m0s\u001b[0m 115ms/step - loss: 0.1743 - val_loss: 0.6333\n",
      "Epoch 5/30\n",
      "\u001b[1m1/1\u001b[0m \u001b[32m━━━━━━━━━━━━━━━━━━━━\u001b[0m\u001b[37m\u001b[0m \u001b[1m0s\u001b[0m 110ms/step - loss: 0.1685 - val_loss: 0.6081\n",
      "Epoch 6/30\n",
      "\u001b[1m1/1\u001b[0m \u001b[32m━━━━━━━━━━━━━━━━━━━━\u001b[0m\u001b[37m\u001b[0m \u001b[1m0s\u001b[0m 110ms/step - loss: 0.1626 - val_loss: 0.5831\n",
      "Epoch 7/30\n",
      "\u001b[1m1/1\u001b[0m \u001b[32m━━━━━━━━━━━━━━━━━━━━\u001b[0m\u001b[37m\u001b[0m \u001b[1m0s\u001b[0m 111ms/step - loss: 0.1564 - val_loss: 0.5673\n",
      "Epoch 8/30\n",
      "\u001b[1m1/1\u001b[0m \u001b[32m━━━━━━━━━━━━━━━━━━━━\u001b[0m\u001b[37m\u001b[0m \u001b[1m0s\u001b[0m 110ms/step - loss: 0.1498 - val_loss: 0.5855\n",
      "Epoch 9/30\n",
      "\u001b[1m1/1\u001b[0m \u001b[32m━━━━━━━━━━━━━━━━━━━━\u001b[0m\u001b[37m\u001b[0m \u001b[1m0s\u001b[0m 113ms/step - loss: 0.1435 - val_loss: 0.7001\n",
      "Epoch 10/30\n",
      "\u001b[1m1/1\u001b[0m \u001b[32m━━━━━━━━━━━━━━━━━━━━\u001b[0m\u001b[37m\u001b[0m \u001b[1m0s\u001b[0m 110ms/step - loss: 0.1394 - val_loss: 0.7958\n",
      "Epoch 11/30\n",
      "\u001b[1m1/1\u001b[0m \u001b[32m━━━━━━━━━━━━━━━━━━━━\u001b[0m\u001b[37m\u001b[0m \u001b[1m0s\u001b[0m 120ms/step - loss: 0.1361 - val_loss: 0.7238\n",
      "Epoch 12/30\n",
      "\u001b[1m1/1\u001b[0m \u001b[32m━━━━━━━━━━━━━━━━━━━━\u001b[0m\u001b[37m\u001b[0m \u001b[1m0s\u001b[0m 111ms/step - loss: 0.1298 - val_loss: 0.5988\n",
      "Epoch 13/30\n",
      "\u001b[1m1/1\u001b[0m \u001b[32m━━━━━━━━━━━━━━━━━━━━\u001b[0m\u001b[37m\u001b[0m \u001b[1m0s\u001b[0m 218ms/step - loss: 0.1224 - val_loss: 0.5013\n",
      "Epoch 14/30\n",
      "\u001b[1m1/1\u001b[0m \u001b[32m━━━━━━━━━━━━━━━━━━━━\u001b[0m\u001b[37m\u001b[0m \u001b[1m0s\u001b[0m 118ms/step - loss: 0.1154 - val_loss: 0.4371\n",
      "Epoch 15/30\n",
      "\u001b[1m1/1\u001b[0m \u001b[32m━━━━━━━━━━━━━━━━━━━━\u001b[0m\u001b[37m\u001b[0m \u001b[1m0s\u001b[0m 110ms/step - loss: 0.1087 - val_loss: 0.3951\n",
      "Epoch 16/30\n",
      "\u001b[1m1/1\u001b[0m \u001b[32m━━━━━━━━━━━━━━━━━━━━\u001b[0m\u001b[37m\u001b[0m \u001b[1m0s\u001b[0m 120ms/step - loss: 0.1019 - val_loss: 0.3775\n",
      "Epoch 17/30\n",
      "\u001b[1m1/1\u001b[0m \u001b[32m━━━━━━━━━━━━━━━━━━━━\u001b[0m\u001b[37m\u001b[0m \u001b[1m0s\u001b[0m 131ms/step - loss: 0.0953 - val_loss: 0.3888\n",
      "Epoch 18/30\n",
      "\u001b[1m1/1\u001b[0m \u001b[32m━━━━━━━━━━━━━━━━━━━━\u001b[0m\u001b[37m\u001b[0m \u001b[1m0s\u001b[0m 121ms/step - loss: 0.0895 - val_loss: 0.4067\n",
      "Epoch 19/30\n",
      "\u001b[1m1/1\u001b[0m \u001b[32m━━━━━━━━━━━━━━━━━━━━\u001b[0m\u001b[37m\u001b[0m \u001b[1m0s\u001b[0m 124ms/step - loss: 0.0843 - val_loss: 0.3878\n",
      "Epoch 20/30\n",
      "\u001b[1m1/1\u001b[0m \u001b[32m━━━━━━━━━━━━━━━━━━━━\u001b[0m\u001b[37m\u001b[0m \u001b[1m0s\u001b[0m 120ms/step - loss: 0.0788 - val_loss: 0.3341\n",
      "Epoch 21/30\n",
      "\u001b[1m1/1\u001b[0m \u001b[32m━━━━━━━━━━━━━━━━━━━━\u001b[0m\u001b[37m\u001b[0m \u001b[1m0s\u001b[0m 124ms/step - loss: 0.0733 - val_loss: 0.2813\n",
      "Epoch 22/30\n",
      "\u001b[1m1/1\u001b[0m \u001b[32m━━━━━━━━━━━━━━━━━━━━\u001b[0m\u001b[37m\u001b[0m \u001b[1m0s\u001b[0m 127ms/step - loss: 0.0685 - val_loss: 0.2448\n",
      "Epoch 23/30\n",
      "\u001b[1m1/1\u001b[0m \u001b[32m━━━━━━━━━━━━━━━━━━━━\u001b[0m\u001b[37m\u001b[0m \u001b[1m0s\u001b[0m 138ms/step - loss: 0.0641 - val_loss: 0.2244\n",
      "Epoch 24/30\n",
      "\u001b[1m1/1\u001b[0m \u001b[32m━━━━━━━━━━━━━━━━━━━━\u001b[0m\u001b[37m\u001b[0m \u001b[1m0s\u001b[0m 120ms/step - loss: 0.0597 - val_loss: 0.2231\n",
      "Epoch 25/30\n",
      "\u001b[1m1/1\u001b[0m \u001b[32m━━━━━━━━━━━━━━━━━━━━\u001b[0m\u001b[37m\u001b[0m \u001b[1m0s\u001b[0m 189ms/step - loss: 0.0554 - val_loss: 0.2404\n",
      "Epoch 26/30\n",
      "\u001b[1m1/1\u001b[0m \u001b[32m━━━━━━━━━━━━━━━━━━━━\u001b[0m\u001b[37m\u001b[0m \u001b[1m0s\u001b[0m 126ms/step - loss: 0.0519 - val_loss: 0.2503\n",
      "Epoch 27/30\n",
      "\u001b[1m1/1\u001b[0m \u001b[32m━━━━━━━━━━━━━━━━━━━━\u001b[0m\u001b[37m\u001b[0m \u001b[1m0s\u001b[0m 157ms/step - loss: 0.0487 - val_loss: 0.2299\n",
      "Epoch 28/30\n",
      "\u001b[1m1/1\u001b[0m \u001b[32m━━━━━━━━━━━━━━━━━━━━\u001b[0m\u001b[37m\u001b[0m \u001b[1m0s\u001b[0m 120ms/step - loss: 0.0454 - val_loss: 0.1942\n",
      "Epoch 29/30\n",
      "\u001b[1m1/1\u001b[0m \u001b[32m━━━━━━━━━━━━━━━━━━━━\u001b[0m\u001b[37m\u001b[0m \u001b[1m0s\u001b[0m 130ms/step - loss: 0.0422 - val_loss: 0.1648\n",
      "Epoch 30/30\n",
      "\u001b[1m1/1\u001b[0m \u001b[32m━━━━━━━━━━━━━━━━━━━━\u001b[0m\u001b[37m\u001b[0m \u001b[1m0s\u001b[0m 129ms/step - loss: 0.0394 - val_loss: 0.1467\n"
     ]
    }
   ],
   "source": [
    "#Fit on train data\n",
    "\n",
    "history = model.fit(\n",
    "    X_train, X_train,\n",
    "    epochs=30,\n",
    "    batch_size=32,\n",
    "    validation_split=0.1,\n",
    "    shuffle=False\n",
    ")\n"
   ]
  },
  {
   "cell_type": "code",
   "execution_count": 12,
   "id": "44b67149",
   "metadata": {},
   "outputs": [],
   "source": [
    "# handle the difference in shape between train (68 columns) and validation (8 columns)\n",
    "import pandas as pd\n",
    "\n",
    "# Define your real validation columns\n",
    "true_validation_columns = defective_columns + normal_control_columns  # 8 total\n",
    "\n",
    "# Ensure these columns exist in the original dataset\n",
    "for col in true_validation_columns:\n",
    "    if col not in data.columns:\n",
    "        raise ValueError(f\"Column {col} is not in the original data\")\n",
    "\n",
    "# Start with the 8 real validation columns\n",
    "df_val_aligned = data[['momento'] + true_validation_columns].copy()\n",
    "\n",
    "# Generate 60 dummy columns\n",
    "num_dummy_cols = 68 - len(true_validation_columns)\n",
    "dummy_col_names = [f'dummy_{i}' for i in range(num_dummy_cols)]\n",
    "\n",
    "# Fill dummy columns with zeros\n",
    "for col in dummy_col_names:\n",
    "    df_val_aligned[col] = 0.0\n",
    "\n",
    "# Final column ordering: momento + real columns + dummy columns\n",
    "final_feature_cols = true_validation_columns + dummy_col_names\n",
    "df_val_aligned = df_val_aligned[['momento'] + final_feature_cols]\n"
   ]
  },
  {
   "cell_type": "code",
   "execution_count": 13,
   "id": "af898af0",
   "metadata": {},
   "outputs": [
    {
     "name": "stdout",
     "output_type": "stream",
     "text": [
      "\u001b[1m1/1\u001b[0m \u001b[32m━━━━━━━━━━━━━━━━━━━━\u001b[0m\u001b[37m\u001b[0m \u001b[1m0s\u001b[0m 435ms/step\n"
     ]
    }
   ],
   "source": [
    "# Preprocess and Evaluate\n",
    "X_val, _ = preprocess(df_val_aligned, window_size=10, overlap=5)\n",
    "\n",
    "# Predict and compute errors\n",
    "X_val_pred = model.predict(X_val)\n",
    "reconstruction_errors = np.mean(np.square(X_val - X_val_pred), axis=(1, 2))\n",
    "\n"
   ]
  },
  {
   "cell_type": "code",
   "execution_count": 15,
   "id": "b353afc2",
   "metadata": {},
   "outputs": [],
   "source": [
    "#Compute per-feature reconstruction error\n",
    "# Per-feature squared error\n",
    "per_feature_errors = np.square(X_val - X_val_pred)  # shape: (samples, timesteps, 68)\n",
    "\n",
    "# Reduce over time dimension\n",
    "avg_per_feature = np.mean(per_feature_errors, axis=1)  # shape: (samples, 68)\n",
    "\n"
   ]
  },
  {
   "cell_type": "code",
   "execution_count": 16,
   "id": "5f189017",
   "metadata": {},
   "outputs": [],
   "source": [
    "# Indices of real columns are 0–7 now (because we placed them first!)\n",
    "col_indices = list(range(len(true_validation_columns)))\n",
    "focused_errors = avg_per_feature[:, col_indices]\n"
   ]
  },
  {
   "cell_type": "code",
   "execution_count": 17,
   "id": "72431644",
   "metadata": {},
   "outputs": [
    {
     "name": "stdout",
     "output_type": "stream",
     "text": [
      "['momento', '1-0116', '5-0116', '1-0109', '5-0109', '1-0008', '5-0008', '1-0064', '5-0064', 'dummy_0', 'dummy_1', 'dummy_2', 'dummy_3', 'dummy_4', 'dummy_5', 'dummy_6', 'dummy_7', 'dummy_8', 'dummy_9', 'dummy_10', 'dummy_11', 'dummy_12', 'dummy_13', 'dummy_14', 'dummy_15', 'dummy_16', 'dummy_17', 'dummy_18', 'dummy_19', 'dummy_20', 'dummy_21', 'dummy_22', 'dummy_23', 'dummy_24', 'dummy_25', 'dummy_26', 'dummy_27', 'dummy_28', 'dummy_29', 'dummy_30', 'dummy_31', 'dummy_32', 'dummy_33', 'dummy_34', 'dummy_35', 'dummy_36', 'dummy_37', 'dummy_38', 'dummy_39', 'dummy_40', 'dummy_41', 'dummy_42', 'dummy_43', 'dummy_44', 'dummy_45', 'dummy_46', 'dummy_47', 'dummy_48', 'dummy_49', 'dummy_50', 'dummy_51', 'dummy_52', 'dummy_53', 'dummy_54', 'dummy_55', 'dummy_56', 'dummy_57', 'dummy_58', 'dummy_59']\n"
     ]
    }
   ],
   "source": [
    "print(df_val_aligned.columns.tolist())"
   ]
  },
  {
   "cell_type": "code",
   "execution_count": 18,
   "id": "974e7014",
   "metadata": {},
   "outputs": [],
   "source": [
    "# Map windows to timestamps (choose center or end of each window)\n",
    "val_momentos = df_val_aligned['momento'].values\n",
    "time_steps = 10\n",
    "step = 5\n",
    "\n",
    "window_momentos = [\n",
    "    val_momentos[i + time_steps // 2]  # center of the window\n",
    "    for i in range(0, len(val_momentos) - time_steps + 1, step)\n",
    "]\n"
   ]
  },
  {
   "cell_type": "code",
   "execution_count": 19,
   "id": "f3fc5754",
   "metadata": {},
   "outputs": [],
   "source": [
    "#compute anomaly threshold\n",
    "threshold = np.percentile(reconstruction_errors, 95)\n"
   ]
  },
  {
   "cell_type": "code",
   "execution_count": 20,
   "id": "2a944ef7",
   "metadata": {},
   "outputs": [
    {
     "data": {
      "image/png": "[encoded data removed]",
      "text/plain": [
       "<Figure size 1600x600 with 1 Axes>"
      ]
     },
     "metadata": {},
     "output_type": "display_data"
    }
   ],
   "source": [
    "import matplotlib.pyplot as plt\n",
    "\n",
    "plt.figure(figsize=(16, 6))\n",
    "\n",
    "# Label columns nicely\n",
    "labels = [\n",
    "    f\"{col} (Defective)\" if col in defective_columns else f\"{col} (Normal)\"\n",
    "    for col in true_validation_columns\n",
    "]\n",
    "\n",
    "# Plot each validation column\n",
    "for i in range(focused_errors.shape[1]):\n",
    "    plt.plot(window_momentos, focused_errors[:, i], label=labels[i])\n",
    "\n",
    "# Draw anomaly threshold line\n",
    "plt.axhline(y=threshold, color='red', linestyle='--', label='Anomaly Threshold')\n",
    "\n",
    "plt.title(\"Reconstruction Errors for Validation Components Over Time\")\n",
    "plt.xlabel(\"Momento (seconds)\")\n",
    "plt.ylabel(\"Reconstruction Error\")\n",
    "plt.legend()\n",
    "plt.grid(True)\n",
    "plt.tight_layout()\n",
    "plt.show()\n"
   ]
  },
  {
   "cell_type": "code",
   "execution_count": 21,
   "id": "e64b105e",
   "metadata": {},
   "outputs": [
    {
     "name": "stdout",
     "output_type": "stream",
     "text": [
      "Anomaly detected at momento values:\n",
      "[ 85  90  95 100 105 110 115 120 125 130 135 140 145 150 155 160 165 170\n",
      " 175 180 185 190 195]\n"
     ]
    }
   ],
   "source": [
    "# Boolean array: any of the 8 columns above threshold\n",
    "anomalies = (focused_errors > threshold).any(axis=1)\n",
    "\n",
    "# Get corresponding momentos\n",
    "anomaly_times = np.array(window_momentos)[anomalies]\n",
    "\n",
    "print(\"Anomaly detected at momento values:\")\n",
    "print(anomaly_times)\n"
   ]
  },
  {
   "cell_type": "code",
   "execution_count": 22,
   "id": "86e82ce6",
   "metadata": {},
   "outputs": [
    {
     "name": "stdout",
     "output_type": "stream",
     "text": [
      "focused_errors shape: (29, 8)\n",
      "Number of window momentos: 29\n"
     ]
    }
   ],
   "source": [
    "print(\"focused_errors shape:\", focused_errors.shape)\n",
    "print(\"Number of window momentos:\", len(window_momentos))\n"
   ]
  },
  {
   "cell_type": "code",
   "execution_count": 23,
   "id": "98e83d6f",
   "metadata": {},
   "outputs": [],
   "source": [
    "# Calculate per-feature reconstruction errors per window\n",
    "per_feature_errors = np.square(X_val - X_val_pred)  # shape (windows, timesteps, features)\n",
    "\n",
    "# Average over timesteps to get per-window, per-feature errors\n",
    "avg_per_feature = np.mean(per_feature_errors, axis=1)  # shape (windows, features)\n",
    "\n",
    "# Real validation columns are the first 8 features in X_val (indices 0 to 7)\n",
    "col_indices = list(range(8))\n",
    "\n",
    "focused_errors = avg_per_feature[:, col_indices]  # shape (windows, 8)\n"
   ]
  },
  {
   "cell_type": "code",
   "execution_count": 25,
   "id": "852c9c15",
   "metadata": {},
   "outputs": [
    {
     "data": {
      "application/vnd.plotly.v1+json": {
       "config": {
        "plotlyServerURL": "https://plot.ly"
       },
       "data": [
        {
         "mode": "lines",
         "name": "1-0116",
         "type": "scatter",
         "x": [
          55,
          60,
          65,
          70,
          75,
          80,
          85,
          90,
          95,
          100,
          105,
          110,
          115,
          120,
          125,
          130,
          135,
          140,
          145,
          150,
          155,
          160,
          165,
          170,
          175,
          180,
          185,
          190,
          195
         ],
         "y": {
          "bdata": "45Y+EdV5TT+qqsBTfqAwP2k1pi/7Vlc/utoSPKy2dj8WLcpaxIqKP8uaM0RXv5k/hMEQqZhBpT+wBjZDJfOuPyuyKkBgkbQ/PrbmZKJ7uT8QH/sou+G9PxXXGPdpn8A/q6mjm+vuwT+fH4ZTQD/DP6NPrb75T8Q/Cv03NqCtxD9sv6rzM5fEPxqyJCuVfsQ/ZpFovJWlxD/iXkD1IC/FP2OnLj+nncY/+fK3gkwsyT897ytushvMP8bxR/8OLtA/twu6aYXh0z/jV/2qaPnYP4CkgC9+uN4/sVZpzUQs4j+bMUDageLkPw==",
          "dtype": "f8"
         }
        },
        {
         "mode": "lines",
         "name": "5-0116",
         "type": "scatter",
         "x": [
          55,
          60,
          65,
          70,
          75,
          80,
          85,
          90,
          95,
          100,
          105,
          110,
          115,
          120,
          125,
          130,
          135,
          140,
          145,
          150,
          155,
          160,
          165,
          170,
          175,
          180,
          185,
          190,
          195
         ],
         "y": {
          "bdata": "EG87W8jISj+W/eE0vLI5P4IOMNy62Fs/JMNNL7Jddz9tr0HIX+OMP5KC3Z54S50/azFZaWZHqD+djXSZS06yPxksBqNkQ7k/wkSntR8jvj+e4PzLlBq/P5i93ODc97w/lyNHXsZvuT9SWmyqeZm1P5aV0Qh++LI/KKu1ezDRsj9D1r0mAWK0P3AweELEprY/5uV6xnaxuT/oJzJOvhy+P/gz7Gm9RsI/acMsK2nSxj8lHZJvEDLNP9Ux4UU98tI/bgPksmya2D8VIHcJdynfPz1ernWFy+I/blvpStGU5T+942SHrBLoPw==",
          "dtype": "f8"
         }
        },
        {
         "mode": "lines",
         "name": "1-0109",
         "type": "scatter",
         "x": [
          55,
          60,
          65,
          70,
          75,
          80,
          85,
          90,
          95,
          100,
          105,
          110,
          115,
          120,
          125,
          130,
          135,
          140,
          145,
          150,
          155,
          160,
          165,
          170,
          175,
          180,
          185,
          190,
          195
         ],
         "y": {
          "bdata": "7St+kZ77Lz/qoszL3048P7pzqEL54V0/I3MQMuaPdT9W/vc5xiGKP/vQovY+I5o/2tb+erZXpT9NjQlEgwyvP4NEruRJaLU/SMBlv6CVuz+F5AKLplXBP/lf4/JSmcU/dt5NWINDyj9G32Eb44rOP4xI+hyt6NA/DhqxNSfw0T8Klrr/bIDSP9YKteTTzNI/jTciYVS00j+4sk3BxmLSP6jQYaxcNtI/nIIMi6ge0j+EVREFRhjSP3A6bqsuT9I/OSXRvwuQ0z8I/XG1Aq7WPwMfYrSWUNs/jHthM+PS4D9PcAiEFaflPw==",
          "dtype": "f8"
         }
        },
        {
         "mode": "lines",
         "name": "5-0109",
         "type": "scatter",
         "x": [
          55,
          60,
          65,
          70,
          75,
          80,
          85,
          90,
          95,
          100,
          105,
          110,
          115,
          120,
          125,
          130,
          135,
          140,
          145,
          150,
          155,
          160,
          165,
          170,
          175,
          180,
          185,
          190,
          195
         ],
         "y": {
          "bdata": "ZQVCPA+7Qz/GmRH4HVpsP3CDEp7HTIM/2JEcLbqilD9CrfZpf8SjPyVxwkh82rA/kIMrPNfEuT+yHytuEAHCPwHmT0QokcY/xs1fB9HRyT9yvnZIBdbMP9Y6Sgyulc8/plflokh40D+WArY8jBjQP2slbmxFn80/s65z1exxyj9VRwETSIvHP330RZ+RU8U/FI7/ms4vxD/RCvrjB0PEP0PLjaQKX8U/zOELEuOSxz8jtEa1FgrLPyZvITbHzs8/D7isx/n90j9cd1GnqAfXP4V6o6fJY9w/I/FTR7zH4T86XOYG9mLmPw==",
          "dtype": "f8"
         }
        },
        {
         "mode": "lines",
         "name": "1-0008",
         "type": "scatter",
         "x": [
          55,
          60,
          65,
          70,
          75,
          80,
          85,
          90,
          95,
          100,
          105,
          110,
          115,
          120,
          125,
          130,
          135,
          140,
          145,
          150,
          155,
          160,
          165,
          170,
          175,
          180,
          185,
          190,
          195
         ],
         "y": {
          "bdata": "PjfLHzt8Yj9/lu0S0WODPzIB9iaeD5Y/gz5BnXSBoj+gVT/liaWqP7PdYsAAkrE/IWq/HbnftT8QTHO+uwq6P80Iq5D5cL0/BpqMBwl4vz+zdAwo+vC/P5PKaBzjCr8/uOFV0tY4vT/bg3BIx2G6PzIWX+NRabY/RvuTMfOFsj/i57W3Fs+vP+UNlguQfq0/2IA/IOyjrj9GCDWLReSyPxMi3iXUv7o/hgsSnG7lwz/y5gjhGB7NP5CUF2A82NM/Hp/aTXEu2T/QcbEr13jeP9V9/Lmi/eE/NpZ/oPHq5D9f0R93Iv7nPw==",
          "dtype": "f8"
         }
        },
        {
         "mode": "lines",
         "name": "5-0008",
         "type": "scatter",
         "x": [
          55,
          60,
          65,
          70,
          75,
          80,
          85,
          90,
          95,
          100,
          105,
          110,
          115,
          120,
          125,
          130,
          135,
          140,
          145,
          150,
          155,
          160,
          165,
          170,
          175,
          180,
          185,
          190,
          195
         ],
         "y": {
          "bdata": "tIg4anTVOD9TAcj9jlYdP8ysFCT1cRA/9QKsCe4HOz9dr4y/JgNaPz5WV1WbFXE/8eln8dbbgT/1//gwp2WNPw45JnmO1pM/Yu3vYjnIlz9thyPtuy6bP51CqQyN2Z8/gpzVCtJloz8KbvGCPl2nP7ZYARvzuqo/VU5GRmH0rT8bdTppUWaxP4JvAT0nTrU/YECB/ERGuz8Iz/0nohfCPyM5FOjCwcg/StWK1v390D9ledDzCnjWP9Z2s7b8FNw/xIRxRROj4D8JYhImK/HiP4bnAWiRF+U/Pggea/g15z9yXq05zFHpPw==",
          "dtype": "f8"
         }
        },
        {
         "mode": "lines",
         "name": "1-0064",
         "type": "scatter",
         "x": [
          55,
          60,
          65,
          70,
          75,
          80,
          85,
          90,
          95,
          100,
          105,
          110,
          115,
          120,
          125,
          130,
          135,
          140,
          145,
          150,
          155,
          160,
          165,
          170,
          175,
          180,
          185,
          190,
          195
         ],
         "y": {
          "bdata": "amt6wzmIOj+awmvWYNNYP8C2YDFf63k/tlIepZAvjD9jhGOd5FGWP6aqhdWcm54/6B4MbeBkoz8hysXOXtSnP812A2MSu6w/u4sNixPesD+m57aWIKCzPzJaEgcaBrc/SOmQMRy4uj/Q6kbG1TC+P/e+OEZ4fMA/tPa12QRWwT9ms8rO0dDBP0Zt3QHuHsI/q7P2cPQfwj/SBpwA10XCPwcUEsatpcM/EgO53qGixj8wztBT0k/LP2Kz6HR45NA/eiRAuANg1T9OLT8LYyHbP5JumG8lpuA/6POsGKem4z83OMxbg4zmPw==",
          "dtype": "f8"
         }
        },
        {
         "mode": "lines",
         "name": "5-0064",
         "type": "scatter",
         "x": [
          55,
          60,
          65,
          70,
          75,
          80,
          85,
          90,
          95,
          100,
          105,
          110,
          115,
          120,
          125,
          130,
          135,
          140,
          145,
          150,
          155,
          160,
          165,
          170,
          175,
          180,
          185,
          190,
          195
         ],
         "y": {
          "bdata": "X8K8lBvAUj+EqOyoAu11PxZmZIDef40/vsy/Fou8mT/S0EnMtZehP4BHUERJS6Y/2yI0sOmArD+C8SUcIjOyP5K5by/oY7Y/+b08qRZzuT+dnRsiOGC6P9rrFLSR4Lk/r6QHpKQBuT+aby2yfeS3P6bxj9zRmLY/Z0gW1gthtT/LgrLAzWe0P9TZkOQyKrQ/LcwHHxMqtT86Js6j8dq3P42vP7hphLw/2+oIw8gHwj8L9fwDRqDHPxjJASeVV88/pZqkvnrp1D8uYTthHhbbP3M7jSTikuA/4mQVXB5p4z+rsJv2KhvmPw==",
          "dtype": "f8"
         }
        },
        {
         "line": {
          "color": "red",
          "dash": "dash"
         },
         "mode": "lines",
         "name": "Anomaly Threshold",
         "type": "scatter",
         "x": [
          55,
          60,
          65,
          70,
          75,
          80,
          85,
          90,
          95,
          100,
          105,
          110,
          115,
          120,
          125,
          130,
          135,
          140,
          145,
          150,
          155,
          160,
          165,
          170,
          175,
          180,
          185,
          190,
          195
         ],
         "y": [
          0.07576827039536363,
          0.07576827039536363,
          0.07576827039536363,
          0.07576827039536363,
          0.07576827039536363,
          0.07576827039536363,
          0.07576827039536363,
          0.07576827039536363,
          0.07576827039536363,
          0.07576827039536363,
          0.07576827039536363,
          0.07576827039536363,
          0.07576827039536363,
          0.07576827039536363,
          0.07576827039536363,
          0.07576827039536363,
          0.07576827039536363,
          0.07576827039536363,
          0.07576827039536363,
          0.07576827039536363,
          0.07576827039536363,
          0.07576827039536363,
          0.07576827039536363,
          0.07576827039536363,
          0.07576827039536363,
          0.07576827039536363,
          0.07576827039536363,
          0.07576827039536363,
          0.07576827039536363
         ]
        }
       ],
       "layout": {
        "height": 600,
        "hovermode": "x unified",
        "legend": {
         "title": {
          "text": "Components"
         }
        },
        "template": {
         "data": {
          "bar": [
           {
            "error_x": {
             "color": "#2a3f5f"
            },
            "error_y": {
             "color": "#2a3f5f"
            },
            "marker": {
             "line": {
              "color": "#E5ECF6",
              "width": 0.5
             },
             "pattern": {
              "fillmode": "overlay",
              "size": 10,
              "solidity": 0.2
             }
            },
            "type": "bar"
           }
          ],
          "barpolar": [
           {
            "marker": {
             "line": {
              "color": "#E5ECF6",
              "width": 0.5
             },
             "pattern": {
              "fillmode": "overlay",
              "size": 10,
              "solidity": 0.2
             }
            },
            "type": "barpolar"
           }
          ],
          "carpet": [
           {
            "aaxis": {
             "endlinecolor": "#2a3f5f",
             "gridcolor": "white",
             "linecolor": "white",
             "minorgridcolor": "white",
             "startlinecolor": "#2a3f5f"
            },
            "baxis": {
             "endlinecolor": "#2a3f5f",
             "gridcolor": "white",
             "linecolor": "white",
             "minorgridcolor": "white",
             "startlinecolor": "#2a3f5f"
            },
            "type": "carpet"
           }
          ],
          "choropleth": [
           {
            "colorbar": {
             "outlinewidth": 0,
             "ticks": ""
            },
            "type": "choropleth"
           }
          ],
          "contour": [
           {
            "colorbar": {
             "outlinewidth": 0,
             "ticks": ""
            },
            "colorscale": [
             [
              0,
              "#0d0887"
             ],
             [
              0.1111111111111111,
              "#46039f"
             ],
             [
              0.2222222222222222,
              "#7201a8"
             ],
             [
              0.3333333333333333,
              "#9c179e"
             ],
             [
              0.4444444444444444,
              "#bd3786"
             ],
             [
              0.5555555555555556,
              "#d8576b"
             ],
             [
              0.6666666666666666,
              "#ed7953"
             ],
             [
              0.7777777777777778,
              "#fb9f3a"
             ],
             [
              0.8888888888888888,
              "#fdca26"
             ],
             [
              1,
              "#f0f921"
             ]
            ],
            "type": "contour"
           }
          ],
          "contourcarpet": [
           {
            "colorbar": {
             "outlinewidth": 0,
             "ticks": ""
            },
            "type": "contourcarpet"
           }
          ],
          "heatmap": [
           {
            "colorbar": {
             "outlinewidth": 0,
             "ticks": ""
            },
            "colorscale": [
             [
              0,
              "#0d0887"
             ],
             [
              0.1111111111111111,
              "#46039f"
             ],
             [
              0.2222222222222222,
              "#7201a8"
             ],
             [
              0.3333333333333333,
              "#9c179e"
             ],
             [
              0.4444444444444444,
              "#bd3786"
             ],
             [
              0.5555555555555556,
              "#d8576b"
             ],
             [
              0.6666666666666666,
              "#ed7953"
             ],
             [
              0.7777777777777778,
              "#fb9f3a"
             ],
             [
              0.8888888888888888,
              "#fdca26"
             ],
             [
              1,
              "#f0f921"
             ]
            ],
            "type": "heatmap"
           }
          ],
          "histogram": [
           {
            "marker": {
             "pattern": {
              "fillmode": "overlay",
              "size": 10,
              "solidity": 0.2
             }
            },
            "type": "histogram"
           }
          ],
          "histogram2d": [
           {
            "colorbar": {
             "outlinewidth": 0,
             "ticks": ""
            },
            "colorscale": [
             [
              0,
              "#0d0887"
             ],
             [
              0.1111111111111111,
              "#46039f"
             ],
             [
              0.2222222222222222,
              "#7201a8"
             ],
             [
              0.3333333333333333,
              "#9c179e"
             ],
             [
              0.4444444444444444,
              "#bd3786"
             ],
             [
              0.5555555555555556,
              "#d8576b"
             ],
             [
              0.6666666666666666,
              "#ed7953"
             ],
             [
              0.7777777777777778,
              "#fb9f3a"
             ],
             [
              0.8888888888888888,
              "#fdca26"
             ],
             [
              1,
              "#f0f921"
             ]
            ],
            "type": "histogram2d"
           }
          ],
          "histogram2dcontour": [
           {
            "colorbar": {
             "outlinewidth": 0,
             "ticks": ""
            },
            "colorscale": [
             [
              0,
              "#0d0887"
             ],
             [
              0.1111111111111111,
              "#46039f"
             ],
             [
              0.2222222222222222,
              "#7201a8"
             ],
             [
              0.3333333333333333,
              "#9c179e"
             ],
             [
              0.4444444444444444,
              "#bd3786"
             ],
             [
              0.5555555555555556,
              "#d8576b"
             ],
             [
              0.6666666666666666,
              "#ed7953"
             ],
             [
              0.7777777777777778,
              "#fb9f3a"
             ],
             [
              0.8888888888888888,
              "#fdca26"
             ],
             [
              1,
              "#f0f921"
             ]
            ],
            "type": "histogram2dcontour"
           }
          ],
          "mesh3d": [
           {
            "colorbar": {
             "outlinewidth": 0,
             "ticks": ""
            },
            "type": "mesh3d"
           }
          ],
          "parcoords": [
           {
            "line": {
             "colorbar": {
              "outlinewidth": 0,
              "ticks": ""
             }
            },
            "type": "parcoords"
           }
          ],
          "pie": [
           {
            "automargin": true,
            "type": "pie"
           }
          ],
          "scatter": [
           {
            "fillpattern": {
             "fillmode": "overlay",
             "size": 10,
             "solidity": 0.2
            },
            "type": "scatter"
           }
          ],
          "scatter3d": [
           {
            "line": {
             "colorbar": {
              "outlinewidth": 0,
              "ticks": ""
             }
            },
            "marker": {
             "colorbar": {
              "outlinewidth": 0,
              "ticks": ""
             }
            },
            "type": "scatter3d"
           }
          ],
          "scattercarpet": [
           {
            "marker": {
             "colorbar": {
              "outlinewidth": 0,
              "ticks": ""
             }
            },
            "type": "scattercarpet"
           }
          ],
          "scattergeo": [
           {
            "marker": {
             "colorbar": {
              "outlinewidth": 0,
              "ticks": ""
             }
            },
            "type": "scattergeo"
           }
          ],
          "scattergl": [
           {
            "marker": {
             "colorbar": {
              "outlinewidth": 0,
              "ticks": ""
             }
            },
            "type": "scattergl"
           }
          ],
          "scattermap": [
           {
            "marker": {
             "colorbar": {
              "outlinewidth": 0,
              "ticks": ""
             }
            },
            "type": "scattermap"
           }
          ],
          "scattermapbox": [
           {
            "marker": {
             "colorbar": {
              "outlinewidth": 0,
              "ticks": ""
             }
            },
            "type": "scattermapbox"
           }
          ],
          "scatterpolar": [
           {
            "marker": {
             "colorbar": {
              "outlinewidth": 0,
              "ticks": ""
             }
            },
            "type": "scatterpolar"
           }
          ],
          "scatterpolargl": [
           {
            "marker": {
             "colorbar": {
              "outlinewidth": 0,
              "ticks": ""
             }
            },
            "type": "scatterpolargl"
           }
          ],
          "scatterternary": [
           {
            "marker": {
             "colorbar": {
              "outlinewidth": 0,
              "ticks": ""
             }
            },
            "type": "scatterternary"
           }
          ],
          "surface": [
           {
            "colorbar": {
             "outlinewidth": 0,
             "ticks": ""
            },
            "colorscale": [
             [
              0,
              "#0d0887"
             ],
             [
              0.1111111111111111,
              "#46039f"
             ],
             [
              0.2222222222222222,
              "#7201a8"
             ],
             [
              0.3333333333333333,
              "#9c179e"
             ],
             [
              0.4444444444444444,
              "#bd3786"
             ],
             [
              0.5555555555555556,
              "#d8576b"
             ],
             [
              0.6666666666666666,
              "#ed7953"
             ],
             [
              0.7777777777777778,
              "#fb9f3a"
             ],
             [
              0.8888888888888888,
              "#fdca26"
             ],
             [
              1,
              "#f0f921"
             ]
            ],
            "type": "surface"
           }
          ],
          "table": [
           {
            "cells": {
             "fill": {
              "color": "#EBF0F8"
             },
             "line": {
              "color": "white"
             }
            },
            "header": {
             "fill": {
              "color": "#C8D4E3"
             },
             "line": {
              "color": "white"
             }
            },
            "type": "table"
           }
          ]
         },
         "layout": {
          "annotationdefaults": {
           "arrowcolor": "#2a3f5f",
           "arrowhead": 0,
           "arrowwidth": 1
          },
          "autotypenumbers": "strict",
          "coloraxis": {
           "colorbar": {
            "outlinewidth": 0,
            "ticks": ""
           }
          },
          "colorscale": {
           "diverging": [
            [
             0,
             "#8e0152"
            ],
            [
             0.1,
             "#c51b7d"
            ],
            [
             0.2,
             "#de77ae"
            ],
            [
             0.3,
             "#f1b6da"
            ],
            [
             0.4,
             "#fde0ef"
            ],
            [
             0.5,
             "#f7f7f7"
            ],
            [
             0.6,
             "#e6f5d0"
            ],
            [
             0.7,
             "#b8e186"
            ],
            [
             0.8,
             "#7fbc41"
            ],
            [
             0.9,
             "#4d9221"
            ],
            [
             1,
             "#276419"
            ]
           ],
           "sequential": [
            [
             0,
             "#0d0887"
            ],
            [
             0.1111111111111111,
             "#46039f"
            ],
            [
             0.2222222222222222,
             "#7201a8"
            ],
            [
             0.3333333333333333,
             "#9c179e"
            ],
            [
             0.4444444444444444,
             "#bd3786"
            ],
            [
             0.5555555555555556,
             "#d8576b"
            ],
            [
             0.6666666666666666,
             "#ed7953"
            ],
            [
             0.7777777777777778,
             "#fb9f3a"
            ],
            [
             0.8888888888888888,
             "#fdca26"
            ],
            [
             1,
             "#f0f921"
            ]
           ],
           "sequentialminus": [
            [
             0,
             "#0d0887"
            ],
            [
             0.1111111111111111,
             "#46039f"
            ],
            [
             0.2222222222222222,
             "#7201a8"
            ],
            [
             0.3333333333333333,
             "#9c179e"
            ],
            [
             0.4444444444444444,
             "#bd3786"
            ],
            [
             0.5555555555555556,
             "#d8576b"
            ],
            [
             0.6666666666666666,
             "#ed7953"
            ],
            [
             0.7777777777777778,
             "#fb9f3a"
            ],
            [
             0.8888888888888888,
             "#fdca26"
            ],
            [
             1,
             "#f0f921"
            ]
           ]
          },
          "colorway": [
           "#636efa",
           "#EF553B",
           "#00cc96",
           "#ab63fa",
           "#FFA15A",
           "#19d3f3",
           "#FF6692",
           "#B6E880",
           "#FF97FF",
           "#FECB52"
          ],
          "font": {
           "color": "#2a3f5f"
          },
          "geo": {
           "bgcolor": "white",
           "lakecolor": "white",
           "landcolor": "#E5ECF6",
           "showlakes": true,
           "showland": true,
           "subunitcolor": "white"
          },
          "hoverlabel": {
           "align": "left"
          },
          "hovermode": "closest",
          "mapbox": {
           "style": "light"
          },
          "paper_bgcolor": "white",
          "plot_bgcolor": "#E5ECF6",
          "polar": {
           "angularaxis": {
            "gridcolor": "white",
            "linecolor": "white",
            "ticks": ""
           },
           "bgcolor": "#E5ECF6",
           "radialaxis": {
            "gridcolor": "white",
            "linecolor": "white",
            "ticks": ""
           }
          },
          "scene": {
           "xaxis": {
            "backgroundcolor": "#E5ECF6",
            "gridcolor": "white",
            "gridwidth": 2,
            "linecolor": "white",
            "showbackground": true,
            "ticks": "",
            "zerolinecolor": "white"
           },
           "yaxis": {
            "backgroundcolor": "#E5ECF6",
            "gridcolor": "white",
            "gridwidth": 2,
            "linecolor": "white",
            "showbackground": true,
            "ticks": "",
            "zerolinecolor": "white"
           },
           "zaxis": {
            "backgroundcolor": "#E5ECF6",
            "gridcolor": "white",
            "gridwidth": 2,
            "linecolor": "white",
            "showbackground": true,
            "ticks": "",
            "zerolinecolor": "white"
           }
          },
          "shapedefaults": {
           "line": {
            "color": "#2a3f5f"
           }
          },
          "ternary": {
           "aaxis": {
            "gridcolor": "white",
            "linecolor": "white",
            "ticks": ""
           },
           "baxis": {
            "gridcolor": "white",
            "linecolor": "white",
            "ticks": ""
           },
           "bgcolor": "#E5ECF6",
           "caxis": {
            "gridcolor": "white",
            "linecolor": "white",
            "ticks": ""
           }
          },
          "title": {
           "x": 0.05
          },
          "xaxis": {
           "automargin": true,
           "gridcolor": "white",
           "linecolor": "white",
           "ticks": "",
           "title": {
            "standoff": 15
           },
           "zerolinecolor": "white",
           "zerolinewidth": 2
          },
          "yaxis": {
           "automargin": true,
           "gridcolor": "white",
           "linecolor": "white",
           "ticks": "",
           "title": {
            "standoff": 15
           },
           "zerolinecolor": "white",
           "zerolinewidth": 2
          }
         }
        },
        "title": {
         "text": "Reconstruction Errors for Validation Components Over Time"
        },
        "width": 1000,
        "xaxis": {
         "title": {
          "text": "Momento (seconds)"
         }
        },
        "yaxis": {
         "title": {
          "text": "Reconstruction Error"
         }
        }
       }
      }
     },
     "metadata": {},
     "output_type": "display_data"
    }
   ],
   "source": [
    "import plotly.graph_objects as go\n",
    "\n",
    "labels = defective_columns + normal_control_columns  # your 8 real validation columns\n",
    "\n",
    "fig = go.Figure()\n",
    "\n",
    "# Plot each error line\n",
    "for i in range(focused_errors.shape[1]):\n",
    "    fig.add_trace(go.Scatter(\n",
    "        x=window_momentos,\n",
    "        y=focused_errors[:, i],\n",
    "        mode='lines',\n",
    "        name=labels[i]\n",
    "    ))\n",
    "\n",
    "# Add anomaly threshold line\n",
    "fig.add_trace(go.Scatter(\n",
    "    x=window_momentos,\n",
    "    y=[threshold] * len(window_momentos),\n",
    "    mode='lines',\n",
    "    name='Anomaly Threshold',\n",
    "    line=dict(color='red', dash='dash')\n",
    "))\n",
    "\n",
    "# Customize layout\n",
    "fig.update_layout(\n",
    "    title=\"Reconstruction Errors for Validation Components Over Time\",\n",
    "    xaxis_title=\"Momento (seconds)\",\n",
    "    yaxis_title=\"Reconstruction Error\",\n",
    "    height=600,\n",
    "    width=1000,\n",
    "    legend_title=\"Components\",\n",
    "    hovermode=\"x unified\"\n",
    ")\n",
    "\n",
    "fig.show()\n",
    "\n",
    "\n"
   ]
  },
  {
   "cell_type": "code",
   "execution_count": 26,
   "id": "ded035cf",
   "metadata": {},
   "outputs": [
    {
     "data": {
      "application/vnd.plotly.v1+json": {
       "config": {
        "plotlyServerURL": "https://plot.ly"
       },
       "data": [
        {
         "mode": "lines",
         "name": "1-0116",
         "type": "scatter",
         "x": [
          55,
          60,
          65,
          70,
          75,
          80,
          85,
          90,
          95,
          100,
          105,
          110,
          115,
          120,
          125,
          130,
          135,
          140,
          145,
          150,
          155,
          160,
          165,
          170,
          175,
          180,
          185,
          190,
          195
         ],
         "y": {
          "bdata": "45Y+EdV5TT+qqsBTfqAwP2k1pi/7Vlc/utoSPKy2dj8WLcpaxIqKP8uaM0RXv5k/hMEQqZhBpT+wBjZDJfOuPyuyKkBgkbQ/PrbmZKJ7uT8QH/sou+G9PxXXGPdpn8A/q6mjm+vuwT+fH4ZTQD/DP6NPrb75T8Q/Cv03NqCtxD9sv6rzM5fEPxqyJCuVfsQ/ZpFovJWlxD/iXkD1IC/FP2OnLj+nncY/+fK3gkwsyT897ytushvMP8bxR/8OLtA/twu6aYXh0z/jV/2qaPnYP4CkgC9+uN4/sVZpzUQs4j+bMUDageLkPw==",
          "dtype": "f8"
         }
        },
        {
         "mode": "lines",
         "name": "5-0116",
         "type": "scatter",
         "x": [
          55,
          60,
          65,
          70,
          75,
          80,
          85,
          90,
          95,
          100,
          105,
          110,
          115,
          120,
          125,
          130,
          135,
          140,
          145,
          150,
          155,
          160,
          165,
          170,
          175,
          180,
          185,
          190,
          195
         ],
         "y": {
          "bdata": "EG87W8jISj+W/eE0vLI5P4IOMNy62Fs/JMNNL7Jddz9tr0HIX+OMP5KC3Z54S50/azFZaWZHqD+djXSZS06yPxksBqNkQ7k/wkSntR8jvj+e4PzLlBq/P5i93ODc97w/lyNHXsZvuT9SWmyqeZm1P5aV0Qh++LI/KKu1ezDRsj9D1r0mAWK0P3AweELEprY/5uV6xnaxuT/oJzJOvhy+P/gz7Gm9RsI/acMsK2nSxj8lHZJvEDLNP9Ux4UU98tI/bgPksmya2D8VIHcJdynfPz1ernWFy+I/blvpStGU5T+942SHrBLoPw==",
          "dtype": "f8"
         }
        },
        {
         "mode": "lines",
         "name": "1-0109",
         "type": "scatter",
         "x": [
          55,
          60,
          65,
          70,
          75,
          80,
          85,
          90,
          95,
          100,
          105,
          110,
          115,
          120,
          125,
          130,
          135,
          140,
          145,
          150,
          155,
          160,
          165,
          170,
          175,
          180,
          185,
          190,
          195
         ],
         "y": {
          "bdata": "7St+kZ77Lz/qoszL3048P7pzqEL54V0/I3MQMuaPdT9W/vc5xiGKP/vQovY+I5o/2tb+erZXpT9NjQlEgwyvP4NEruRJaLU/SMBlv6CVuz+F5AKLplXBP/lf4/JSmcU/dt5NWINDyj9G32Eb44rOP4xI+hyt6NA/DhqxNSfw0T8Klrr/bIDSP9YKteTTzNI/jTciYVS00j+4sk3BxmLSP6jQYaxcNtI/nIIMi6ge0j+EVREFRhjSP3A6bqsuT9I/OSXRvwuQ0z8I/XG1Aq7WPwMfYrSWUNs/jHthM+PS4D9PcAiEFaflPw==",
          "dtype": "f8"
         }
        },
        {
         "mode": "lines",
         "name": "5-0109",
         "type": "scatter",
         "x": [
          55,
          60,
          65,
          70,
          75,
          80,
          85,
          90,
          95,
          100,
          105,
          110,
          115,
          120,
          125,
          130,
          135,
          140,
          145,
          150,
          155,
          160,
          165,
          170,
          175,
          180,
          185,
          190,
          195
         ],
         "y": {
          "bdata": "ZQVCPA+7Qz/GmRH4HVpsP3CDEp7HTIM/2JEcLbqilD9CrfZpf8SjPyVxwkh82rA/kIMrPNfEuT+yHytuEAHCPwHmT0QokcY/xs1fB9HRyT9yvnZIBdbMP9Y6Sgyulc8/plflokh40D+WArY8jBjQP2slbmxFn80/s65z1exxyj9VRwETSIvHP330RZ+RU8U/FI7/ms4vxD/RCvrjB0PEP0PLjaQKX8U/zOELEuOSxz8jtEa1FgrLPyZvITbHzs8/D7isx/n90j9cd1GnqAfXP4V6o6fJY9w/I/FTR7zH4T86XOYG9mLmPw==",
          "dtype": "f8"
         }
        },
        {
         "mode": "lines",
         "name": "1-0008",
         "type": "scatter",
         "x": [
          55,
          60,
          65,
          70,
          75,
          80,
          85,
          90,
          95,
          100,
          105,
          110,
          115,
          120,
          125,
          130,
          135,
          140,
          145,
          150,
          155,
          160,
          165,
          170,
          175,
          180,
          185,
          190,
          195
         ],
         "y": {
          "bdata": "PjfLHzt8Yj9/lu0S0WODPzIB9iaeD5Y/gz5BnXSBoj+gVT/liaWqP7PdYsAAkrE/IWq/HbnftT8QTHO+uwq6P80Iq5D5cL0/BpqMBwl4vz+zdAwo+vC/P5PKaBzjCr8/uOFV0tY4vT/bg3BIx2G6PzIWX+NRabY/RvuTMfOFsj/i57W3Fs+vP+UNlguQfq0/2IA/IOyjrj9GCDWLReSyPxMi3iXUv7o/hgsSnG7lwz/y5gjhGB7NP5CUF2A82NM/Hp/aTXEu2T/QcbEr13jeP9V9/Lmi/eE/NpZ/oPHq5D9f0R93Iv7nPw==",
          "dtype": "f8"
         }
        },
        {
         "mode": "lines",
         "name": "5-0008",
         "type": "scatter",
         "x": [
          55,
          60,
          65,
          70,
          75,
          80,
          85,
          90,
          95,
          100,
          105,
          110,
          115,
          120,
          125,
          130,
          135,
          140,
          145,
          150,
          155,
          160,
          165,
          170,
          175,
          180,
          185,
          190,
          195
         ],
         "y": {
          "bdata": "tIg4anTVOD9TAcj9jlYdP8ysFCT1cRA/9QKsCe4HOz9dr4y/JgNaPz5WV1WbFXE/8eln8dbbgT/1//gwp2WNPw45JnmO1pM/Yu3vYjnIlz9thyPtuy6bP51CqQyN2Z8/gpzVCtJloz8KbvGCPl2nP7ZYARvzuqo/VU5GRmH0rT8bdTppUWaxP4JvAT0nTrU/YECB/ERGuz8Iz/0nohfCPyM5FOjCwcg/StWK1v390D9ledDzCnjWP9Z2s7b8FNw/xIRxRROj4D8JYhImK/HiP4bnAWiRF+U/Pggea/g15z9yXq05zFHpPw==",
          "dtype": "f8"
         }
        },
        {
         "mode": "lines",
         "name": "1-0064",
         "type": "scatter",
         "x": [
          55,
          60,
          65,
          70,
          75,
          80,
          85,
          90,
          95,
          100,
          105,
          110,
          115,
          120,
          125,
          130,
          135,
          140,
          145,
          150,
          155,
          160,
          165,
          170,
          175,
          180,
          185,
          190,
          195
         ],
         "y": {
          "bdata": "amt6wzmIOj+awmvWYNNYP8C2YDFf63k/tlIepZAvjD9jhGOd5FGWP6aqhdWcm54/6B4MbeBkoz8hysXOXtSnP812A2MSu6w/u4sNixPesD+m57aWIKCzPzJaEgcaBrc/SOmQMRy4uj/Q6kbG1TC+P/e+OEZ4fMA/tPa12QRWwT9ms8rO0dDBP0Zt3QHuHsI/q7P2cPQfwj/SBpwA10XCPwcUEsatpcM/EgO53qGixj8wztBT0k/LP2Kz6HR45NA/eiRAuANg1T9OLT8LYyHbP5JumG8lpuA/6POsGKem4z83OMxbg4zmPw==",
          "dtype": "f8"
         }
        },
        {
         "mode": "lines",
         "name": "5-0064",
         "type": "scatter",
         "x": [
          55,
          60,
          65,
          70,
          75,
          80,
          85,
          90,
          95,
          100,
          105,
          110,
          115,
          120,
          125,
          130,
          135,
          140,
          145,
          150,
          155,
          160,
          165,
          170,
          175,
          180,
          185,
          190,
          195
         ],
         "y": {
          "bdata": "X8K8lBvAUj+EqOyoAu11PxZmZIDef40/vsy/Fou8mT/S0EnMtZehP4BHUERJS6Y/2yI0sOmArD+C8SUcIjOyP5K5by/oY7Y/+b08qRZzuT+dnRsiOGC6P9rrFLSR4Lk/r6QHpKQBuT+aby2yfeS3P6bxj9zRmLY/Z0gW1gthtT/LgrLAzWe0P9TZkOQyKrQ/LcwHHxMqtT86Js6j8dq3P42vP7hphLw/2+oIw8gHwj8L9fwDRqDHPxjJASeVV88/pZqkvnrp1D8uYTthHhbbP3M7jSTikuA/4mQVXB5p4z+rsJv2KhvmPw==",
          "dtype": "f8"
         }
        },
        {
         "line": {
          "color": "red",
          "dash": "dash"
         },
         "mode": "lines",
         "name": "Anomaly Threshold",
         "type": "scatter",
         "x": [
          55,
          60,
          65,
          70,
          75,
          80,
          85,
          90,
          95,
          100,
          105,
          110,
          115,
          120,
          125,
          130,
          135,
          140,
          145,
          150,
          155,
          160,
          165,
          170,
          175,
          180,
          185,
          190,
          195
         ],
         "y": [
          0.07576827039536363,
          0.07576827039536363,
          0.07576827039536363,
          0.07576827039536363,
          0.07576827039536363,
          0.07576827039536363,
          0.07576827039536363,
          0.07576827039536363,
          0.07576827039536363,
          0.07576827039536363,
          0.07576827039536363,
          0.07576827039536363,
          0.07576827039536363,
          0.07576827039536363,
          0.07576827039536363,
          0.07576827039536363,
          0.07576827039536363,
          0.07576827039536363,
          0.07576827039536363,
          0.07576827039536363,
          0.07576827039536363,
          0.07576827039536363,
          0.07576827039536363,
          0.07576827039536363,
          0.07576827039536363,
          0.07576827039536363,
          0.07576827039536363,
          0.07576827039536363,
          0.07576827039536363
         ]
        }
       ],
       "layout": {
        "height": 600,
        "hovermode": "x unified",
        "legend": {
         "title": {
          "text": "Components"
         }
        },
        "template": {
         "data": {
          "bar": [
           {
            "error_x": {
             "color": "#2a3f5f"
            },
            "error_y": {
             "color": "#2a3f5f"
            },
            "marker": {
             "line": {
              "color": "#E5ECF6",
              "width": 0.5
             },
             "pattern": {
              "fillmode": "overlay",
              "size": 10,
              "solidity": 0.2
             }
            },
            "type": "bar"
           }
          ],
          "barpolar": [
           {
            "marker": {
             "line": {
              "color": "#E5ECF6",
              "width": 0.5
             },
             "pattern": {
              "fillmode": "overlay",
              "size": 10,
              "solidity": 0.2
             }
            },
            "type": "barpolar"
           }
          ],
          "carpet": [
           {
            "aaxis": {
             "endlinecolor": "#2a3f5f",
             "gridcolor": "white",
             "linecolor": "white",
             "minorgridcolor": "white",
             "startlinecolor": "#2a3f5f"
            },
            "baxis": {
             "endlinecolor": "#2a3f5f",
             "gridcolor": "white",
             "linecolor": "white",
             "minorgridcolor": "white",
             "startlinecolor": "#2a3f5f"
            },
            "type": "carpet"
           }
          ],
          "choropleth": [
           {
            "colorbar": {
             "outlinewidth": 0,
             "ticks": ""
            },
            "type": "choropleth"
           }
          ],
          "contour": [
           {
            "colorbar": {
             "outlinewidth": 0,
             "ticks": ""
            },
            "colorscale": [
             [
              0,
              "#0d0887"
             ],
             [
              0.1111111111111111,
              "#46039f"
             ],
             [
              0.2222222222222222,
              "#7201a8"
             ],
             [
              0.3333333333333333,
              "#9c179e"
             ],
             [
              0.4444444444444444,
              "#bd3786"
             ],
             [
              0.5555555555555556,
              "#d8576b"
             ],
             [
              0.6666666666666666,
              "#ed7953"
             ],
             [
              0.7777777777777778,
              "#fb9f3a"
             ],
             [
              0.8888888888888888,
              "#fdca26"
             ],
             [
              1,
              "#f0f921"
             ]
            ],
            "type": "contour"
           }
          ],
          "contourcarpet": [
           {
            "colorbar": {
             "outlinewidth": 0,
             "ticks": ""
            },
            "type": "contourcarpet"
           }
          ],
          "heatmap": [
           {
            "colorbar": {
             "outlinewidth": 0,
             "ticks": ""
            },
            "colorscale": [
             [
              0,
              "#0d0887"
             ],
             [
              0.1111111111111111,
              "#46039f"
             ],
             [
              0.2222222222222222,
              "#7201a8"
             ],
             [
              0.3333333333333333,
              "#9c179e"
             ],
             [
              0.4444444444444444,
              "#bd3786"
             ],
             [
              0.5555555555555556,
              "#d8576b"
             ],
             [
              0.6666666666666666,
              "#ed7953"
             ],
             [
              0.7777777777777778,
              "#fb9f3a"
             ],
             [
              0.8888888888888888,
              "#fdca26"
             ],
             [
              1,
              "#f0f921"
             ]
            ],
            "type": "heatmap"
           }
          ],
          "histogram": [
           {
            "marker": {
             "pattern": {
              "fillmode": "overlay",
              "size": 10,
              "solidity": 0.2
             }
            },
            "type": "histogram"
           }
          ],
          "histogram2d": [
           {
            "colorbar": {
             "outlinewidth": 0,
             "ticks": ""
            },
            "colorscale": [
             [
              0,
              "#0d0887"
             ],
             [
              0.1111111111111111,
              "#46039f"
             ],
             [
              0.2222222222222222,
              "#7201a8"
             ],
             [
              0.3333333333333333,
              "#9c179e"
             ],
             [
              0.4444444444444444,
              "#bd3786"
             ],
             [
              0.5555555555555556,
              "#d8576b"
             ],
             [
              0.6666666666666666,
              "#ed7953"
             ],
             [
              0.7777777777777778,
              "#fb9f3a"
             ],
             [
              0.8888888888888888,
              "#fdca26"
             ],
             [
              1,
              "#f0f921"
             ]
            ],
            "type": "histogram2d"
           }
          ],
          "histogram2dcontour": [
           {
            "colorbar": {
             "outlinewidth": 0,
             "ticks": ""
            },
            "colorscale": [
             [
              0,
              "#0d0887"
             ],
             [
              0.1111111111111111,
              "#46039f"
             ],
             [
              0.2222222222222222,
              "#7201a8"
             ],
             [
              0.3333333333333333,
              "#9c179e"
             ],
             [
              0.4444444444444444,
              "#bd3786"
             ],
             [
              0.5555555555555556,
              "#d8576b"
             ],
             [
              0.6666666666666666,
              "#ed7953"
             ],
             [
              0.7777777777777778,
              "#fb9f3a"
             ],
             [
              0.8888888888888888,
              "#fdca26"
             ],
             [
              1,
              "#f0f921"
             ]
            ],
            "type": "histogram2dcontour"
           }
          ],
          "mesh3d": [
           {
            "colorbar": {
             "outlinewidth": 0,
             "ticks": ""
            },
            "type": "mesh3d"
           }
          ],
          "parcoords": [
           {
            "line": {
             "colorbar": {
              "outlinewidth": 0,
              "ticks": ""
             }
            },
            "type": "parcoords"
           }
          ],
          "pie": [
           {
            "automargin": true,
            "type": "pie"
           }
          ],
          "scatter": [
           {
            "fillpattern": {
             "fillmode": "overlay",
             "size": 10,
             "solidity": 0.2
            },
            "type": "scatter"
           }
          ],
          "scatter3d": [
           {
            "line": {
             "colorbar": {
              "outlinewidth": 0,
              "ticks": ""
             }
            },
            "marker": {
             "colorbar": {
              "outlinewidth": 0,
              "ticks": ""
             }
            },
            "type": "scatter3d"
           }
          ],
          "scattercarpet": [
           {
            "marker": {
             "colorbar": {
              "outlinewidth": 0,
              "ticks": ""
             }
            },
            "type": "scattercarpet"
           }
          ],
          "scattergeo": [
           {
            "marker": {
             "colorbar": {
              "outlinewidth": 0,
              "ticks": ""
             }
            },
            "type": "scattergeo"
           }
          ],
          "scattergl": [
           {
            "marker": {
             "colorbar": {
              "outlinewidth": 0,
              "ticks": ""
             }
            },
            "type": "scattergl"
           }
          ],
          "scattermap": [
           {
            "marker": {
             "colorbar": {
              "outlinewidth": 0,
              "ticks": ""
             }
            },
            "type": "scattermap"
           }
          ],
          "scattermapbox": [
           {
            "marker": {
             "colorbar": {
              "outlinewidth": 0,
              "ticks": ""
             }
            },
            "type": "scattermapbox"
           }
          ],
          "scatterpolar": [
           {
            "marker": {
             "colorbar": {
              "outlinewidth": 0,
              "ticks": ""
             }
            },
            "type": "scatterpolar"
           }
          ],
          "scatterpolargl": [
           {
            "marker": {
             "colorbar": {
              "outlinewidth": 0,
              "ticks": ""
             }
            },
            "type": "scatterpolargl"
           }
          ],
          "scatterternary": [
           {
            "marker": {
             "colorbar": {
              "outlinewidth": 0,
              "ticks": ""
             }
            },
            "type": "scatterternary"
           }
          ],
          "surface": [
           {
            "colorbar": {
             "outlinewidth": 0,
             "ticks": ""
            },
            "colorscale": [
             [
              0,
              "#0d0887"
             ],
             [
              0.1111111111111111,
              "#46039f"
             ],
             [
              0.2222222222222222,
              "#7201a8"
             ],
             [
              0.3333333333333333,
              "#9c179e"
             ],
             [
              0.4444444444444444,
              "#bd3786"
             ],
             [
              0.5555555555555556,
              "#d8576b"
             ],
             [
              0.6666666666666666,
              "#ed7953"
             ],
             [
              0.7777777777777778,
              "#fb9f3a"
             ],
             [
              0.8888888888888888,
              "#fdca26"
             ],
             [
              1,
              "#f0f921"
             ]
            ],
            "type": "surface"
           }
          ],
          "table": [
           {
            "cells": {
             "fill": {
              "color": "#EBF0F8"
             },
             "line": {
              "color": "white"
             }
            },
            "header": {
             "fill": {
              "color": "#C8D4E3"
             },
             "line": {
              "color": "white"
             }
            },
            "type": "table"
           }
          ]
         },
         "layout": {
          "annotationdefaults": {
           "arrowcolor": "#2a3f5f",
           "arrowhead": 0,
           "arrowwidth": 1
          },
          "autotypenumbers": "strict",
          "coloraxis": {
           "colorbar": {
            "outlinewidth": 0,
            "ticks": ""
           }
          },
          "colorscale": {
           "diverging": [
            [
             0,
             "#8e0152"
            ],
            [
             0.1,
             "#c51b7d"
            ],
            [
             0.2,
             "#de77ae"
            ],
            [
             0.3,
             "#f1b6da"
            ],
            [
             0.4,
             "#fde0ef"
            ],
            [
             0.5,
             "#f7f7f7"
            ],
            [
             0.6,
             "#e6f5d0"
            ],
            [
             0.7,
             "#b8e186"
            ],
            [
             0.8,
             "#7fbc41"
            ],
            [
             0.9,
             "#4d9221"
            ],
            [
             1,
             "#276419"
            ]
           ],
           "sequential": [
            [
             0,
             "#0d0887"
            ],
            [
             0.1111111111111111,
             "#46039f"
            ],
            [
             0.2222222222222222,
             "#7201a8"
            ],
            [
             0.3333333333333333,
             "#9c179e"
            ],
            [
             0.4444444444444444,
             "#bd3786"
            ],
            [
             0.5555555555555556,
             "#d8576b"
            ],
            [
             0.6666666666666666,
             "#ed7953"
            ],
            [
             0.7777777777777778,
             "#fb9f3a"
            ],
            [
             0.8888888888888888,
             "#fdca26"
            ],
            [
             1,
             "#f0f921"
            ]
           ],
           "sequentialminus": [
            [
             0,
             "#0d0887"
            ],
            [
             0.1111111111111111,
             "#46039f"
            ],
            [
             0.2222222222222222,
             "#7201a8"
            ],
            [
             0.3333333333333333,
             "#9c179e"
            ],
            [
             0.4444444444444444,
             "#bd3786"
            ],
            [
             0.5555555555555556,
             "#d8576b"
            ],
            [
             0.6666666666666666,
             "#ed7953"
            ],
            [
             0.7777777777777778,
             "#fb9f3a"
            ],
            [
             0.8888888888888888,
             "#fdca26"
            ],
            [
             1,
             "#f0f921"
            ]
           ]
          },
          "colorway": [
           "#636efa",
           "#EF553B",
           "#00cc96",
           "#ab63fa",
           "#FFA15A",
           "#19d3f3",
           "#FF6692",
           "#B6E880",
           "#FF97FF",
           "#FECB52"
          ],
          "font": {
           "color": "#2a3f5f"
          },
          "geo": {
           "bgcolor": "white",
           "lakecolor": "white",
           "landcolor": "#E5ECF6",
           "showlakes": true,
           "showland": true,
           "subunitcolor": "white"
          },
          "hoverlabel": {
           "align": "left"
          },
          "hovermode": "closest",
          "mapbox": {
           "style": "light"
          },
          "paper_bgcolor": "white",
          "plot_bgcolor": "#E5ECF6",
          "polar": {
           "angularaxis": {
            "gridcolor": "white",
            "linecolor": "white",
            "ticks": ""
           },
           "bgcolor": "#E5ECF6",
           "radialaxis": {
            "gridcolor": "white",
            "linecolor": "white",
            "ticks": ""
           }
          },
          "scene": {
           "xaxis": {
            "backgroundcolor": "#E5ECF6",
            "gridcolor": "white",
            "gridwidth": 2,
            "linecolor": "white",
            "showbackground": true,
            "ticks": "",
            "zerolinecolor": "white"
           },
           "yaxis": {
            "backgroundcolor": "#E5ECF6",
            "gridcolor": "white",
            "gridwidth": 2,
            "linecolor": "white",
            "showbackground": true,
            "ticks": "",
            "zerolinecolor": "white"
           },
           "zaxis": {
            "backgroundcolor": "#E5ECF6",
            "gridcolor": "white",
            "gridwidth": 2,
            "linecolor": "white",
            "showbackground": true,
            "ticks": "",
            "zerolinecolor": "white"
           }
          },
          "shapedefaults": {
           "line": {
            "color": "#2a3f5f"
           }
          },
          "ternary": {
           "aaxis": {
            "gridcolor": "white",
            "linecolor": "white",
            "ticks": ""
           },
           "baxis": {
            "gridcolor": "white",
            "linecolor": "white",
            "ticks": ""
           },
           "bgcolor": "#E5ECF6",
           "caxis": {
            "gridcolor": "white",
            "linecolor": "white",
            "ticks": ""
           }
          },
          "title": {
           "x": 0.05
          },
          "xaxis": {
           "automargin": true,
           "gridcolor": "white",
           "linecolor": "white",
           "ticks": "",
           "title": {
            "standoff": 15
           },
           "zerolinecolor": "white",
           "zerolinewidth": 2
          },
          "yaxis": {
           "automargin": true,
           "gridcolor": "white",
           "linecolor": "white",
           "ticks": "",
           "title": {
            "standoff": 15
           },
           "zerolinecolor": "white",
           "zerolinewidth": 2
          }
         }
        },
        "title": {
         "text": "Reconstruction Errors for Validation Components Over Time"
        },
        "width": 1000,
        "xaxis": {
         "title": {
          "text": "Momento (seconds)"
         }
        },
        "yaxis": {
         "title": {
          "text": "Reconstruction Error"
         }
        }
       }
      }
     },
     "metadata": {},
     "output_type": "display_data"
    }
   ],
   "source": [
    "import plotly.graph_objects as go\n",
    "\n",
    "labels = defective_columns + normal_control_columns  # your 8 real validation columns\n",
    "\n",
    "fig = go.Figure()\n",
    "\n",
    "# Plot each error line\n",
    "for i in range(focused_errors.shape[1]):\n",
    "    fig.add_trace(go.Scatter(\n",
    "        x=window_momentos,\n",
    "        y=focused_errors[:, i],\n",
    "        mode='lines',\n",
    "        name=labels[i]\n",
    "    ))\n",
    "\n",
    "# Add anomaly threshold line\n",
    "fig.add_trace(go.Scatter(\n",
    "    x=window_momentos,\n",
    "    y=[threshold] * len(window_momentos),\n",
    "    mode='lines',\n",
    "    name='Anomaly Threshold',\n",
    "    line=dict(color='red', dash='dash')\n",
    "))\n",
    "\n",
    "# Customize layout\n",
    "fig.update_layout(\n",
    "    title=\"Reconstruction Errors for Validation Components Over Time\",\n",
    "    xaxis_title=\"Momento (seconds)\",\n",
    "    yaxis_title=\"Reconstruction Error\",\n",
    "    height=600,\n",
    "    width=1000,\n",
    "    legend_title=\"Components\",\n",
    "    hovermode=\"x unified\"\n",
    ")\n",
    "\n",
    "fig.show()\n"
   ]
  }
 ],
 "metadata": {
  "kernelspec": {
   "display_name": "tf310",
   "language": "python",
   "name": "python3"
  },
  "language_info": {
   "codemirror_mode": {
    "name": "ipython",
    "version": 3
   },
   "file_extension": ".py",
   "mimetype": "text/x-python",
   "name": "python",
   "nbconvert_exporter": "python",
   "pygments_lexer": "ipython3",
   "version": "3.10.16"
  }
 },
 "nbformat": 4,
 "nbformat_minor": 5
}
